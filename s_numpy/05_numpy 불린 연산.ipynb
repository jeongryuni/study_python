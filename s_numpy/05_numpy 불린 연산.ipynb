{
 "cells": [
  {
   "cell_type": "code",
   "execution_count": 1,
   "id": "initial_id",
   "metadata": {
    "collapsed": true,
    "ExecuteTime": {
     "end_time": "2024-03-18T09:31:16.924576Z",
     "start_time": "2024-03-18T09:31:16.846279Z"
    }
   },
   "outputs": [],
   "source": [
    "import numpy as np"
   ]
  },
  {
   "cell_type": "code",
   "outputs": [],
   "source": [
    "array1 = np.array([2, 3, 5, 7, 11, 13, 17 ,19 , 23, 29, 31])"
   ],
   "metadata": {
    "collapsed": false,
    "ExecuteTime": {
     "end_time": "2024-03-18T09:32:03.594753Z",
     "start_time": "2024-03-18T09:32:03.591352Z"
    }
   },
   "id": "941fa3f61ff1a966",
   "execution_count": 3
  },
  {
   "cell_type": "code",
   "outputs": [
    {
     "data": {
      "text/plain": "array([False, False,  True,  True,  True,  True,  True,  True,  True,\n        True,  True])"
     },
     "execution_count": 4,
     "metadata": {},
     "output_type": "execute_result"
    }
   ],
   "source": [
    "array1 > 4"
   ],
   "metadata": {
    "collapsed": false,
    "ExecuteTime": {
     "end_time": "2024-03-18T09:32:21.768194Z",
     "start_time": "2024-03-18T09:32:21.763771Z"
    }
   },
   "id": "d1fdfb408b994224",
   "execution_count": 4
  },
  {
   "cell_type": "code",
   "outputs": [
    {
     "data": {
      "text/plain": "array([ True, False, False, False, False, False, False, False, False,\n       False, False])"
     },
     "execution_count": 5,
     "metadata": {},
     "output_type": "execute_result"
    }
   ],
   "source": [
    "array1 % 2 == 0"
   ],
   "metadata": {
    "collapsed": false,
    "ExecuteTime": {
     "end_time": "2024-03-18T09:33:01.696777Z",
     "start_time": "2024-03-18T09:33:01.691307Z"
    }
   },
   "id": "347befb23816b44c",
   "execution_count": 5
  },
  {
   "cell_type": "code",
   "outputs": [],
   "source": [
    "booleans = np.array([True, True, False, True, False, True])"
   ],
   "metadata": {
    "collapsed": false,
    "ExecuteTime": {
     "end_time": "2024-03-18T09:34:12.663144Z",
     "start_time": "2024-03-18T09:34:12.657811Z"
    }
   },
   "id": "a62d3752ca5ab8e4",
   "execution_count": 6
  },
  {
   "cell_type": "code",
   "outputs": [
    {
     "data": {
      "text/plain": "(array([0, 1, 3, 5]),)"
     },
     "execution_count": 7,
     "metadata": {},
     "output_type": "execute_result"
    }
   ],
   "source": [
    "np.where(booleans)"
   ],
   "metadata": {
    "collapsed": false,
    "ExecuteTime": {
     "end_time": "2024-03-18T09:34:19.973734Z",
     "start_time": "2024-03-18T09:34:19.968649Z"
    }
   },
   "id": "4142a00484924fbc",
   "execution_count": 7
  },
  {
   "cell_type": "code",
   "outputs": [
    {
     "data": {
      "text/plain": "array([False, False,  True,  True,  True,  True,  True,  True,  True,\n        True,  True])"
     },
     "execution_count": 8,
     "metadata": {},
     "output_type": "execute_result"
    }
   ],
   "source": [
    "array1 > 4"
   ],
   "metadata": {
    "collapsed": false,
    "ExecuteTime": {
     "end_time": "2024-03-18T09:34:52.639381Z",
     "start_time": "2024-03-18T09:34:52.635302Z"
    }
   },
   "id": "2258a50fad9bd9c",
   "execution_count": 8
  },
  {
   "cell_type": "code",
   "outputs": [
    {
     "data": {
      "text/plain": "(array([ 2,  3,  4,  5,  6,  7,  8,  9, 10]),)"
     },
     "execution_count": 10,
     "metadata": {},
     "output_type": "execute_result"
    }
   ],
   "source": [
    "np.where(array1 > 4) # 4보다 큰 값이 있는 인덱스만 가져옴"
   ],
   "metadata": {
    "collapsed": false,
    "ExecuteTime": {
     "end_time": "2024-03-18T09:36:07.977897Z",
     "start_time": "2024-03-18T09:36:07.974443Z"
    }
   },
   "id": "156dda468886cf84",
   "execution_count": 10
  },
  {
   "cell_type": "code",
   "outputs": [
    {
     "data": {
      "text/plain": "(array([ 2,  3,  4,  5,  6,  7,  8,  9, 10]),)"
     },
     "execution_count": 11,
     "metadata": {},
     "output_type": "execute_result"
    }
   ],
   "source": [
    "# filter를 이용해 인덱싱을 할 수있다.\n",
    "filter = np.where(array1 > 4)\n",
    "filter"
   ],
   "metadata": {
    "collapsed": false,
    "ExecuteTime": {
     "end_time": "2024-03-18T09:36:31.230635Z",
     "start_time": "2024-03-18T09:36:31.226861Z"
    }
   },
   "id": "43fbbb051446d8da",
   "execution_count": 11
  },
  {
   "cell_type": "code",
   "outputs": [
    {
     "data": {
      "text/plain": "array([ 5,  7, 11, 13, 17, 19, 23, 29, 31])"
     },
     "execution_count": 12,
     "metadata": {},
     "output_type": "execute_result"
    }
   ],
   "source": [
    "array1[filter] # 4보다 큰 값들만 인덱싱"
   ],
   "metadata": {
    "collapsed": false,
    "ExecuteTime": {
     "end_time": "2024-03-18T09:36:43.148613Z",
     "start_time": "2024-03-18T09:36:43.143285Z"
    }
   },
   "id": "249b575d5f06eee9",
   "execution_count": 12
  },
  {
   "cell_type": "code",
   "outputs": [],
   "source": [],
   "metadata": {
    "collapsed": false
   },
   "id": "6f7e5b5fab2de5b1"
  }
 ],
 "metadata": {
  "kernelspec": {
   "display_name": "Python 3",
   "language": "python",
   "name": "python3"
  },
  "language_info": {
   "codemirror_mode": {
    "name": "ipython",
    "version": 2
   },
   "file_extension": ".py",
   "mimetype": "text/x-python",
   "name": "python",
   "nbconvert_exporter": "python",
   "pygments_lexer": "ipython2",
   "version": "2.7.6"
  }
 },
 "nbformat": 4,
 "nbformat_minor": 5
}
