{
 "cells": [
  {
   "cell_type": "code",
   "execution_count": 1,
   "id": "initial_id",
   "metadata": {
    "collapsed": true,
    "ExecuteTime": {
     "end_time": "2024-04-18T07:58:10.415539Z",
     "start_time": "2024-04-18T07:58:10.294480Z"
    }
   },
   "outputs": [],
   "source": [
    "import numpy as np"
   ]
  },
  {
   "cell_type": "code",
   "outputs": [],
   "source": [
    "array1 = np.array([2, 3, 5, 7, 11, 13, 17 ,19 , 23, 29, 31])"
   ],
   "metadata": {
    "collapsed": false,
    "ExecuteTime": {
     "end_time": "2024-04-18T07:58:10.419406Z",
     "start_time": "2024-04-18T07:58:10.416744Z"
    }
   },
   "id": "941fa3f61ff1a966",
   "execution_count": 2
  },
  {
   "cell_type": "code",
   "outputs": [
    {
     "data": {
      "text/plain": "array([False, False,  True,  True,  True,  True,  True,  True,  True,\n        True,  True])"
     },
     "execution_count": 3,
     "metadata": {},
     "output_type": "execute_result"
    }
   ],
   "source": [
    "array1 > 4"
   ],
   "metadata": {
    "collapsed": false,
    "ExecuteTime": {
     "end_time": "2024-04-18T07:58:10.424432Z",
     "start_time": "2024-04-18T07:58:10.421157Z"
    }
   },
   "id": "d1fdfb408b994224",
   "execution_count": 3
  },
  {
   "cell_type": "code",
   "outputs": [
    {
     "data": {
      "text/plain": "array([ True, False, False, False, False, False, False, False, False,\n       False, False])"
     },
     "execution_count": 4,
     "metadata": {},
     "output_type": "execute_result"
    }
   ],
   "source": [
    "array1 % 2 == 0"
   ],
   "metadata": {
    "collapsed": false,
    "ExecuteTime": {
     "end_time": "2024-04-18T07:58:10.450241Z",
     "start_time": "2024-04-18T07:58:10.442556Z"
    }
   },
   "id": "347befb23816b44c",
   "execution_count": 4
  },
  {
   "cell_type": "code",
   "outputs": [],
   "source": [
    "booleans = np.array([True, True, False, True, False, True])"
   ],
   "metadata": {
    "collapsed": false,
    "ExecuteTime": {
     "end_time": "2024-04-18T07:58:14.265548Z",
     "start_time": "2024-04-18T07:58:14.263488Z"
    }
   },
   "id": "a62d3752ca5ab8e4",
   "execution_count": 5
  },
  {
   "cell_type": "code",
   "outputs": [
    {
     "data": {
      "text/plain": "(array([0, 1, 3, 5]),)"
     },
     "execution_count": 6,
     "metadata": {},
     "output_type": "execute_result"
    }
   ],
   "source": [
    "np.where(booleans)"
   ],
   "metadata": {
    "collapsed": false,
    "ExecuteTime": {
     "end_time": "2024-04-18T07:58:16.780897Z",
     "start_time": "2024-04-18T07:58:16.774109Z"
    }
   },
   "id": "4142a00484924fbc",
   "execution_count": 6
  },
  {
   "cell_type": "code",
   "outputs": [
    {
     "data": {
      "text/plain": "array([False, False,  True,  True,  True,  True,  True,  True,  True,\n        True,  True])"
     },
     "execution_count": 7,
     "metadata": {},
     "output_type": "execute_result"
    }
   ],
   "source": [
    "array1 > 4"
   ],
   "metadata": {
    "collapsed": false,
    "ExecuteTime": {
     "end_time": "2024-04-18T07:58:17.486180Z",
     "start_time": "2024-04-18T07:58:17.482009Z"
    }
   },
   "id": "2258a50fad9bd9c",
   "execution_count": 7
  },
  {
   "cell_type": "code",
   "outputs": [
    {
     "data": {
      "text/plain": "(array([ 2,  3,  4,  5,  6,  7,  8,  9, 10]),)"
     },
     "execution_count": 8,
     "metadata": {},
     "output_type": "execute_result"
    }
   ],
   "source": [
    "np.where(array1 > 4) # 4보다 큰 값이 있는 인덱스만 가져옴"
   ],
   "metadata": {
    "collapsed": false,
    "ExecuteTime": {
     "end_time": "2024-04-18T07:58:19.124821Z",
     "start_time": "2024-04-18T07:58:19.113924Z"
    }
   },
   "id": "156dda468886cf84",
   "execution_count": 8
  },
  {
   "cell_type": "code",
   "outputs": [
    {
     "data": {
      "text/plain": "(array([ 2,  3,  4,  5,  6,  7,  8,  9, 10]),)"
     },
     "execution_count": 9,
     "metadata": {},
     "output_type": "execute_result"
    }
   ],
   "source": [
    "# filter를 이용해 인덱싱을 할 수있다.\n",
    "filter = np.where(array1 > 4)\n",
    "filter"
   ],
   "metadata": {
    "collapsed": false,
    "ExecuteTime": {
     "end_time": "2024-04-18T07:58:21.768167Z",
     "start_time": "2024-04-18T07:58:21.761578Z"
    }
   },
   "id": "43fbbb051446d8da",
   "execution_count": 9
  },
  {
   "cell_type": "code",
   "outputs": [
    {
     "data": {
      "text/plain": "array([ 5,  7, 11, 13, 17, 19, 23, 29, 31])"
     },
     "execution_count": 10,
     "metadata": {},
     "output_type": "execute_result"
    }
   ],
   "source": [
    "array1[filter] # 4보다 큰 값들만 인덱싱"
   ],
   "metadata": {
    "collapsed": false,
    "ExecuteTime": {
     "end_time": "2024-04-18T07:58:22.173406Z",
     "start_time": "2024-04-18T07:58:22.170326Z"
    }
   },
   "id": "249b575d5f06eee9",
   "execution_count": 10
  },
  {
   "cell_type": "code",
   "outputs": [],
   "source": [],
   "metadata": {
    "collapsed": false
   },
   "id": "6f7e5b5fab2de5b1"
  }
 ],
 "metadata": {
  "kernelspec": {
   "display_name": "Python 3",
   "language": "python",
   "name": "python3"
  },
  "language_info": {
   "codemirror_mode": {
    "name": "ipython",
    "version": 2
   },
   "file_extension": ".py",
   "mimetype": "text/x-python",
   "name": "python",
   "nbconvert_exporter": "python",
   "pygments_lexer": "ipython2",
   "version": "2.7.6"
  }
 },
 "nbformat": 4,
 "nbformat_minor": 5
}
