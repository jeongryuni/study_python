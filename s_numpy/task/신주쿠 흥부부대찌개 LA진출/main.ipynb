{
 "cells": [
  {
   "cell_type": "code",
   "execution_count": 2,
   "id": "initial_id",
   "metadata": {
    "collapsed": true,
    "ExecuteTime": {
     "end_time": "2024-03-18T09:19:49.995326Z",
     "start_time": "2024-03-18T09:19:49.992530Z"
    }
   },
   "outputs": [],
   "source": [
    "import numpy as np"
   ]
  },
  {
   "cell_type": "code",
   "outputs": [],
   "source": [
    "revenue_in_yen = [\n",
    "    300000, 340000, 320000, 360000, \n",
    "    440000, 140000, 180000, 340000, \n",
    "    330000, 290000, 280000, 380000, \n",
    "    170000, 140000, 230000, 390000, \n",
    "    400000, 350000, 380000, 150000, \n",
    "    110000, 240000, 380000, 380000, \n",
    "    340000, 420000, 150000, 130000, \n",
    "    360000, 320000, 250000\n",
    "]\n",
    "\n",
    "revenue_in_dollar = [\n",
    "    1200, 1600, 1400, 1300, \n",
    "    2100, 1400, 1500, 2100, \n",
    "    1500, 1500, 2300, 2100, \n",
    "    2800, 2600, 1700, 1400, \n",
    "    2100, 2300, 1600, 1800, \n",
    "    2200, 2400, 2100, 2800, \n",
    "    1900, 2100, 1800, 2200, \n",
    "    2100, 1600, 1800\n",
    "]\n"
   ],
   "metadata": {
    "collapsed": false,
    "ExecuteTime": {
     "end_time": "2024-03-18T09:27:38.179058Z",
     "start_time": "2024-03-18T09:27:38.176471Z"
    }
   },
   "id": "963638633413ce52",
   "execution_count": 21
  },
  {
   "cell_type": "code",
   "outputs": [],
   "source": [
    "yen_array = np.array(revenue_in_yen)\n",
    "dollar_array = np.array(revenue_in_dollar)"
   ],
   "metadata": {
    "collapsed": false,
    "ExecuteTime": {
     "end_time": "2024-03-18T09:27:38.682648Z",
     "start_time": "2024-03-18T09:27:38.678290Z"
    }
   },
   "id": "377d8e2f42ad9d62",
   "execution_count": 22
  },
  {
   "cell_type": "code",
   "outputs": [],
   "source": [
    "yen_array = yen_array * 10.08\n",
    "dollar_array = dollar_array * 1138"
   ],
   "metadata": {
    "collapsed": false,
    "ExecuteTime": {
     "end_time": "2024-03-18T09:27:39.400492Z",
     "start_time": "2024-03-18T09:27:39.397288Z"
    }
   },
   "id": "50f63079502ac4cc",
   "execution_count": 23
  },
  {
   "cell_type": "code",
   "outputs": [],
   "source": [
    "won_array = yen_array + dollar_array"
   ],
   "metadata": {
    "collapsed": false,
    "ExecuteTime": {
     "end_time": "2024-03-18T09:28:33.835773Z",
     "start_time": "2024-03-18T09:28:33.833724Z"
    }
   },
   "id": "5a9a401b0ba6ebb8",
   "execution_count": 26
  },
  {
   "cell_type": "code",
   "outputs": [
    {
     "data": {
      "text/plain": "array([4389600., 5248000., 4818800., 5108200., 6825000., 3004400.,\n       3521400., 5817000., 5033400., 4630200., 5439800., 6220200.,\n       4900000., 4370000., 4253000., 5524400., 6421800., 6145400.,\n       5651200., 3560400., 3612400., 5150400., 6220200., 7016800.,\n       5589400., 6623400., 3560400., 3814000., 6018600., 5046400.,\n       4568400.])"
     },
     "execution_count": 28,
     "metadata": {},
     "output_type": "execute_result"
    }
   ],
   "source": [
    "# 테스터 코드\n",
    "won_array"
   ],
   "metadata": {
    "collapsed": false,
    "ExecuteTime": {
     "end_time": "2024-03-18T09:29:11.942884Z",
     "start_time": "2024-03-18T09:29:11.939770Z"
    }
   },
   "id": "df4bbd7145ee9043",
   "execution_count": 28
  },
  {
   "cell_type": "code",
   "outputs": [],
   "source": [],
   "metadata": {
    "collapsed": false
   },
   "id": "d81676ccb80708ae"
  }
 ],
 "metadata": {
  "kernelspec": {
   "display_name": "Python 3",
   "language": "python",
   "name": "python3"
  },
  "language_info": {
   "codemirror_mode": {
    "name": "ipython",
    "version": 2
   },
   "file_extension": ".py",
   "mimetype": "text/x-python",
   "name": "python",
   "nbconvert_exporter": "python",
   "pygments_lexer": "ipython2",
   "version": "2.7.6"
  }
 },
 "nbformat": 4,
 "nbformat_minor": 5
}
