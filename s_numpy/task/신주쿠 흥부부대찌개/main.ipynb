{
 "cells": [
  {
   "cell_type": "code",
   "execution_count": 1,
   "id": "initial_id",
   "metadata": {
    "collapsed": true,
    "ExecuteTime": {
     "end_time": "2024-03-18T09:05:25.737074Z",
     "start_time": "2024-03-18T09:05:25.208159Z"
    }
   },
   "outputs": [],
   "source": [
    "import numpy as np"
   ]
  },
  {
   "cell_type": "code",
   "outputs": [],
   "source": [
    "revenue_in_yen = [\n",
    "    300000, 340000, 320000, 360000, \n",
    "    440000, 140000, 180000, 340000, \n",
    "    330000, 290000, 280000, 380000, \n",
    "    170000, 140000, 230000, 390000, \n",
    "    400000, 350000, 380000, 150000, \n",
    "    110000, 240000, 380000, 380000, \n",
    "    340000, 420000, 150000, 130000, \n",
    "    360000, 320000, 250000\n",
    "]"
   ],
   "metadata": {
    "collapsed": false,
    "ExecuteTime": {
     "end_time": "2024-03-18T09:05:34.564268Z",
     "start_time": "2024-03-18T09:05:34.558680Z"
    }
   },
   "id": "8bbd75e9d8e53cb9",
   "execution_count": 3
  },
  {
   "cell_type": "code",
   "outputs": [],
   "source": [
    "yen_array = np.array(revenue_in_yen)"
   ],
   "metadata": {
    "collapsed": false,
    "ExecuteTime": {
     "end_time": "2024-03-18T09:21:19.655681Z",
     "start_time": "2024-03-18T09:21:19.650549Z"
    }
   },
   "id": "81c2fc677813e808",
   "execution_count": 24
  },
  {
   "cell_type": "code",
   "outputs": [],
   "source": [
    "won_array = yen_array*10.08"
   ],
   "metadata": {
    "collapsed": false,
    "ExecuteTime": {
     "end_time": "2024-03-18T09:21:19.973289Z",
     "start_time": "2024-03-18T09:21:19.962721Z"
    }
   },
   "id": "44033be24bcc29e",
   "execution_count": 25
  },
  {
   "cell_type": "code",
   "outputs": [
    {
     "data": {
      "text/plain": "array([3024000., 3427200., 3225600., 3628800., 4435200., 1411200.,\n       1814400., 3427200., 3326400., 2923200., 2822400., 3830400.,\n       1713600., 1411200., 2318400., 3931200., 4032000., 3528000.,\n       3830400., 1512000., 1108800., 2419200., 3830400., 3830400.,\n       3427200., 4233600., 1512000., 1310400., 3628800., 3225600.,\n       2520000.])"
     },
     "execution_count": 26,
     "metadata": {},
     "output_type": "execute_result"
    }
   ],
   "source": [
    "# 테스트 코드\n",
    "won_array"
   ],
   "metadata": {
    "collapsed": false,
    "ExecuteTime": {
     "end_time": "2024-03-18T09:21:20.534055Z",
     "start_time": "2024-03-18T09:21:20.529695Z"
    }
   },
   "id": "f823c7f7db9ff134",
   "execution_count": 26
  },
  {
   "cell_type": "code",
   "outputs": [],
   "source": [],
   "metadata": {
    "collapsed": false
   },
   "id": "55a1e42572b83eba"
  }
 ],
 "metadata": {
  "kernelspec": {
   "display_name": "Python 3",
   "language": "python",
   "name": "python3"
  },
  "language_info": {
   "codemirror_mode": {
    "name": "ipython",
    "version": 2
   },
   "file_extension": ".py",
   "mimetype": "text/x-python",
   "name": "python",
   "nbconvert_exporter": "python",
   "pygments_lexer": "ipython2",
   "version": "2.7.6"
  }
 },
 "nbformat": 4,
 "nbformat_minor": 5
}
