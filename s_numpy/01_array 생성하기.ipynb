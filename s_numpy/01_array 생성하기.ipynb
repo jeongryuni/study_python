{
 "cells": [
  {
   "cell_type": "code",
   "outputs": [],
   "source": [
    "import numpy"
   ],
   "metadata": {
    "collapsed": false,
    "ExecuteTime": {
     "end_time": "2024-04-18T06:22:06.925259Z",
     "start_time": "2024-04-18T06:22:06.769823Z"
    }
   },
   "id": "f72f4cae743b2a6f",
   "execution_count": 6
  },
  {
   "cell_type": "code",
   "outputs": [
    {
     "name": "stdout",
     "output_type": "stream",
     "text": [
      "[ 2  3  5  7 11 13 17 19 23 29 31]\n"
     ]
    }
   ],
   "source": [
    "# 파이썬 리스트를 통해 생성\n",
    "# numpy 모듈의 array 메소드에 파라미터로 파이썬 리스트를 넘겨주면 numpy array가 리턴됩니다.\n",
    "array1 = numpy.array([2, 3, 5, 7, 11, 13, 17, 19, 23, 29, 31])\n",
    "print(array1) # [ 2  3  5  7 11 13 17 19 23 29 31]"
   ],
   "metadata": {
    "collapsed": false,
    "ExecuteTime": {
     "end_time": "2024-04-18T06:22:07.375811Z",
     "start_time": "2024-04-18T06:22:07.367290Z"
    }
   },
   "id": "f0e2a290ea6d00d9",
   "execution_count": 7
  },
  {
   "cell_type": "code",
   "outputs": [
    {
     "name": "stdout",
     "output_type": "stream",
     "text": [
      "<class 'numpy.ndarray'>\n"
     ]
    }
   ],
   "source": [
    "# array1의 타입\n",
    "print(type(array1)) # <class 'numpy.ndarray'>"
   ],
   "metadata": {
    "collapsed": false,
    "ExecuteTime": {
     "end_time": "2024-04-18T06:22:08.169560Z",
     "start_time": "2024-04-18T06:22:08.165812Z"
    }
   },
   "id": "8f79669bc681f810",
   "execution_count": 8
  },
  {
   "cell_type": "code",
   "outputs": [
    {
     "name": "stdout",
     "output_type": "stream",
     "text": [
      "(11,)\n"
     ]
    }
   ],
   "source": [
    "# array1의 요소\n",
    "print(array1.shape) # (11,) 11개의 요소가 있다."
   ],
   "metadata": {
    "collapsed": false,
    "ExecuteTime": {
     "end_time": "2024-04-18T06:22:08.765223Z",
     "start_time": "2024-04-18T06:22:08.762319Z"
    }
   },
   "id": "7ef23ee192ec1968",
   "execution_count": 9
  },
  {
   "cell_type": "code",
   "outputs": [
    {
     "name": "stdout",
     "output_type": "stream",
     "text": [
      "[[ 1  2  3  4]\n",
      " [ 5  6  7  8]\n",
      " [ 9 10 11 12]]\n",
      "(3, 4)\n"
     ]
    }
   ],
   "source": [
    "# 2차원 array\n",
    "array2 = numpy.array([[1, 2, 3, 4], [5, 6, 7, 8], [9, 10, 11, 12]])\n",
    "print(array2)\n",
    "print(array2.shape) # (3, 4) 행:3 열:4"
   ],
   "metadata": {
    "collapsed": false,
    "ExecuteTime": {
     "end_time": "2024-04-18T06:22:09.253044Z",
     "start_time": "2024-04-18T06:22:09.243846Z"
    }
   },
   "id": "d1d0d038553467e6",
   "execution_count": 10
  },
  {
   "cell_type": "code",
   "outputs": [
    {
     "name": "stdout",
     "output_type": "stream",
     "text": [
      "11\n",
      "12\n"
     ]
    }
   ],
   "source": [
    "# 요소의 개수를 알려줌\n",
    "print(array1.size) # 11\n",
    "print(array2.size) # 12"
   ],
   "metadata": {
    "collapsed": false,
    "ExecuteTime": {
     "end_time": "2024-04-18T06:22:09.564326Z",
     "start_time": "2024-04-18T06:22:09.555461Z"
    }
   },
   "id": "a339de40cf95bda0",
   "execution_count": 11
  },
  {
   "cell_type": "code",
   "outputs": [
    {
     "name": "stdout",
     "output_type": "stream",
     "text": [
      "[7 7 7 7 7 7]\n"
     ]
    }
   ],
   "source": [
    "# 균일한 값으로 생성\n",
    "array1 = numpy.full(6, 7)\n",
    "\n",
    "print(array1) # [7 7 7 7 7 7]"
   ],
   "metadata": {
    "collapsed": false,
    "ExecuteTime": {
     "end_time": "2024-04-18T06:22:09.871496Z",
     "start_time": "2024-04-18T06:22:09.862829Z"
    }
   },
   "id": "e918879b5e2f2ef",
   "execution_count": 12
  },
  {
   "cell_type": "code",
   "outputs": [
    {
     "name": "stdout",
     "output_type": "stream",
     "text": [
      "[0 0 0 0 0 0]\n",
      "\n",
      "[0 0 0 0 0 0]\n"
     ]
    }
   ],
   "source": [
    "# 모든 값이 0인 numpy array 생성\n",
    "array1 = numpy.full(6, 0)\n",
    "array2 = numpy.zeros(6, dtype=int)\n",
    "\n",
    "print(array1)\n",
    "print()\n",
    "print(array2)"
   ],
   "metadata": {
    "collapsed": false,
    "ExecuteTime": {
     "end_time": "2024-04-18T06:22:10.101081Z",
     "start_time": "2024-04-18T06:22:10.097752Z"
    }
   },
   "id": "4219e1d0003b3e26",
   "execution_count": 13
  },
  {
   "cell_type": "code",
   "outputs": [
    {
     "name": "stdout",
     "output_type": "stream",
     "text": [
      "[1 1 1 1 1 1]\n",
      "\n",
      "[1 1 1 1 1 1]\n"
     ]
    }
   ],
   "source": [
    "# 모든 값이 1인 numpy array 생성\n",
    "array1 = numpy.full(6, 1)\n",
    "array2 = numpy.ones(6, dtype=int)\n",
    "\n",
    "print(array1)\n",
    "print()\n",
    "print(array2)"
   ],
   "metadata": {
    "collapsed": false,
    "ExecuteTime": {
     "end_time": "2024-04-18T06:22:10.314287Z",
     "start_time": "2024-04-18T06:22:10.311461Z"
    }
   },
   "id": "dce46e45c9b28040",
   "execution_count": 14
  },
  {
   "cell_type": "code",
   "outputs": [
    {
     "name": "stdout",
     "output_type": "stream",
     "text": [
      "[0.16191271 0.95351051 0.92843617 0.21179788 0.87050558 0.29949095]\n",
      "\n",
      "[0.34590853 0.50999013 0.79966489 0.04214702 0.95218334 0.74835495]\n"
     ]
    }
   ],
   "source": [
    "# 랜덤한 값들로 생성\n",
    "array1 = numpy.random.random(6)\n",
    "array2 = numpy.random.random(6)\n",
    "\n",
    "print(array1)\n",
    "print()\n",
    "print(array2)"
   ],
   "metadata": {
    "collapsed": false,
    "ExecuteTime": {
     "end_time": "2024-04-18T06:22:10.509362Z",
     "start_time": "2024-04-18T06:22:10.505437Z"
    }
   },
   "id": "4fd457cd79446b1a",
   "execution_count": 15
  },
  {
   "cell_type": "code",
   "outputs": [
    {
     "name": "stdout",
     "output_type": "stream",
     "text": [
      "[0 1 2 3 4 5]\n",
      "[2 3 4 5 6]\n",
      "[ 3  6  9 12 15]\n"
     ]
    }
   ],
   "source": [
    "# 연속된 값들이 담긴 numpy array 생성\n",
    "# arange(m)을 하면 0부터 m-1까지의 값들이 담긴 numpy array가 리턴됩니다.\n",
    "\n",
    "# 파라미터 1개\n",
    "array1 = numpy.arange(6)\n",
    "print(array1) # [0 1 2 3 4 5]\n",
    "\n",
    "\n",
    "# 파라미터 2개\n",
    "array1 = numpy.arange(2, 7)\n",
    "print(array1) # [2 3 4 5 6]\n",
    "\n",
    "\n",
    "# 파라미터 3개\n",
    "# arange(n, m, s)를 하면 n부터 m-1까지의 값들 중 간격이 s인 값들이 담긴 numpy array가 리턴됩니다.\n",
    "array1 = numpy.arange(3, 17, 3)\n",
    "print(array1) #  [3  6  9 12 15]\n",
    "\n"
   ],
   "metadata": {
    "collapsed": false,
    "ExecuteTime": {
     "end_time": "2024-04-18T06:22:10.689294Z",
     "start_time": "2024-04-18T06:22:10.686026Z"
    }
   },
   "id": "99f42386ed822c21",
   "execution_count": 16
  }
 ],
 "metadata": {
  "kernelspec": {
   "display_name": "Python 3",
   "language": "python",
   "name": "python3"
  },
  "language_info": {
   "codemirror_mode": {
    "name": "ipython",
    "version": 2
   },
   "file_extension": ".py",
   "mimetype": "text/x-python",
   "name": "python",
   "nbconvert_exporter": "python",
   "pygments_lexer": "ipython2",
   "version": "2.7.6"
  }
 },
 "nbformat": 4,
 "nbformat_minor": 5
}
