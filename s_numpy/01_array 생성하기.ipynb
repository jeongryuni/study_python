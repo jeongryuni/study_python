{
 "cells": [
  {
   "cell_type": "code",
   "outputs": [],
   "source": [
    "import numpy"
   ],
   "metadata": {
    "collapsed": false,
    "ExecuteTime": {
     "end_time": "2024-04-22T08:45:48.421645Z",
     "start_time": "2024-04-22T08:45:48.410745Z"
    }
   },
   "id": "95bda9ef9c918a8a",
   "execution_count": 12
  },
  {
   "cell_type": "code",
   "outputs": [
    {
     "name": "stdout",
     "output_type": "stream",
     "text": [
      "[ 2  3  5  7 11 13 17 19 23 29 31]\n"
     ]
    }
   ],
   "source": [
    "# 파이썬 리스트를 통해 생성\n",
    "# numpy 모듈의 array 메소드에 파라미터로 파이썬 리스트를 넘겨주면 numpy array가 리턴됩니다.\n",
    "array1 = numpy.array([2, 3, 5, 7, 11, 13, 17, 19, 23, 29, 31])\n",
    "print(array1) # [ 2  3  5  7 11 13 17 19 23 29 31]"
   ],
   "metadata": {
    "collapsed": false,
    "ExecuteTime": {
     "end_time": "2024-04-22T08:45:48.448947Z",
     "start_time": "2024-04-22T08:45:48.424862Z"
    }
   },
   "id": "f0e2a290ea6d00d9",
   "execution_count": 13
  },
  {
   "cell_type": "code",
   "outputs": [
    {
     "name": "stdout",
     "output_type": "stream",
     "text": [
      "<class 'numpy.ndarray'>\n"
     ]
    }
   ],
   "source": [
    "# array1의 타입\n",
    "print(type(array1)) # <class 'numpy.ndarray'>"
   ],
   "metadata": {
    "collapsed": false,
    "ExecuteTime": {
     "end_time": "2024-04-22T08:45:48.474697Z",
     "start_time": "2024-04-22T08:45:48.450405Z"
    }
   },
   "id": "8f79669bc681f810",
   "execution_count": 14
  },
  {
   "cell_type": "code",
   "outputs": [
    {
     "name": "stdout",
     "output_type": "stream",
     "text": [
      "(11,)\n"
     ]
    }
   ],
   "source": [
    "# array1의 요소\n",
    "print(array1.shape) # (11,) 11개의 요소가 있다."
   ],
   "metadata": {
    "collapsed": false,
    "ExecuteTime": {
     "end_time": "2024-04-22T08:45:48.498544Z",
     "start_time": "2024-04-22T08:45:48.476785Z"
    }
   },
   "id": "7ef23ee192ec1968",
   "execution_count": 15
  },
  {
   "cell_type": "code",
   "outputs": [
    {
     "name": "stdout",
     "output_type": "stream",
     "text": [
      "[[ 1  2  3  4]\n",
      " [ 5  6  7  8]\n",
      " [ 9 10 11 12]]\n",
      "(3, 4)\n"
     ]
    }
   ],
   "source": [
    "# 2차원 array\n",
    "array2 = numpy.array([[1, 2, 3, 4], [5, 6, 7, 8], [9, 10, 11, 12]])\n",
    "print(array2)\n",
    "print(array2.shape) # (3, 4) 행:3 열:4"
   ],
   "metadata": {
    "collapsed": false,
    "ExecuteTime": {
     "end_time": "2024-04-22T08:45:48.508167Z",
     "start_time": "2024-04-22T08:45:48.501110Z"
    }
   },
   "id": "d1d0d038553467e6",
   "execution_count": 16
  },
  {
   "cell_type": "code",
   "outputs": [
    {
     "name": "stdout",
     "output_type": "stream",
     "text": [
      "11\n",
      "12\n"
     ]
    }
   ],
   "source": [
    "# 요소의 개수를 알려줌\n",
    "print(array1.size) # 11\n",
    "print(array2.size) # 12"
   ],
   "metadata": {
    "collapsed": false,
    "ExecuteTime": {
     "end_time": "2024-04-22T08:45:48.522612Z",
     "start_time": "2024-04-22T08:45:48.509597Z"
    }
   },
   "id": "a339de40cf95bda0",
   "execution_count": 17
  },
  {
   "cell_type": "code",
   "outputs": [
    {
     "name": "stdout",
     "output_type": "stream",
     "text": [
      "[7 7 7 7 7 7]\n"
     ]
    }
   ],
   "source": [
    "# 균일한 값으로 생성\n",
    "array1 = numpy.full(6, 7)\n",
    "\n",
    "print(array1) # [7 7 7 7 7 7]"
   ],
   "metadata": {
    "collapsed": false,
    "ExecuteTime": {
     "end_time": "2024-04-22T08:45:48.523492Z",
     "start_time": "2024-04-22T08:45:48.514048Z"
    }
   },
   "id": "e918879b5e2f2ef",
   "execution_count": 18
  },
  {
   "cell_type": "code",
   "outputs": [
    {
     "name": "stdout",
     "output_type": "stream",
     "text": [
      "[0 0 0 0 0 0]\n",
      "\n",
      "[0 0 0 0 0 0]\n"
     ]
    }
   ],
   "source": [
    "# 모든 값이 0인 numpy array 생성\n",
    "array1 = numpy.full(6, 0)\n",
    "array2 = numpy.zeros(6, dtype=int)\n",
    "\n",
    "print(array1)\n",
    "print()\n",
    "print(array2)"
   ],
   "metadata": {
    "collapsed": false,
    "ExecuteTime": {
     "end_time": "2024-04-22T08:45:48.536481Z",
     "start_time": "2024-04-22T08:45:48.521706Z"
    }
   },
   "id": "4219e1d0003b3e26",
   "execution_count": 19
  },
  {
   "cell_type": "code",
   "outputs": [
    {
     "name": "stdout",
     "output_type": "stream",
     "text": [
      "[1 1 1 1 1 1]\n",
      "\n",
      "[1 1 1 1 1 1]\n"
     ]
    }
   ],
   "source": [
    "# 모든 값이 1인 numpy array 생성\n",
    "array1 = numpy.full(6, 1)\n",
    "array2 = numpy.ones(6, dtype=int)\n",
    "\n",
    "print(array1)\n",
    "print()\n",
    "print(array2)"
   ],
   "metadata": {
    "collapsed": false,
    "ExecuteTime": {
     "end_time": "2024-04-22T08:45:48.547479Z",
     "start_time": "2024-04-22T08:45:48.538571Z"
    }
   },
   "id": "dce46e45c9b28040",
   "execution_count": 20
  },
  {
   "cell_type": "code",
   "outputs": [
    {
     "name": "stdout",
     "output_type": "stream",
     "text": [
      "[0.77145055 0.75875276 0.83482592 0.61465038 0.60285066 0.890804  ]\n",
      "\n",
      "[0.68106333 0.42001567 0.50222305 0.5413709  0.26618258 0.12493401]\n"
     ]
    }
   ],
   "source": [
    "# 랜덤한 값들로 생성\n",
    "array1 = numpy.random.random(6)\n",
    "array2 = numpy.random.random(6)\n",
    "\n",
    "print(array1)\n",
    "print()\n",
    "print(array2)"
   ],
   "metadata": {
    "collapsed": false,
    "ExecuteTime": {
     "end_time": "2024-04-22T08:45:48.547925Z",
     "start_time": "2024-04-22T08:45:48.541511Z"
    }
   },
   "id": "4fd457cd79446b1a",
   "execution_count": 21
  },
  {
   "cell_type": "code",
   "outputs": [
    {
     "name": "stdout",
     "output_type": "stream",
     "text": [
      "[0 1 2 3 4 5]\n",
      "[2 3 4 5 6]\n",
      "[ 3  6  9 12 15]\n"
     ]
    }
   ],
   "source": [
    "# 연속된 값들이 담긴 numpy array 생성\n",
    "# arange(m)을 하면 0부터 m-1까지의 값들이 담긴 numpy array가 리턴됩니다.\n",
    "\n",
    "# 파라미터 1개\n",
    "array1 = numpy.arange(6)\n",
    "print(array1) # [0 1 2 3 4 5]\n",
    "\n",
    "\n",
    "# 파라미터 2개\n",
    "array1 = numpy.arange(2, 7)\n",
    "print(array1) # [2 3 4 5 6]\n",
    "\n",
    "\n",
    "# 파라미터 3개\n",
    "# arange(n, m, s)를 하면 n부터 m-1까지의 값들 중 간격이 s인 값들이 담긴 numpy array가 리턴됩니다.\n",
    "array1 = numpy.arange(3, 17, 3)\n",
    "print(array1) #  [3  6  9 12 15]\n",
    "\n"
   ],
   "metadata": {
    "collapsed": false,
    "ExecuteTime": {
     "end_time": "2024-04-22T08:45:48.555624Z",
     "start_time": "2024-04-22T08:45:48.551277Z"
    }
   },
   "id": "99f42386ed822c21",
   "execution_count": 22
  }
 ],
 "metadata": {
  "kernelspec": {
   "display_name": "Python 3",
   "language": "python",
   "name": "python3"
  },
  "language_info": {
   "codemirror_mode": {
    "name": "ipython",
    "version": 2
   },
   "file_extension": ".py",
   "mimetype": "text/x-python",
   "name": "python",
   "nbconvert_exporter": "python",
   "pygments_lexer": "ipython2",
   "version": "2.7.6"
  }
 },
 "nbformat": 4,
 "nbformat_minor": 5
}
