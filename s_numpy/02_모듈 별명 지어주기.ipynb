{
 "cells": [
  {
   "cell_type": "code",
   "execution_count": 1,
   "id": "initial_id",
   "metadata": {
    "collapsed": true,
    "ExecuteTime": {
     "end_time": "2024-04-22T08:45:51.931426Z",
     "start_time": "2024-04-22T08:45:51.873730Z"
    }
   },
   "outputs": [],
   "source": [
    "import numpy as np\n",
    "\n",
    "array1 = np.full(6,0)\n",
    "array2 = np.zeros(6)\n",
    "array3 = np.full(6,6)\n",
    "array4 = np.ones(9)\n",
    "array5 = np.random.random(6)\n",
    "array6 = np.random.random(10)"
   ]
  },
  {
   "cell_type": "code",
   "outputs": [],
   "source": [],
   "metadata": {
    "collapsed": false,
    "ExecuteTime": {
     "end_time": "2024-04-22T08:45:51.934130Z",
     "start_time": "2024-04-22T08:45:51.931773Z"
    }
   },
   "id": "6072f999684dd29a",
   "execution_count": 1
  }
 ],
 "metadata": {
  "kernelspec": {
   "display_name": "Python 3",
   "language": "python",
   "name": "python3"
  },
  "language_info": {
   "codemirror_mode": {
    "name": "ipython",
    "version": 2
   },
   "file_extension": ".py",
   "mimetype": "text/x-python",
   "name": "python",
   "nbconvert_exporter": "python",
   "pygments_lexer": "ipython2",
   "version": "2.7.6"
  }
 },
 "nbformat": 4,
 "nbformat_minor": 5
}
