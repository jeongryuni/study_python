{
 "cells": [
  {
   "cell_type": "raw",
   "source": [
    "실습 설명\n",
    "토익 시험은 LC(듣기) 파트와 RC(독해) 파트로 이루어져 있습니다. 각 파트가 495점 만점, 총 990점이 만점입니다.\n",
    "\n",
    "“서울 항공”에 입사하기 위해서는 토익 점수를 제출해야 하는데요. 각 파트가 최소 250점, 총 점수가 최소 600점이 되어야 서류 전형을 합격할 수 있습니다.\n",
    "\n",
    "기존 DataFrame에 “합격 여부”라는 column을 추가하고, 합격한 지원자는 불린 값 True, 불합격한 지원자는 불린 값 False를 넣어주면 됩니다."
   ],
   "metadata": {
    "collapsed": false
   },
   "id": "f884e486d00fcde2"
  },
  {
   "cell_type": "code",
   "outputs": [
    {
     "data": {
      "text/plain": "   Gender   LC   RC\n0  female  315  320\n1  female  430  245\n2  female  430  475\n3    male  180  220\n4    male  325  350\n5  female  295  400\n6  female  405  475\n7    male  155  150\n8    male  280  315\n9  female  215  475",
      "text/html": "<div>\n<style scoped>\n    .dataframe tbody tr th:only-of-type {\n        vertical-align: middle;\n    }\n\n    .dataframe tbody tr th {\n        vertical-align: top;\n    }\n\n    .dataframe thead th {\n        text-align: right;\n    }\n</style>\n<table border=\"1\" class=\"dataframe\">\n  <thead>\n    <tr style=\"text-align: right;\">\n      <th></th>\n      <th>Gender</th>\n      <th>LC</th>\n      <th>RC</th>\n    </tr>\n  </thead>\n  <tbody>\n    <tr>\n      <th>0</th>\n      <td>female</td>\n      <td>315</td>\n      <td>320</td>\n    </tr>\n    <tr>\n      <th>1</th>\n      <td>female</td>\n      <td>430</td>\n      <td>245</td>\n    </tr>\n    <tr>\n      <th>2</th>\n      <td>female</td>\n      <td>430</td>\n      <td>475</td>\n    </tr>\n    <tr>\n      <th>3</th>\n      <td>male</td>\n      <td>180</td>\n      <td>220</td>\n    </tr>\n    <tr>\n      <th>4</th>\n      <td>male</td>\n      <td>325</td>\n      <td>350</td>\n    </tr>\n    <tr>\n      <th>5</th>\n      <td>female</td>\n      <td>295</td>\n      <td>400</td>\n    </tr>\n    <tr>\n      <th>6</th>\n      <td>female</td>\n      <td>405</td>\n      <td>475</td>\n    </tr>\n    <tr>\n      <th>7</th>\n      <td>male</td>\n      <td>155</td>\n      <td>150</td>\n    </tr>\n    <tr>\n      <th>8</th>\n      <td>male</td>\n      <td>280</td>\n      <td>315</td>\n    </tr>\n    <tr>\n      <th>9</th>\n      <td>female</td>\n      <td>215</td>\n      <td>475</td>\n    </tr>\n  </tbody>\n</table>\n</div>"
     },
     "execution_count": 1,
     "metadata": {},
     "output_type": "execute_result"
    }
   ],
   "source": [
    "import pandas as pd\n",
    "    \n",
    "df = pd.read_csv('../data/toeic.csv')\n",
    "df"
   ],
   "metadata": {
    "collapsed": false,
    "ExecuteTime": {
     "end_time": "2024-04-22T08:48:26.838593Z",
     "start_time": "2024-04-22T08:48:26.574451Z"
    }
   },
   "id": "9fd9924fe636ef69",
   "execution_count": 1
  },
  {
   "cell_type": "code",
   "outputs": [
    {
     "data": {
      "text/plain": "0     True\n1     True\n2     True\n3    False\n4     True\n5     True\n6     True\n7    False\n8    False\n9     True\ndtype: bool"
     },
     "execution_count": 2,
     "metadata": {},
     "output_type": "execute_result"
    }
   ],
   "source": [
    "pass_total = df['LC'] + df['RC'] > 600\n",
    "pass_total"
   ],
   "metadata": {
    "collapsed": false,
    "ExecuteTime": {
     "end_time": "2024-04-22T08:48:26.847179Z",
     "start_time": "2024-04-22T08:48:26.838436Z"
    }
   },
   "id": "59da3171e6b91f63",
   "execution_count": 2
  },
  {
   "cell_type": "code",
   "outputs": [
    {
     "data": {
      "text/plain": "0     True\n1    False\n2     True\n3    False\n4     True\n5     True\n6     True\n7    False\n8     True\n9    False\ndtype: bool"
     },
     "execution_count": 3,
     "metadata": {},
     "output_type": "execute_result"
    }
   ],
   "source": [
    "pass_both = (df['LC'] >= 250) & ( df['RC'] >= 250)\n",
    "pass_both"
   ],
   "metadata": {
    "collapsed": false,
    "ExecuteTime": {
     "end_time": "2024-04-22T08:48:26.860048Z",
     "start_time": "2024-04-22T08:48:26.849705Z"
    }
   },
   "id": "522e577e5ba2dc15",
   "execution_count": 3
  },
  {
   "cell_type": "code",
   "outputs": [
    {
     "data": {
      "text/plain": "   Gender   LC   RC  합격 여부\n0  female  315  320   True\n1  female  430  245  False\n2  female  430  475   True\n3    male  180  220  False\n4    male  325  350   True\n5  female  295  400   True\n6  female  405  475   True\n7    male  155  150  False\n8    male  280  315  False\n9  female  215  475  False",
      "text/html": "<div>\n<style scoped>\n    .dataframe tbody tr th:only-of-type {\n        vertical-align: middle;\n    }\n\n    .dataframe tbody tr th {\n        vertical-align: top;\n    }\n\n    .dataframe thead th {\n        text-align: right;\n    }\n</style>\n<table border=\"1\" class=\"dataframe\">\n  <thead>\n    <tr style=\"text-align: right;\">\n      <th></th>\n      <th>Gender</th>\n      <th>LC</th>\n      <th>RC</th>\n      <th>합격 여부</th>\n    </tr>\n  </thead>\n  <tbody>\n    <tr>\n      <th>0</th>\n      <td>female</td>\n      <td>315</td>\n      <td>320</td>\n      <td>True</td>\n    </tr>\n    <tr>\n      <th>1</th>\n      <td>female</td>\n      <td>430</td>\n      <td>245</td>\n      <td>False</td>\n    </tr>\n    <tr>\n      <th>2</th>\n      <td>female</td>\n      <td>430</td>\n      <td>475</td>\n      <td>True</td>\n    </tr>\n    <tr>\n      <th>3</th>\n      <td>male</td>\n      <td>180</td>\n      <td>220</td>\n      <td>False</td>\n    </tr>\n    <tr>\n      <th>4</th>\n      <td>male</td>\n      <td>325</td>\n      <td>350</td>\n      <td>True</td>\n    </tr>\n    <tr>\n      <th>5</th>\n      <td>female</td>\n      <td>295</td>\n      <td>400</td>\n      <td>True</td>\n    </tr>\n    <tr>\n      <th>6</th>\n      <td>female</td>\n      <td>405</td>\n      <td>475</td>\n      <td>True</td>\n    </tr>\n    <tr>\n      <th>7</th>\n      <td>male</td>\n      <td>155</td>\n      <td>150</td>\n      <td>False</td>\n    </tr>\n    <tr>\n      <th>8</th>\n      <td>male</td>\n      <td>280</td>\n      <td>315</td>\n      <td>False</td>\n    </tr>\n    <tr>\n      <th>9</th>\n      <td>female</td>\n      <td>215</td>\n      <td>475</td>\n      <td>False</td>\n    </tr>\n  </tbody>\n</table>\n</div>"
     },
     "execution_count": 4,
     "metadata": {},
     "output_type": "execute_result"
    }
   ],
   "source": [
    "df['합격 여부'] = pass_total & pass_both\n",
    "df"
   ],
   "metadata": {
    "collapsed": false,
    "ExecuteTime": {
     "end_time": "2024-04-22T08:48:26.877856Z",
     "start_time": "2024-04-22T08:48:26.857389Z"
    }
   },
   "id": "365162663ceebd3",
   "execution_count": 4
  },
  {
   "cell_type": "code",
   "outputs": [],
   "source": [],
   "metadata": {
    "collapsed": false,
    "ExecuteTime": {
     "end_time": "2024-04-22T08:48:26.878068Z",
     "start_time": "2024-04-22T08:48:26.863028Z"
    }
   },
   "id": "fc30d2c15bfb6bf8",
   "execution_count": 4
  }
 ],
 "metadata": {
  "kernelspec": {
   "display_name": "Python 3",
   "language": "python",
   "name": "python3"
  },
  "language_info": {
   "codemirror_mode": {
    "name": "ipython",
    "version": 2
   },
   "file_extension": ".py",
   "mimetype": "text/x-python",
   "name": "python",
   "nbconvert_exporter": "python",
   "pygments_lexer": "ipython2",
   "version": "2.7.6"
  }
 },
 "nbformat": 4,
 "nbformat_minor": 5
}
