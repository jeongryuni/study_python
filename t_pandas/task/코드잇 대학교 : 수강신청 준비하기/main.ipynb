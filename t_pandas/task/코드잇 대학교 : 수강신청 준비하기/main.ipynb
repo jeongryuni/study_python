{
 "cells": [
  {
   "cell_type": "raw",
   "source": [
    "실습 설명\n",
    "2,000명의 코드잇 대학교 학생들이 수강신청을 했습니다.\n",
    "\n",
    "수강신청에는 다음 3개의 조건이 있습니다.\n",
    "\n",
    "“information technology” 과목은 심화과목이라 1학년은 수강할 수 없습니다.\n",
    "“commerce” 과목은 기초과목이고 많은 학생들이 듣는 수업이라 4학년은 수강할 수 없습니다.\n",
    "수강생이 5명이 되지 않으면 강의는 폐강되어 수강할 수 없습니다.\n",
    "기존 DataFrame에 “status”라는 이름의 column을 추가하고, 학생이 수강 가능한 상태이면 “allowed”, 수강 불가능한 상태이면 “not allowed”를 넣어주세요."
   ],
   "metadata": {
    "collapsed": false
   },
   "id": "e6f61b2565293cd8"
  },
  {
   "cell_type": "code",
   "outputs": [],
   "source": [],
   "metadata": {
    "collapsed": false,
    "ExecuteTime": {
     "end_time": "2024-04-22T08:48:56.811661Z",
     "start_time": "2024-04-22T08:48:56.809829Z"
    }
   },
   "id": "3e517f6d656c9032",
   "execution_count": 0
  }
 ],
 "metadata": {
  "kernelspec": {
   "display_name": "Python 3",
   "language": "python",
   "name": "python3"
  },
  "language_info": {
   "codemirror_mode": {
    "name": "ipython",
    "version": 2
   },
   "file_extension": ".py",
   "mimetype": "text/x-python",
   "name": "python",
   "nbconvert_exporter": "python",
   "pygments_lexer": "ipython2",
   "version": "2.7.6"
  }
 },
 "nbformat": 4,
 "nbformat_minor": 5
}
