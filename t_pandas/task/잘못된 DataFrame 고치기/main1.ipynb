{
 "cells": [
  {
   "cell_type": "code",
   "execution_count": 28,
   "id": "initial_id",
   "metadata": {
    "collapsed": true,
    "ExecuteTime": {
     "end_time": "2024-04-19T06:18:40.544300Z",
     "start_time": "2024-04-19T06:18:40.539350Z"
    }
   },
   "outputs": [],
   "source": [
    "import pandas as pd\n",
    "df = pd.read_csv('../data/body_imperial1.csv', index_col=0)"
   ]
  },
  {
   "cell_type": "code",
   "outputs": [
    {
     "data": {
      "text/plain": "    Height (Inch)  Weight (Pound)\nID                               \n0       73.847017      241.893563\n1       70.000000             NaN\n2       74.110105      212.740856\n3       71.730978      220.042470\n4       69.881796      206.349801\n5       67.253016      152.212156\n6       68.785081      183.927889\n7       68.348516      167.971110\n8       67.018950      175.929440\n9       63.456494      156.399676\n10      71.195382      186.604926\n11      62.636675      102.853563\n12      62.077832      138.691680\n13      60.030434       97.687432\n14      59.098250      110.529686\n15      66.172652      136.777454\n16      67.067155      170.867906\n17      63.867992      128.475319\n18      69.034243      163.852461\n19      61.944246      113.649103\n21       0.000000        0.000000",
      "text/html": "<div>\n<style scoped>\n    .dataframe tbody tr th:only-of-type {\n        vertical-align: middle;\n    }\n\n    .dataframe tbody tr th {\n        vertical-align: top;\n    }\n\n    .dataframe thead th {\n        text-align: right;\n    }\n</style>\n<table border=\"1\" class=\"dataframe\">\n  <thead>\n    <tr style=\"text-align: right;\">\n      <th></th>\n      <th>Height (Inch)</th>\n      <th>Weight (Pound)</th>\n    </tr>\n    <tr>\n      <th>ID</th>\n      <th></th>\n      <th></th>\n    </tr>\n  </thead>\n  <tbody>\n    <tr>\n      <th>0</th>\n      <td>73.847017</td>\n      <td>241.893563</td>\n    </tr>\n    <tr>\n      <th>1</th>\n      <td>70.000000</td>\n      <td>NaN</td>\n    </tr>\n    <tr>\n      <th>2</th>\n      <td>74.110105</td>\n      <td>212.740856</td>\n    </tr>\n    <tr>\n      <th>3</th>\n      <td>71.730978</td>\n      <td>220.042470</td>\n    </tr>\n    <tr>\n      <th>4</th>\n      <td>69.881796</td>\n      <td>206.349801</td>\n    </tr>\n    <tr>\n      <th>5</th>\n      <td>67.253016</td>\n      <td>152.212156</td>\n    </tr>\n    <tr>\n      <th>6</th>\n      <td>68.785081</td>\n      <td>183.927889</td>\n    </tr>\n    <tr>\n      <th>7</th>\n      <td>68.348516</td>\n      <td>167.971110</td>\n    </tr>\n    <tr>\n      <th>8</th>\n      <td>67.018950</td>\n      <td>175.929440</td>\n    </tr>\n    <tr>\n      <th>9</th>\n      <td>63.456494</td>\n      <td>156.399676</td>\n    </tr>\n    <tr>\n      <th>10</th>\n      <td>71.195382</td>\n      <td>186.604926</td>\n    </tr>\n    <tr>\n      <th>11</th>\n      <td>62.636675</td>\n      <td>102.853563</td>\n    </tr>\n    <tr>\n      <th>12</th>\n      <td>62.077832</td>\n      <td>138.691680</td>\n    </tr>\n    <tr>\n      <th>13</th>\n      <td>60.030434</td>\n      <td>97.687432</td>\n    </tr>\n    <tr>\n      <th>14</th>\n      <td>59.098250</td>\n      <td>110.529686</td>\n    </tr>\n    <tr>\n      <th>15</th>\n      <td>66.172652</td>\n      <td>136.777454</td>\n    </tr>\n    <tr>\n      <th>16</th>\n      <td>67.067155</td>\n      <td>170.867906</td>\n    </tr>\n    <tr>\n      <th>17</th>\n      <td>63.867992</td>\n      <td>128.475319</td>\n    </tr>\n    <tr>\n      <th>18</th>\n      <td>69.034243</td>\n      <td>163.852461</td>\n    </tr>\n    <tr>\n      <th>19</th>\n      <td>61.944246</td>\n      <td>113.649103</td>\n    </tr>\n    <tr>\n      <th>21</th>\n      <td>0.000000</td>\n      <td>0.000000</td>\n    </tr>\n  </tbody>\n</table>\n</div>"
     },
     "execution_count": 29,
     "metadata": {},
     "output_type": "execute_result"
    }
   ],
   "source": [
    "df"
   ],
   "metadata": {
    "collapsed": false,
    "ExecuteTime": {
     "end_time": "2024-04-19T06:18:40.963286Z",
     "start_time": "2024-04-19T06:18:40.958655Z"
    }
   },
   "id": "176ca2ab2d08df3f",
   "execution_count": 29
  },
  {
   "cell_type": "code",
   "outputs": [
    {
     "data": {
      "text/plain": "    Height (Inch)  Weight (Pound)\nID                               \n0       73.847017      241.893563\n1       70.000000      200.000000\n2       74.110105      212.740856\n3       71.730978      220.042470\n4       69.881796      206.349801\n5       67.253016      152.212156\n6       68.785081      183.927889\n7       68.348516      167.971110\n8       67.018950      175.929440\n9       63.456494      156.399676\n10      71.195382      186.604926\n11      62.636675      102.853563\n12      62.077832      138.691680\n13      60.030434       97.687432\n14      59.098250      110.529686\n15      66.172652      136.777454\n16      67.067155      170.867906\n17      63.867992      128.475319\n18      69.034243      163.852461\n19      61.944246      113.649103\n21       0.000000        0.000000",
      "text/html": "<div>\n<style scoped>\n    .dataframe tbody tr th:only-of-type {\n        vertical-align: middle;\n    }\n\n    .dataframe tbody tr th {\n        vertical-align: top;\n    }\n\n    .dataframe thead th {\n        text-align: right;\n    }\n</style>\n<table border=\"1\" class=\"dataframe\">\n  <thead>\n    <tr style=\"text-align: right;\">\n      <th></th>\n      <th>Height (Inch)</th>\n      <th>Weight (Pound)</th>\n    </tr>\n    <tr>\n      <th>ID</th>\n      <th></th>\n      <th></th>\n    </tr>\n  </thead>\n  <tbody>\n    <tr>\n      <th>0</th>\n      <td>73.847017</td>\n      <td>241.893563</td>\n    </tr>\n    <tr>\n      <th>1</th>\n      <td>70.000000</td>\n      <td>200.000000</td>\n    </tr>\n    <tr>\n      <th>2</th>\n      <td>74.110105</td>\n      <td>212.740856</td>\n    </tr>\n    <tr>\n      <th>3</th>\n      <td>71.730978</td>\n      <td>220.042470</td>\n    </tr>\n    <tr>\n      <th>4</th>\n      <td>69.881796</td>\n      <td>206.349801</td>\n    </tr>\n    <tr>\n      <th>5</th>\n      <td>67.253016</td>\n      <td>152.212156</td>\n    </tr>\n    <tr>\n      <th>6</th>\n      <td>68.785081</td>\n      <td>183.927889</td>\n    </tr>\n    <tr>\n      <th>7</th>\n      <td>68.348516</td>\n      <td>167.971110</td>\n    </tr>\n    <tr>\n      <th>8</th>\n      <td>67.018950</td>\n      <td>175.929440</td>\n    </tr>\n    <tr>\n      <th>9</th>\n      <td>63.456494</td>\n      <td>156.399676</td>\n    </tr>\n    <tr>\n      <th>10</th>\n      <td>71.195382</td>\n      <td>186.604926</td>\n    </tr>\n    <tr>\n      <th>11</th>\n      <td>62.636675</td>\n      <td>102.853563</td>\n    </tr>\n    <tr>\n      <th>12</th>\n      <td>62.077832</td>\n      <td>138.691680</td>\n    </tr>\n    <tr>\n      <th>13</th>\n      <td>60.030434</td>\n      <td>97.687432</td>\n    </tr>\n    <tr>\n      <th>14</th>\n      <td>59.098250</td>\n      <td>110.529686</td>\n    </tr>\n    <tr>\n      <th>15</th>\n      <td>66.172652</td>\n      <td>136.777454</td>\n    </tr>\n    <tr>\n      <th>16</th>\n      <td>67.067155</td>\n      <td>170.867906</td>\n    </tr>\n    <tr>\n      <th>17</th>\n      <td>63.867992</td>\n      <td>128.475319</td>\n    </tr>\n    <tr>\n      <th>18</th>\n      <td>69.034243</td>\n      <td>163.852461</td>\n    </tr>\n    <tr>\n      <th>19</th>\n      <td>61.944246</td>\n      <td>113.649103</td>\n    </tr>\n    <tr>\n      <th>21</th>\n      <td>0.000000</td>\n      <td>0.000000</td>\n    </tr>\n  </tbody>\n</table>\n</div>"
     },
     "execution_count": 30,
     "metadata": {},
     "output_type": "execute_result"
    }
   ],
   "source": [
    "df.loc[1, 'Weight (Pound)'] = 200\n",
    "df"
   ],
   "metadata": {
    "collapsed": false,
    "ExecuteTime": {
     "end_time": "2024-04-19T06:18:46.324493Z",
     "start_time": "2024-04-19T06:18:46.319910Z"
    }
   },
   "id": "de2422a232917e69",
   "execution_count": 30
  },
  {
   "cell_type": "code",
   "outputs": [
    {
     "data": {
      "text/plain": "    Height (Inch)  Weight (Pound)\nID                               \n0       73.847017      241.893563\n1       70.000000      200.000000\n2       74.110105      212.740856\n3       71.730978      220.042470\n4       69.881796      206.349801\n5       67.253016      152.212156\n6       68.785081      183.927889\n7       68.348516      167.971110\n8       67.018950      175.929440\n9       63.456494      156.399676\n10      71.195382      186.604926\n11      62.636675      102.853563\n12      62.077832      138.691680\n13      60.030434       97.687432\n14      59.098250      110.529686\n15      66.172652      136.777454\n16      67.067155      170.867906\n17      63.867992      128.475319\n18      69.034243      163.852461\n19      61.944246      113.649103",
      "text/html": "<div>\n<style scoped>\n    .dataframe tbody tr th:only-of-type {\n        vertical-align: middle;\n    }\n\n    .dataframe tbody tr th {\n        vertical-align: top;\n    }\n\n    .dataframe thead th {\n        text-align: right;\n    }\n</style>\n<table border=\"1\" class=\"dataframe\">\n  <thead>\n    <tr style=\"text-align: right;\">\n      <th></th>\n      <th>Height (Inch)</th>\n      <th>Weight (Pound)</th>\n    </tr>\n    <tr>\n      <th>ID</th>\n      <th></th>\n      <th></th>\n    </tr>\n  </thead>\n  <tbody>\n    <tr>\n      <th>0</th>\n      <td>73.847017</td>\n      <td>241.893563</td>\n    </tr>\n    <tr>\n      <th>1</th>\n      <td>70.000000</td>\n      <td>200.000000</td>\n    </tr>\n    <tr>\n      <th>2</th>\n      <td>74.110105</td>\n      <td>212.740856</td>\n    </tr>\n    <tr>\n      <th>3</th>\n      <td>71.730978</td>\n      <td>220.042470</td>\n    </tr>\n    <tr>\n      <th>4</th>\n      <td>69.881796</td>\n      <td>206.349801</td>\n    </tr>\n    <tr>\n      <th>5</th>\n      <td>67.253016</td>\n      <td>152.212156</td>\n    </tr>\n    <tr>\n      <th>6</th>\n      <td>68.785081</td>\n      <td>183.927889</td>\n    </tr>\n    <tr>\n      <th>7</th>\n      <td>68.348516</td>\n      <td>167.971110</td>\n    </tr>\n    <tr>\n      <th>8</th>\n      <td>67.018950</td>\n      <td>175.929440</td>\n    </tr>\n    <tr>\n      <th>9</th>\n      <td>63.456494</td>\n      <td>156.399676</td>\n    </tr>\n    <tr>\n      <th>10</th>\n      <td>71.195382</td>\n      <td>186.604926</td>\n    </tr>\n    <tr>\n      <th>11</th>\n      <td>62.636675</td>\n      <td>102.853563</td>\n    </tr>\n    <tr>\n      <th>12</th>\n      <td>62.077832</td>\n      <td>138.691680</td>\n    </tr>\n    <tr>\n      <th>13</th>\n      <td>60.030434</td>\n      <td>97.687432</td>\n    </tr>\n    <tr>\n      <th>14</th>\n      <td>59.098250</td>\n      <td>110.529686</td>\n    </tr>\n    <tr>\n      <th>15</th>\n      <td>66.172652</td>\n      <td>136.777454</td>\n    </tr>\n    <tr>\n      <th>16</th>\n      <td>67.067155</td>\n      <td>170.867906</td>\n    </tr>\n    <tr>\n      <th>17</th>\n      <td>63.867992</td>\n      <td>128.475319</td>\n    </tr>\n    <tr>\n      <th>18</th>\n      <td>69.034243</td>\n      <td>163.852461</td>\n    </tr>\n    <tr>\n      <th>19</th>\n      <td>61.944246</td>\n      <td>113.649103</td>\n    </tr>\n  </tbody>\n</table>\n</div>"
     },
     "execution_count": 31,
     "metadata": {},
     "output_type": "execute_result"
    }
   ],
   "source": [
    "df.drop(21, axis=0, inplace=True)\n",
    "df"
   ],
   "metadata": {
    "collapsed": false,
    "ExecuteTime": {
     "end_time": "2024-04-19T06:18:53.407715Z",
     "start_time": "2024-04-19T06:18:53.403331Z"
    }
   },
   "id": "3fb896e72121371b",
   "execution_count": 31
  },
  {
   "cell_type": "code",
   "outputs": [
    {
     "data": {
      "text/plain": "    Height (Inch)  Weight (Pound)\nID                               \n0       73.847017      241.893563\n1       70.000000      200.000000\n2       74.110105      212.740856\n3       71.730978      220.042470\n4       69.881796      206.349801\n5       67.253016      152.212156\n6       68.785081      183.927889\n7       68.348516      167.971110\n8       67.018950      175.929440\n9       63.456494      156.399676\n10      71.195382      186.604926\n11      62.636675      102.853563\n12      62.077832      138.691680\n13      60.030434       97.687432\n14      59.098250      110.529686\n15      66.172652      136.777454\n16      67.067155      170.867906\n17      63.867992      128.475319\n18      69.034243      163.852461\n19      61.944246      113.649103\n20      70.000000      200.000000",
      "text/html": "<div>\n<style scoped>\n    .dataframe tbody tr th:only-of-type {\n        vertical-align: middle;\n    }\n\n    .dataframe tbody tr th {\n        vertical-align: top;\n    }\n\n    .dataframe thead th {\n        text-align: right;\n    }\n</style>\n<table border=\"1\" class=\"dataframe\">\n  <thead>\n    <tr style=\"text-align: right;\">\n      <th></th>\n      <th>Height (Inch)</th>\n      <th>Weight (Pound)</th>\n    </tr>\n    <tr>\n      <th>ID</th>\n      <th></th>\n      <th></th>\n    </tr>\n  </thead>\n  <tbody>\n    <tr>\n      <th>0</th>\n      <td>73.847017</td>\n      <td>241.893563</td>\n    </tr>\n    <tr>\n      <th>1</th>\n      <td>70.000000</td>\n      <td>200.000000</td>\n    </tr>\n    <tr>\n      <th>2</th>\n      <td>74.110105</td>\n      <td>212.740856</td>\n    </tr>\n    <tr>\n      <th>3</th>\n      <td>71.730978</td>\n      <td>220.042470</td>\n    </tr>\n    <tr>\n      <th>4</th>\n      <td>69.881796</td>\n      <td>206.349801</td>\n    </tr>\n    <tr>\n      <th>5</th>\n      <td>67.253016</td>\n      <td>152.212156</td>\n    </tr>\n    <tr>\n      <th>6</th>\n      <td>68.785081</td>\n      <td>183.927889</td>\n    </tr>\n    <tr>\n      <th>7</th>\n      <td>68.348516</td>\n      <td>167.971110</td>\n    </tr>\n    <tr>\n      <th>8</th>\n      <td>67.018950</td>\n      <td>175.929440</td>\n    </tr>\n    <tr>\n      <th>9</th>\n      <td>63.456494</td>\n      <td>156.399676</td>\n    </tr>\n    <tr>\n      <th>10</th>\n      <td>71.195382</td>\n      <td>186.604926</td>\n    </tr>\n    <tr>\n      <th>11</th>\n      <td>62.636675</td>\n      <td>102.853563</td>\n    </tr>\n    <tr>\n      <th>12</th>\n      <td>62.077832</td>\n      <td>138.691680</td>\n    </tr>\n    <tr>\n      <th>13</th>\n      <td>60.030434</td>\n      <td>97.687432</td>\n    </tr>\n    <tr>\n      <th>14</th>\n      <td>59.098250</td>\n      <td>110.529686</td>\n    </tr>\n    <tr>\n      <th>15</th>\n      <td>66.172652</td>\n      <td>136.777454</td>\n    </tr>\n    <tr>\n      <th>16</th>\n      <td>67.067155</td>\n      <td>170.867906</td>\n    </tr>\n    <tr>\n      <th>17</th>\n      <td>63.867992</td>\n      <td>128.475319</td>\n    </tr>\n    <tr>\n      <th>18</th>\n      <td>69.034243</td>\n      <td>163.852461</td>\n    </tr>\n    <tr>\n      <th>19</th>\n      <td>61.944246</td>\n      <td>113.649103</td>\n    </tr>\n    <tr>\n      <th>20</th>\n      <td>70.000000</td>\n      <td>200.000000</td>\n    </tr>\n  </tbody>\n</table>\n</div>"
     },
     "execution_count": 33,
     "metadata": {},
     "output_type": "execute_result"
    }
   ],
   "source": [
    "df.loc[20] = [70, 200]\n",
    "df"
   ],
   "metadata": {
    "collapsed": false,
    "ExecuteTime": {
     "end_time": "2024-04-19T06:19:21.299903Z",
     "start_time": "2024-04-19T06:19:21.294472Z"
    }
   },
   "id": "f3154edb9d19d268",
   "execution_count": 33
  },
  {
   "cell_type": "code",
   "outputs": [],
   "source": [],
   "metadata": {
    "collapsed": false
   },
   "id": "d97c0b7fced6ba12"
  }
 ],
 "metadata": {
  "kernelspec": {
   "display_name": "Python 3",
   "language": "python",
   "name": "python3"
  },
  "language_info": {
   "codemirror_mode": {
    "name": "ipython",
    "version": 2
   },
   "file_extension": ".py",
   "mimetype": "text/x-python",
   "name": "python",
   "nbconvert_exporter": "python",
   "pygments_lexer": "ipython2",
   "version": "2.7.6"
  }
 },
 "nbformat": 4,
 "nbformat_minor": 5
}
