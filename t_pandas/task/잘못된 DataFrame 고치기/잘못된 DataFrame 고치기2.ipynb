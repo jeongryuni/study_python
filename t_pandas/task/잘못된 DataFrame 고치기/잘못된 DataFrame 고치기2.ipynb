{
 "cells": [
  {
   "cell_type": "code",
   "execution_count": 5,
   "id": "initial_id",
   "metadata": {
    "collapsed": true,
    "ExecuteTime": {
     "end_time": "2024-04-24T06:29:42.477764Z",
     "start_time": "2024-04-24T06:29:42.469537Z"
    }
   },
   "outputs": [],
   "source": [
    "import pandas as pd\n",
    "\n",
    "df = pd.read_csv('../data/body_imperial2.csv', index_col=0)"
   ]
  },
  {
   "cell_type": "code",
   "outputs": [
    {
     "data": {
      "text/plain": "    Gender  Height (Inch)  Weight (Pound)\nID                                       \n0      NaN      73.847017      241.893563\n1      NaN      70.000000      200.000000\n2      NaN      74.110105      212.740856\n3      NaN      71.730978      220.042470\n4      NaN      69.881796      206.349801\n5      NaN      67.253016      152.212156\n6      NaN      68.785081      183.927889\n7      NaN      68.348516      167.971110\n8      NaN      67.018950      175.929440\n9      NaN      63.456494      156.399676\n10     NaN      71.195382      186.604926\n11     NaN      62.636675      102.853563\n12     NaN      62.077832      138.691680\n13     NaN      60.030434       97.687432\n14     NaN      59.098250      110.529686\n15     NaN      66.172652      136.777454\n16     NaN      67.067155      170.867906\n17     NaN      63.867992      128.475319\n18     NaN      69.034243      163.852461\n19     NaN      61.944246      113.649103\n20     NaN      70.000000      200.000000",
      "text/html": "<div>\n<style scoped>\n    .dataframe tbody tr th:only-of-type {\n        vertical-align: middle;\n    }\n\n    .dataframe tbody tr th {\n        vertical-align: top;\n    }\n\n    .dataframe thead th {\n        text-align: right;\n    }\n</style>\n<table border=\"1\" class=\"dataframe\">\n  <thead>\n    <tr style=\"text-align: right;\">\n      <th></th>\n      <th>Gender</th>\n      <th>Height (Inch)</th>\n      <th>Weight (Pound)</th>\n    </tr>\n    <tr>\n      <th>ID</th>\n      <th></th>\n      <th></th>\n      <th></th>\n    </tr>\n  </thead>\n  <tbody>\n    <tr>\n      <th>0</th>\n      <td>NaN</td>\n      <td>73.847017</td>\n      <td>241.893563</td>\n    </tr>\n    <tr>\n      <th>1</th>\n      <td>NaN</td>\n      <td>70.000000</td>\n      <td>200.000000</td>\n    </tr>\n    <tr>\n      <th>2</th>\n      <td>NaN</td>\n      <td>74.110105</td>\n      <td>212.740856</td>\n    </tr>\n    <tr>\n      <th>3</th>\n      <td>NaN</td>\n      <td>71.730978</td>\n      <td>220.042470</td>\n    </tr>\n    <tr>\n      <th>4</th>\n      <td>NaN</td>\n      <td>69.881796</td>\n      <td>206.349801</td>\n    </tr>\n    <tr>\n      <th>5</th>\n      <td>NaN</td>\n      <td>67.253016</td>\n      <td>152.212156</td>\n    </tr>\n    <tr>\n      <th>6</th>\n      <td>NaN</td>\n      <td>68.785081</td>\n      <td>183.927889</td>\n    </tr>\n    <tr>\n      <th>7</th>\n      <td>NaN</td>\n      <td>68.348516</td>\n      <td>167.971110</td>\n    </tr>\n    <tr>\n      <th>8</th>\n      <td>NaN</td>\n      <td>67.018950</td>\n      <td>175.929440</td>\n    </tr>\n    <tr>\n      <th>9</th>\n      <td>NaN</td>\n      <td>63.456494</td>\n      <td>156.399676</td>\n    </tr>\n    <tr>\n      <th>10</th>\n      <td>NaN</td>\n      <td>71.195382</td>\n      <td>186.604926</td>\n    </tr>\n    <tr>\n      <th>11</th>\n      <td>NaN</td>\n      <td>62.636675</td>\n      <td>102.853563</td>\n    </tr>\n    <tr>\n      <th>12</th>\n      <td>NaN</td>\n      <td>62.077832</td>\n      <td>138.691680</td>\n    </tr>\n    <tr>\n      <th>13</th>\n      <td>NaN</td>\n      <td>60.030434</td>\n      <td>97.687432</td>\n    </tr>\n    <tr>\n      <th>14</th>\n      <td>NaN</td>\n      <td>59.098250</td>\n      <td>110.529686</td>\n    </tr>\n    <tr>\n      <th>15</th>\n      <td>NaN</td>\n      <td>66.172652</td>\n      <td>136.777454</td>\n    </tr>\n    <tr>\n      <th>16</th>\n      <td>NaN</td>\n      <td>67.067155</td>\n      <td>170.867906</td>\n    </tr>\n    <tr>\n      <th>17</th>\n      <td>NaN</td>\n      <td>63.867992</td>\n      <td>128.475319</td>\n    </tr>\n    <tr>\n      <th>18</th>\n      <td>NaN</td>\n      <td>69.034243</td>\n      <td>163.852461</td>\n    </tr>\n    <tr>\n      <th>19</th>\n      <td>NaN</td>\n      <td>61.944246</td>\n      <td>113.649103</td>\n    </tr>\n    <tr>\n      <th>20</th>\n      <td>NaN</td>\n      <td>70.000000</td>\n      <td>200.000000</td>\n    </tr>\n  </tbody>\n</table>\n</div>"
     },
     "execution_count": 6,
     "metadata": {},
     "output_type": "execute_result"
    }
   ],
   "source": [
    "df"
   ],
   "metadata": {
    "collapsed": false,
    "ExecuteTime": {
     "end_time": "2024-04-24T06:29:43.525414Z",
     "start_time": "2024-04-24T06:29:43.514047Z"
    }
   },
   "id": "d2e0052aff2e2986",
   "execution_count": 6
  },
  {
   "cell_type": "code",
   "outputs": [
    {
     "data": {
      "text/plain": "    Gender  Height (Inch)  Weight (Pound) 비만도\nID                                           \n0      NaN      73.847017      241.893563  정상\n1      NaN      70.000000      200.000000  정상\n2      NaN      74.110105      212.740856  정상\n3      NaN      71.730978      220.042470  정상\n4      NaN      69.881796      206.349801  정상\n5      NaN      67.253016      152.212156  정상\n6      NaN      68.785081      183.927889  정상\n7      NaN      68.348516      167.971110  정상\n8      NaN      67.018950      175.929440  정상\n9      NaN      63.456494      156.399676  정상\n10     NaN      71.195382      186.604926  정상\n11     NaN      62.636675      102.853563  정상\n12     NaN      62.077832      138.691680  정상\n13     NaN      60.030434       97.687432  정상\n14     NaN      59.098250      110.529686  정상\n15     NaN      66.172652      136.777454  정상\n16     NaN      67.067155      170.867906  정상\n17     NaN      63.867992      128.475319  정상\n18     NaN      69.034243      163.852461  정상\n19     NaN      61.944246      113.649103  정상\n20     NaN      70.000000      200.000000  정상",
      "text/html": "<div>\n<style scoped>\n    .dataframe tbody tr th:only-of-type {\n        vertical-align: middle;\n    }\n\n    .dataframe tbody tr th {\n        vertical-align: top;\n    }\n\n    .dataframe thead th {\n        text-align: right;\n    }\n</style>\n<table border=\"1\" class=\"dataframe\">\n  <thead>\n    <tr style=\"text-align: right;\">\n      <th></th>\n      <th>Gender</th>\n      <th>Height (Inch)</th>\n      <th>Weight (Pound)</th>\n      <th>비만도</th>\n    </tr>\n    <tr>\n      <th>ID</th>\n      <th></th>\n      <th></th>\n      <th></th>\n      <th></th>\n    </tr>\n  </thead>\n  <tbody>\n    <tr>\n      <th>0</th>\n      <td>NaN</td>\n      <td>73.847017</td>\n      <td>241.893563</td>\n      <td>정상</td>\n    </tr>\n    <tr>\n      <th>1</th>\n      <td>NaN</td>\n      <td>70.000000</td>\n      <td>200.000000</td>\n      <td>정상</td>\n    </tr>\n    <tr>\n      <th>2</th>\n      <td>NaN</td>\n      <td>74.110105</td>\n      <td>212.740856</td>\n      <td>정상</td>\n    </tr>\n    <tr>\n      <th>3</th>\n      <td>NaN</td>\n      <td>71.730978</td>\n      <td>220.042470</td>\n      <td>정상</td>\n    </tr>\n    <tr>\n      <th>4</th>\n      <td>NaN</td>\n      <td>69.881796</td>\n      <td>206.349801</td>\n      <td>정상</td>\n    </tr>\n    <tr>\n      <th>5</th>\n      <td>NaN</td>\n      <td>67.253016</td>\n      <td>152.212156</td>\n      <td>정상</td>\n    </tr>\n    <tr>\n      <th>6</th>\n      <td>NaN</td>\n      <td>68.785081</td>\n      <td>183.927889</td>\n      <td>정상</td>\n    </tr>\n    <tr>\n      <th>7</th>\n      <td>NaN</td>\n      <td>68.348516</td>\n      <td>167.971110</td>\n      <td>정상</td>\n    </tr>\n    <tr>\n      <th>8</th>\n      <td>NaN</td>\n      <td>67.018950</td>\n      <td>175.929440</td>\n      <td>정상</td>\n    </tr>\n    <tr>\n      <th>9</th>\n      <td>NaN</td>\n      <td>63.456494</td>\n      <td>156.399676</td>\n      <td>정상</td>\n    </tr>\n    <tr>\n      <th>10</th>\n      <td>NaN</td>\n      <td>71.195382</td>\n      <td>186.604926</td>\n      <td>정상</td>\n    </tr>\n    <tr>\n      <th>11</th>\n      <td>NaN</td>\n      <td>62.636675</td>\n      <td>102.853563</td>\n      <td>정상</td>\n    </tr>\n    <tr>\n      <th>12</th>\n      <td>NaN</td>\n      <td>62.077832</td>\n      <td>138.691680</td>\n      <td>정상</td>\n    </tr>\n    <tr>\n      <th>13</th>\n      <td>NaN</td>\n      <td>60.030434</td>\n      <td>97.687432</td>\n      <td>정상</td>\n    </tr>\n    <tr>\n      <th>14</th>\n      <td>NaN</td>\n      <td>59.098250</td>\n      <td>110.529686</td>\n      <td>정상</td>\n    </tr>\n    <tr>\n      <th>15</th>\n      <td>NaN</td>\n      <td>66.172652</td>\n      <td>136.777454</td>\n      <td>정상</td>\n    </tr>\n    <tr>\n      <th>16</th>\n      <td>NaN</td>\n      <td>67.067155</td>\n      <td>170.867906</td>\n      <td>정상</td>\n    </tr>\n    <tr>\n      <th>17</th>\n      <td>NaN</td>\n      <td>63.867992</td>\n      <td>128.475319</td>\n      <td>정상</td>\n    </tr>\n    <tr>\n      <th>18</th>\n      <td>NaN</td>\n      <td>69.034243</td>\n      <td>163.852461</td>\n      <td>정상</td>\n    </tr>\n    <tr>\n      <th>19</th>\n      <td>NaN</td>\n      <td>61.944246</td>\n      <td>113.649103</td>\n      <td>정상</td>\n    </tr>\n    <tr>\n      <th>20</th>\n      <td>NaN</td>\n      <td>70.000000</td>\n      <td>200.000000</td>\n      <td>정상</td>\n    </tr>\n  </tbody>\n</table>\n</div>"
     },
     "execution_count": 7,
     "metadata": {},
     "output_type": "execute_result"
    }
   ],
   "source": [
    "df['비만도'] = '정상'\n",
    "df"
   ],
   "metadata": {
    "collapsed": false,
    "ExecuteTime": {
     "end_time": "2024-04-24T06:29:44.113751Z",
     "start_time": "2024-04-24T06:29:44.111195Z"
    }
   },
   "id": "420adb9cede81637",
   "execution_count": 7
  },
  {
   "cell_type": "code",
   "outputs": [],
   "source": [
    "df.loc[: 10, 'Gender'] = 'Male'\n",
    "df.loc[11: 20, 'Gender'] = 'Female'"
   ],
   "metadata": {
    "collapsed": false,
    "ExecuteTime": {
     "end_time": "2024-04-24T06:30:55.329453Z",
     "start_time": "2024-04-24T06:30:55.323931Z"
    }
   },
   "id": "a11632b1b6bcfb97",
   "execution_count": 9
  },
  {
   "cell_type": "code",
   "outputs": [
    {
     "data": {
      "text/plain": "    Gender  Height (Inch)  Weight (Pound) 비만도\nID                                           \n0     Male      73.847017      241.893563  정상\n1     Male      70.000000      200.000000  정상\n2     Male      74.110105      212.740856  정상\n3     Male      71.730978      220.042470  정상\n4     Male      69.881796      206.349801  정상\n5     Male      67.253016      152.212156  정상\n6     Male      68.785081      183.927889  정상\n7     Male      68.348516      167.971110  정상\n8     Male      67.018950      175.929440  정상\n9     Male      63.456494      156.399676  정상\n10    Male      71.195382      186.604926  정상\n11  Female      62.636675      102.853563  정상\n12  Female      62.077832      138.691680  정상\n13  Female      60.030434       97.687432  정상\n14  Female      59.098250      110.529686  정상\n15  Female      66.172652      136.777454  정상\n16  Female      67.067155      170.867906  정상\n17  Female      63.867992      128.475319  정상\n18  Female      69.034243      163.852461  정상\n19  Female      61.944246      113.649103  정상\n20  Female      70.000000      200.000000  정상",
      "text/html": "<div>\n<style scoped>\n    .dataframe tbody tr th:only-of-type {\n        vertical-align: middle;\n    }\n\n    .dataframe tbody tr th {\n        vertical-align: top;\n    }\n\n    .dataframe thead th {\n        text-align: right;\n    }\n</style>\n<table border=\"1\" class=\"dataframe\">\n  <thead>\n    <tr style=\"text-align: right;\">\n      <th></th>\n      <th>Gender</th>\n      <th>Height (Inch)</th>\n      <th>Weight (Pound)</th>\n      <th>비만도</th>\n    </tr>\n    <tr>\n      <th>ID</th>\n      <th></th>\n      <th></th>\n      <th></th>\n      <th></th>\n    </tr>\n  </thead>\n  <tbody>\n    <tr>\n      <th>0</th>\n      <td>Male</td>\n      <td>73.847017</td>\n      <td>241.893563</td>\n      <td>정상</td>\n    </tr>\n    <tr>\n      <th>1</th>\n      <td>Male</td>\n      <td>70.000000</td>\n      <td>200.000000</td>\n      <td>정상</td>\n    </tr>\n    <tr>\n      <th>2</th>\n      <td>Male</td>\n      <td>74.110105</td>\n      <td>212.740856</td>\n      <td>정상</td>\n    </tr>\n    <tr>\n      <th>3</th>\n      <td>Male</td>\n      <td>71.730978</td>\n      <td>220.042470</td>\n      <td>정상</td>\n    </tr>\n    <tr>\n      <th>4</th>\n      <td>Male</td>\n      <td>69.881796</td>\n      <td>206.349801</td>\n      <td>정상</td>\n    </tr>\n    <tr>\n      <th>5</th>\n      <td>Male</td>\n      <td>67.253016</td>\n      <td>152.212156</td>\n      <td>정상</td>\n    </tr>\n    <tr>\n      <th>6</th>\n      <td>Male</td>\n      <td>68.785081</td>\n      <td>183.927889</td>\n      <td>정상</td>\n    </tr>\n    <tr>\n      <th>7</th>\n      <td>Male</td>\n      <td>68.348516</td>\n      <td>167.971110</td>\n      <td>정상</td>\n    </tr>\n    <tr>\n      <th>8</th>\n      <td>Male</td>\n      <td>67.018950</td>\n      <td>175.929440</td>\n      <td>정상</td>\n    </tr>\n    <tr>\n      <th>9</th>\n      <td>Male</td>\n      <td>63.456494</td>\n      <td>156.399676</td>\n      <td>정상</td>\n    </tr>\n    <tr>\n      <th>10</th>\n      <td>Male</td>\n      <td>71.195382</td>\n      <td>186.604926</td>\n      <td>정상</td>\n    </tr>\n    <tr>\n      <th>11</th>\n      <td>Female</td>\n      <td>62.636675</td>\n      <td>102.853563</td>\n      <td>정상</td>\n    </tr>\n    <tr>\n      <th>12</th>\n      <td>Female</td>\n      <td>62.077832</td>\n      <td>138.691680</td>\n      <td>정상</td>\n    </tr>\n    <tr>\n      <th>13</th>\n      <td>Female</td>\n      <td>60.030434</td>\n      <td>97.687432</td>\n      <td>정상</td>\n    </tr>\n    <tr>\n      <th>14</th>\n      <td>Female</td>\n      <td>59.098250</td>\n      <td>110.529686</td>\n      <td>정상</td>\n    </tr>\n    <tr>\n      <th>15</th>\n      <td>Female</td>\n      <td>66.172652</td>\n      <td>136.777454</td>\n      <td>정상</td>\n    </tr>\n    <tr>\n      <th>16</th>\n      <td>Female</td>\n      <td>67.067155</td>\n      <td>170.867906</td>\n      <td>정상</td>\n    </tr>\n    <tr>\n      <th>17</th>\n      <td>Female</td>\n      <td>63.867992</td>\n      <td>128.475319</td>\n      <td>정상</td>\n    </tr>\n    <tr>\n      <th>18</th>\n      <td>Female</td>\n      <td>69.034243</td>\n      <td>163.852461</td>\n      <td>정상</td>\n    </tr>\n    <tr>\n      <th>19</th>\n      <td>Female</td>\n      <td>61.944246</td>\n      <td>113.649103</td>\n      <td>정상</td>\n    </tr>\n    <tr>\n      <th>20</th>\n      <td>Female</td>\n      <td>70.000000</td>\n      <td>200.000000</td>\n      <td>정상</td>\n    </tr>\n  </tbody>\n</table>\n</div>"
     },
     "execution_count": 10,
     "metadata": {},
     "output_type": "execute_result"
    }
   ],
   "source": [
    "df"
   ],
   "metadata": {
    "collapsed": false,
    "ExecuteTime": {
     "end_time": "2024-04-24T06:30:57.497388Z",
     "start_time": "2024-04-24T06:30:57.486526Z"
    }
   },
   "id": "9016c0c9d31c98b3",
   "execution_count": 10
  },
  {
   "cell_type": "code",
   "outputs": [],
   "source": [],
   "metadata": {
    "collapsed": false
   },
   "id": "8128588cf6a6dbf4"
  }
 ],
 "metadata": {
  "kernelspec": {
   "display_name": "Python 3",
   "language": "python",
   "name": "python3"
  },
  "language_info": {
   "codemirror_mode": {
    "name": "ipython",
    "version": 2
   },
   "file_extension": ".py",
   "mimetype": "text/x-python",
   "name": "python",
   "nbconvert_exporter": "python",
   "pygments_lexer": "ipython2",
   "version": "2.7.6"
  }
 },
 "nbformat": 4,
 "nbformat_minor": 5
}
