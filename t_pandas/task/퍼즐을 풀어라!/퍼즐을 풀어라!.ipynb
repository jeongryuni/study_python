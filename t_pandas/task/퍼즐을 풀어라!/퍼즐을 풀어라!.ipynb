{
 "cells": [
  {
   "cell_type": "code",
   "execution_count": 70,
   "id": "initial_id",
   "metadata": {
    "collapsed": true,
    "ExecuteTime": {
     "end_time": "2024-04-22T06:43:38.760832Z",
     "start_time": "2024-04-22T06:43:38.751009Z"
    }
   },
   "outputs": [
    {
     "data": {
      "text/plain": "   A   B   C   D   E   F\n0  1  55  70  87  56  13\n1  2  45  60  99  53  24\n2  3  88  70  94  39  29\n3  4  97  80  24  83  78\n4  5  13  90  26  80  61",
      "text/html": "<div>\n<style scoped>\n    .dataframe tbody tr th:only-of-type {\n        vertical-align: middle;\n    }\n\n    .dataframe tbody tr th {\n        vertical-align: top;\n    }\n\n    .dataframe thead th {\n        text-align: right;\n    }\n</style>\n<table border=\"1\" class=\"dataframe\">\n  <thead>\n    <tr style=\"text-align: right;\">\n      <th></th>\n      <th>A</th>\n      <th>B</th>\n      <th>C</th>\n      <th>D</th>\n      <th>E</th>\n      <th>F</th>\n    </tr>\n  </thead>\n  <tbody>\n    <tr>\n      <th>0</th>\n      <td>1</td>\n      <td>55</td>\n      <td>70</td>\n      <td>87</td>\n      <td>56</td>\n      <td>13</td>\n    </tr>\n    <tr>\n      <th>1</th>\n      <td>2</td>\n      <td>45</td>\n      <td>60</td>\n      <td>99</td>\n      <td>53</td>\n      <td>24</td>\n    </tr>\n    <tr>\n      <th>2</th>\n      <td>3</td>\n      <td>88</td>\n      <td>70</td>\n      <td>94</td>\n      <td>39</td>\n      <td>29</td>\n    </tr>\n    <tr>\n      <th>3</th>\n      <td>4</td>\n      <td>97</td>\n      <td>80</td>\n      <td>24</td>\n      <td>83</td>\n      <td>78</td>\n    </tr>\n    <tr>\n      <th>4</th>\n      <td>5</td>\n      <td>13</td>\n      <td>90</td>\n      <td>26</td>\n      <td>80</td>\n      <td>61</td>\n    </tr>\n  </tbody>\n</table>\n</div>"
     },
     "execution_count": 70,
     "metadata": {},
     "output_type": "execute_result"
    }
   ],
   "source": [
    "import pandas as pd\n",
    "\n",
    "df = pd.read_csv('../data/Puzzle_before.csv')\n",
    "df"
   ]
  },
  {
   "cell_type": "raw",
   "source": [
    "A열 = 1 2 3 4 5 => 2 4 6 8 10 (곱2)\n",
    "B열 = 55 45 88 97 13 => 0 0 1 1 0 (80이상이면 1)\n",
    "C열 = 70 60 70 80 90 => 0 0 0 1 1 (80이상이면 1)\n",
    "D열 = 87 99 94 24 26 => 1 1 1 0 0 (80이상이면 1)\n",
    "E열 = 56 53 39 83 80 => 0 0 0 1 1 (80이상이면 1)\n",
    "F열 = 13 24 28 78 61 => 13 24 99 78 61 (2행만 99로 바꾸기)"
   ],
   "metadata": {
    "collapsed": false
   },
   "id": "abf4dd916f61be5b"
  },
  {
   "cell_type": "code",
   "outputs": [],
   "source": [
    "df['A'] = df['A']*2\n",
    "df.loc[:,'B': 'E'] = 80 <= df.loc[:,'B' : 'E']\n",
    "df = df.astype(int)\n",
    "df.loc[2,'F'] = 99"
   ],
   "metadata": {
    "collapsed": false,
    "ExecuteTime": {
     "end_time": "2024-04-22T06:43:40.908878Z",
     "start_time": "2024-04-22T06:43:40.904112Z"
    }
   },
   "id": "b0fde328f25bea31",
   "execution_count": 71
  },
  {
   "cell_type": "code",
   "outputs": [
    {
     "data": {
      "text/plain": "    A  B  C  D  E   F\n0   2  0  0  1  0  13\n1   4  0  0  1  0  24\n2   6  1  0  1  0  99\n3   8  1  0  0  1  78\n4  10  0  1  0  0  61",
      "text/html": "<div>\n<style scoped>\n    .dataframe tbody tr th:only-of-type {\n        vertical-align: middle;\n    }\n\n    .dataframe tbody tr th {\n        vertical-align: top;\n    }\n\n    .dataframe thead th {\n        text-align: right;\n    }\n</style>\n<table border=\"1\" class=\"dataframe\">\n  <thead>\n    <tr style=\"text-align: right;\">\n      <th></th>\n      <th>A</th>\n      <th>B</th>\n      <th>C</th>\n      <th>D</th>\n      <th>E</th>\n      <th>F</th>\n    </tr>\n  </thead>\n  <tbody>\n    <tr>\n      <th>0</th>\n      <td>2</td>\n      <td>0</td>\n      <td>0</td>\n      <td>1</td>\n      <td>0</td>\n      <td>13</td>\n    </tr>\n    <tr>\n      <th>1</th>\n      <td>4</td>\n      <td>0</td>\n      <td>0</td>\n      <td>1</td>\n      <td>0</td>\n      <td>24</td>\n    </tr>\n    <tr>\n      <th>2</th>\n      <td>6</td>\n      <td>1</td>\n      <td>0</td>\n      <td>1</td>\n      <td>0</td>\n      <td>99</td>\n    </tr>\n    <tr>\n      <th>3</th>\n      <td>8</td>\n      <td>1</td>\n      <td>0</td>\n      <td>0</td>\n      <td>1</td>\n      <td>78</td>\n    </tr>\n    <tr>\n      <th>4</th>\n      <td>10</td>\n      <td>0</td>\n      <td>1</td>\n      <td>0</td>\n      <td>0</td>\n      <td>61</td>\n    </tr>\n  </tbody>\n</table>\n</div>"
     },
     "execution_count": 69,
     "metadata": {},
     "output_type": "execute_result"
    }
   ],
   "source": [
    "df"
   ],
   "metadata": {
    "collapsed": false,
    "ExecuteTime": {
     "end_time": "2024-04-22T06:41:19.498437Z",
     "start_time": "2024-04-22T06:41:19.491482Z"
    }
   },
   "id": "64cd268ee3b9992",
   "execution_count": 69
  }
 ],
 "metadata": {
  "kernelspec": {
   "display_name": "Python 3",
   "language": "python",
   "name": "python3"
  },
  "language_info": {
   "codemirror_mode": {
    "name": "ipython",
    "version": 2
   },
   "file_extension": ".py",
   "mimetype": "text/x-python",
   "name": "python",
   "nbconvert_exporter": "python",
   "pygments_lexer": "ipython2",
   "version": "2.7.6"
  }
 },
 "nbformat": 4,
 "nbformat_minor": 5
}
