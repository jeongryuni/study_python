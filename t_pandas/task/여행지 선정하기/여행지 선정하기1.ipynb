{
 "cells": [
  {
   "cell_type": "code",
   "execution_count": 1,
   "id": "initial_id",
   "metadata": {
    "collapsed": true,
    "ExecuteTime": {
     "end_time": "2024-04-22T08:48:16.673067Z",
     "start_time": "2024-04-22T08:48:16.354940Z"
    }
   },
   "outputs": [
    {
     "data": {
      "text/plain": "     Unnamed: 0 City / Urban area     Country  Population  Land area (in sqKm)\n0             0      Buenos Aires   Argentina    11200000                 2266\n1             1         Melbourne   Australia     3162000                 2080\n2             2            Sydney   Australia     3502000                 1687\n3             3          Brisbane   Australia     1508000                 1603\n4             4             Perth   Australia     1177000                  964\n..          ...               ...         ...         ...                  ...\n244         245            Canton         USA      267000                  372\n245         246           Spokane         USA      335000                  371\n246         247          Tashkent  Uzbekistan     2200000                  531\n247         248  Ho Chi Minh City     Vietnam     4900000                  518\n248         249            Harare    Zimbabwe     1750000                  712\n\n[249 rows x 5 columns]",
      "text/html": "<div>\n<style scoped>\n    .dataframe tbody tr th:only-of-type {\n        vertical-align: middle;\n    }\n\n    .dataframe tbody tr th {\n        vertical-align: top;\n    }\n\n    .dataframe thead th {\n        text-align: right;\n    }\n</style>\n<table border=\"1\" class=\"dataframe\">\n  <thead>\n    <tr style=\"text-align: right;\">\n      <th></th>\n      <th>Unnamed: 0</th>\n      <th>City / Urban area</th>\n      <th>Country</th>\n      <th>Population</th>\n      <th>Land area (in sqKm)</th>\n    </tr>\n  </thead>\n  <tbody>\n    <tr>\n      <th>0</th>\n      <td>0</td>\n      <td>Buenos Aires</td>\n      <td>Argentina</td>\n      <td>11200000</td>\n      <td>2266</td>\n    </tr>\n    <tr>\n      <th>1</th>\n      <td>1</td>\n      <td>Melbourne</td>\n      <td>Australia</td>\n      <td>3162000</td>\n      <td>2080</td>\n    </tr>\n    <tr>\n      <th>2</th>\n      <td>2</td>\n      <td>Sydney</td>\n      <td>Australia</td>\n      <td>3502000</td>\n      <td>1687</td>\n    </tr>\n    <tr>\n      <th>3</th>\n      <td>3</td>\n      <td>Brisbane</td>\n      <td>Australia</td>\n      <td>1508000</td>\n      <td>1603</td>\n    </tr>\n    <tr>\n      <th>4</th>\n      <td>4</td>\n      <td>Perth</td>\n      <td>Australia</td>\n      <td>1177000</td>\n      <td>964</td>\n    </tr>\n    <tr>\n      <th>...</th>\n      <td>...</td>\n      <td>...</td>\n      <td>...</td>\n      <td>...</td>\n      <td>...</td>\n    </tr>\n    <tr>\n      <th>244</th>\n      <td>245</td>\n      <td>Canton</td>\n      <td>USA</td>\n      <td>267000</td>\n      <td>372</td>\n    </tr>\n    <tr>\n      <th>245</th>\n      <td>246</td>\n      <td>Spokane</td>\n      <td>USA</td>\n      <td>335000</td>\n      <td>371</td>\n    </tr>\n    <tr>\n      <th>246</th>\n      <td>247</td>\n      <td>Tashkent</td>\n      <td>Uzbekistan</td>\n      <td>2200000</td>\n      <td>531</td>\n    </tr>\n    <tr>\n      <th>247</th>\n      <td>248</td>\n      <td>Ho Chi Minh City</td>\n      <td>Vietnam</td>\n      <td>4900000</td>\n      <td>518</td>\n    </tr>\n    <tr>\n      <th>248</th>\n      <td>249</td>\n      <td>Harare</td>\n      <td>Zimbabwe</td>\n      <td>1750000</td>\n      <td>712</td>\n    </tr>\n  </tbody>\n</table>\n<p>249 rows × 5 columns</p>\n</div>"
     },
     "execution_count": 1,
     "metadata": {},
     "output_type": "execute_result"
    }
   ],
   "source": [
    "import pandas as pd\n",
    "\n",
    "df = pd.read_csv('../data/world_cities.csv')\n",
    "df"
   ]
  },
  {
   "cell_type": "raw",
   "source": [
    "여행을 좋아하는 익중이는 여행지를 알아보고 있습니다. 주어진 데이터에는 총 몇 개의 도시와 몇 개의 나라가 있는지 알아맞혀 보세요.\n",
    "\n",
    "답안은 도시/나라 형식으로 숫자만 입력해 주세요. (예시: 156/77)"
   ],
   "metadata": {
    "collapsed": false
   },
   "id": "53e2ee6593259504"
  },
  {
   "cell_type": "code",
   "outputs": [
    {
     "data": {
      "text/plain": "       City / Urban area Country\ncount                249     249\nunique               249      61\ntop         Buenos Aires     USA\nfreq                   1     105",
      "text/html": "<div>\n<style scoped>\n    .dataframe tbody tr th:only-of-type {\n        vertical-align: middle;\n    }\n\n    .dataframe tbody tr th {\n        vertical-align: top;\n    }\n\n    .dataframe thead th {\n        text-align: right;\n    }\n</style>\n<table border=\"1\" class=\"dataframe\">\n  <thead>\n    <tr style=\"text-align: right;\">\n      <th></th>\n      <th>City / Urban area</th>\n      <th>Country</th>\n    </tr>\n  </thead>\n  <tbody>\n    <tr>\n      <th>count</th>\n      <td>249</td>\n      <td>249</td>\n    </tr>\n    <tr>\n      <th>unique</th>\n      <td>249</td>\n      <td>61</td>\n    </tr>\n    <tr>\n      <th>top</th>\n      <td>Buenos Aires</td>\n      <td>USA</td>\n    </tr>\n    <tr>\n      <th>freq</th>\n      <td>1</td>\n      <td>105</td>\n    </tr>\n  </tbody>\n</table>\n</div>"
     },
     "execution_count": 2,
     "metadata": {},
     "output_type": "execute_result"
    }
   ],
   "source": [
    "df[['City / Urban area', 'Country']].describe()"
   ],
   "metadata": {
    "collapsed": false,
    "ExecuteTime": {
     "end_time": "2024-04-22T08:48:16.683838Z",
     "start_time": "2024-04-22T08:48:16.677594Z"
    }
   },
   "id": "9f9aad0fc04597e3",
   "execution_count": 2
  },
  {
   "cell_type": "raw",
   "source": [
    "사람 만나기를 좋아하는 익중이는 가장 사람이 붐비는 도시로 여행을 가기로 마음 먹었습니다. 주어진 데이터에서, 인구 밀도(명/sqKm) 가 10000 이 넘는 도시는 총 몇 개인지 알아보세요.\n",
    "\n",
    "참고로 인구 밀도는 인구 수 / 땅의 면적 (in sqKm) 로 구할 수 있습니다.\n",
    "\n",
    "답안은 숫자로만 입력해 주세요. (예시: 24"
   ],
   "metadata": {
    "collapsed": false
   },
   "id": "5bdff0c3320f122c"
  },
  {
   "cell_type": "code",
   "outputs": [
    {
     "data": {
      "text/plain": "0    230\n1     19\nName: count, dtype: int64"
     },
     "execution_count": 3,
     "metadata": {},
     "output_type": "execute_result"
    }
   ],
   "source": [
    "pop_Land = df['Population']/df['Land area (in sqKm)'] >= 10000\n",
    "pop_Land = pop_Land.astype(int)\n",
    "pop_Land.value_counts()"
   ],
   "metadata": {
    "collapsed": false,
    "ExecuteTime": {
     "end_time": "2024-04-22T08:48:16.690164Z",
     "start_time": "2024-04-22T08:48:16.684375Z"
    }
   },
   "id": "b0a182a2ae2d4e1a",
   "execution_count": 3
  },
  {
   "cell_type": "code",
   "outputs": [
    {
     "name": "stdout",
     "output_type": "stream",
     "text": [
      "<class 'pandas.core.frame.DataFrame'>\n",
      "Index: 19 entries, 32 to 129\n",
      "Data columns (total 6 columns):\n",
      " #   Column               Non-Null Count  Dtype  \n",
      "---  ------               --------------  -----  \n",
      " 0   Unnamed: 0           19 non-null     int64  \n",
      " 1   City / Urban area    19 non-null     object \n",
      " 2   Country              19 non-null     object \n",
      " 3   Population           19 non-null     int64  \n",
      " 4   Land area (in sqKm)  19 non-null     int64  \n",
      " 5   Density              19 non-null     float64\n",
      "dtypes: float64(1), int64(3), object(2)\n",
      "memory usage: 1.0+ KB\n"
     ]
    }
   ],
   "source": [
    "# 해설\n",
    "df[\"Density\"] = df['Population']/df['Land area (in sqKm)']\n",
    "df_high_density = df[df['Density']>10000]\n",
    "df_high_density.info()"
   ],
   "metadata": {
    "collapsed": false,
    "ExecuteTime": {
     "end_time": "2024-04-22T08:48:16.699943Z",
     "start_time": "2024-04-22T08:48:16.693009Z"
    }
   },
   "id": "be363af69a9b2db0",
   "execution_count": 4
  },
  {
   "cell_type": "raw",
   "source": [
    "이번에는 인구 밀도가 가장 높은 도시를 찾아봅시다.\n",
    "\n",
    "답안은 데이터에 적힌 이름을 그대로 입력해 주세요. (예시: Seoul)"
   ],
   "metadata": {
    "collapsed": false
   },
   "id": "8f7ecc4a098c28a4"
  },
  {
   "cell_type": "code",
   "outputs": [
    {
     "data": {
      "text/plain": "     Unnamed: 0 City / Urban area   Country  Population  Land area (in sqKm)  \\\n75           75            Mumbai     India    14350000                  484   \n74           74           Kolkata     India    12700000                  531   \n101         101           Karachi  Pakistan     9800000                  518   \n\n          Density  \n75   29648.760331  \n74   23917.137476  \n101  18918.918919  ",
      "text/html": "<div>\n<style scoped>\n    .dataframe tbody tr th:only-of-type {\n        vertical-align: middle;\n    }\n\n    .dataframe tbody tr th {\n        vertical-align: top;\n    }\n\n    .dataframe thead th {\n        text-align: right;\n    }\n</style>\n<table border=\"1\" class=\"dataframe\">\n  <thead>\n    <tr style=\"text-align: right;\">\n      <th></th>\n      <th>Unnamed: 0</th>\n      <th>City / Urban area</th>\n      <th>Country</th>\n      <th>Population</th>\n      <th>Land area (in sqKm)</th>\n      <th>Density</th>\n    </tr>\n  </thead>\n  <tbody>\n    <tr>\n      <th>75</th>\n      <td>75</td>\n      <td>Mumbai</td>\n      <td>India</td>\n      <td>14350000</td>\n      <td>484</td>\n      <td>29648.760331</td>\n    </tr>\n    <tr>\n      <th>74</th>\n      <td>74</td>\n      <td>Kolkata</td>\n      <td>India</td>\n      <td>12700000</td>\n      <td>531</td>\n      <td>23917.137476</td>\n    </tr>\n    <tr>\n      <th>101</th>\n      <td>101</td>\n      <td>Karachi</td>\n      <td>Pakistan</td>\n      <td>9800000</td>\n      <td>518</td>\n      <td>18918.918919</td>\n    </tr>\n  </tbody>\n</table>\n</div>"
     },
     "execution_count": 5,
     "metadata": {},
     "output_type": "execute_result"
    }
   ],
   "source": [
    "df[\"Density\"] = df['Population']/df['Land area (in sqKm)']\n",
    "df.sort_values(by=['Density'], ascending=False).head(3)"
   ],
   "metadata": {
    "collapsed": false,
    "ExecuteTime": {
     "end_time": "2024-04-22T08:48:16.723126Z",
     "start_time": "2024-04-22T08:48:16.699799Z"
    }
   },
   "id": "36226b5c85c21343",
   "execution_count": 5
  },
  {
   "cell_type": "code",
   "outputs": [],
   "source": [],
   "metadata": {
    "collapsed": false,
    "ExecuteTime": {
     "end_time": "2024-04-22T08:48:16.727626Z",
     "start_time": "2024-04-22T08:48:16.702218Z"
    }
   },
   "id": "e584f414669b7e9e",
   "execution_count": 5
  }
 ],
 "metadata": {
  "kernelspec": {
   "display_name": "Python 3",
   "language": "python",
   "name": "python3"
  },
  "language_info": {
   "codemirror_mode": {
    "name": "ipython",
    "version": 2
   },
   "file_extension": ".py",
   "mimetype": "text/x-python",
   "name": "python",
   "nbconvert_exporter": "python",
   "pygments_lexer": "ipython2",
   "version": "2.7.6"
  }
 },
 "nbformat": 4,
 "nbformat_minor": 5
}
