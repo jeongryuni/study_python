{
 "cells": [
  {
   "cell_type": "code",
   "execution_count": 1,
   "id": "initial_id",
   "metadata": {
    "collapsed": true,
    "ExecuteTime": {
     "end_time": "2024-04-22T08:48:22.438895Z",
     "start_time": "2024-04-22T08:48:22.157752Z"
    }
   },
   "outputs": [
    {
     "data": {
      "text/plain": "     Unnamed: 0 City / Urban area     Country  Population  Land area (in sqKm)\n0             0      Buenos Aires   Argentina    11200000                 2266\n1             1         Melbourne   Australia     3162000                 2080\n2             2            Sydney   Australia     3502000                 1687\n3             3          Brisbane   Australia     1508000                 1603\n4             4             Perth   Australia     1177000                  964\n..          ...               ...         ...         ...                  ...\n244         245            Canton         USA      267000                  372\n245         246           Spokane         USA      335000                  371\n246         247          Tashkent  Uzbekistan     2200000                  531\n247         248  Ho Chi Minh City     Vietnam     4900000                  518\n248         249            Harare    Zimbabwe     1750000                  712\n\n[249 rows x 5 columns]",
      "text/html": "<div>\n<style scoped>\n    .dataframe tbody tr th:only-of-type {\n        vertical-align: middle;\n    }\n\n    .dataframe tbody tr th {\n        vertical-align: top;\n    }\n\n    .dataframe thead th {\n        text-align: right;\n    }\n</style>\n<table border=\"1\" class=\"dataframe\">\n  <thead>\n    <tr style=\"text-align: right;\">\n      <th></th>\n      <th>Unnamed: 0</th>\n      <th>City / Urban area</th>\n      <th>Country</th>\n      <th>Population</th>\n      <th>Land area (in sqKm)</th>\n    </tr>\n  </thead>\n  <tbody>\n    <tr>\n      <th>0</th>\n      <td>0</td>\n      <td>Buenos Aires</td>\n      <td>Argentina</td>\n      <td>11200000</td>\n      <td>2266</td>\n    </tr>\n    <tr>\n      <th>1</th>\n      <td>1</td>\n      <td>Melbourne</td>\n      <td>Australia</td>\n      <td>3162000</td>\n      <td>2080</td>\n    </tr>\n    <tr>\n      <th>2</th>\n      <td>2</td>\n      <td>Sydney</td>\n      <td>Australia</td>\n      <td>3502000</td>\n      <td>1687</td>\n    </tr>\n    <tr>\n      <th>3</th>\n      <td>3</td>\n      <td>Brisbane</td>\n      <td>Australia</td>\n      <td>1508000</td>\n      <td>1603</td>\n    </tr>\n    <tr>\n      <th>4</th>\n      <td>4</td>\n      <td>Perth</td>\n      <td>Australia</td>\n      <td>1177000</td>\n      <td>964</td>\n    </tr>\n    <tr>\n      <th>...</th>\n      <td>...</td>\n      <td>...</td>\n      <td>...</td>\n      <td>...</td>\n      <td>...</td>\n    </tr>\n    <tr>\n      <th>244</th>\n      <td>245</td>\n      <td>Canton</td>\n      <td>USA</td>\n      <td>267000</td>\n      <td>372</td>\n    </tr>\n    <tr>\n      <th>245</th>\n      <td>246</td>\n      <td>Spokane</td>\n      <td>USA</td>\n      <td>335000</td>\n      <td>371</td>\n    </tr>\n    <tr>\n      <th>246</th>\n      <td>247</td>\n      <td>Tashkent</td>\n      <td>Uzbekistan</td>\n      <td>2200000</td>\n      <td>531</td>\n    </tr>\n    <tr>\n      <th>247</th>\n      <td>248</td>\n      <td>Ho Chi Minh City</td>\n      <td>Vietnam</td>\n      <td>4900000</td>\n      <td>518</td>\n    </tr>\n    <tr>\n      <th>248</th>\n      <td>249</td>\n      <td>Harare</td>\n      <td>Zimbabwe</td>\n      <td>1750000</td>\n      <td>712</td>\n    </tr>\n  </tbody>\n</table>\n<p>249 rows × 5 columns</p>\n</div>"
     },
     "execution_count": 1,
     "metadata": {},
     "output_type": "execute_result"
    }
   ],
   "source": [
    "import pandas as pd\n",
    "\n",
    "world_cities = pd.read_csv('../data/world_cities.csv')\n",
    "world_cities"
   ]
  },
  {
   "cell_type": "raw",
   "source": [
    "익중이는 누나에게 여행지를 추천 받으려고 합니다.\n",
    "그런데 나라 이름이 기억나지 않고, 이 데이터에서 그 나라에 속한 도시가 딱 4개 들어 있었다는 것만 기억이 난다고 하네요. 이 나라는 무엇일까요?\n",
    "\n",
    "답안은 데이터에 적힌 이름 그대로 적어 주세요. (예시: France)"
   ],
   "metadata": {
    "collapsed": false
   },
   "id": "aac699d79772563c"
  },
  {
   "cell_type": "code",
   "outputs": [
    {
     "data": {
      "text/plain": "Country\nItaly    4\nName: count, dtype: int64"
     },
     "execution_count": 2,
     "metadata": {},
     "output_type": "execute_result"
    }
   ],
   "source": [
    "countries = world_cities['Country'].value_counts()\n",
    "countries[countries == 4]"
   ],
   "metadata": {
    "collapsed": false,
    "ExecuteTime": {
     "end_time": "2024-04-22T08:48:22.444250Z",
     "start_time": "2024-04-22T08:48:22.441107Z"
    }
   },
   "id": "d653407180394ce0",
   "execution_count": 2
  }
 ],
 "metadata": {
  "kernelspec": {
   "display_name": "Python 3",
   "language": "python",
   "name": "python3"
  },
  "language_info": {
   "codemirror_mode": {
    "name": "ipython",
    "version": 2
   },
   "file_extension": ".py",
   "mimetype": "text/x-python",
   "name": "python",
   "nbconvert_exporter": "python",
   "pygments_lexer": "ipython2",
   "version": "2.7.6"
  }
 },
 "nbformat": 4,
 "nbformat_minor": 5
}
