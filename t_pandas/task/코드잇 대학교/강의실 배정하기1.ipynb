{
 "cells": [
  {
   "cell_type": "markdown",
   "source": [
    "## 실습 설명\n",
    "수강 신청이 완료되었습니다. 이제 각 과목을 수강하는 학생수에 따라 크기가 다른 강의실을 배치하려고 합니다.\n",
    "\n",
    "강의실은 규모에 따라 “Auditorium”, “Large room”, “Medium room”, “Small room” 총 4가지 종류가 있습니다.\n",
    "\n",
    "아래 조건에 따라 강의실 종류를 지정해 주세요.\n",
    "\n",
    "1. 80명 이상의 학생이 수강하는 과목은 “Auditorium”에서 진행됩니다.\n",
    "2. 40명 이상, 80명 미만의 학생이 수강하는 과목은 “Large room”에서 진행됩니다.\n",
    "3. 15명 이상, 40명 미만의 학생이 수강하는 과목은 “Medium room”에서 진행됩니다.\n",
    "4. 5명 이상, 15명 미만의 학생이 수강하는 과목은 “Small room”에서 진행됩니다.\n",
    "5. 폐강 등의 이유로 status가 “not allowed”인 수강생은 room assignment 또한 “not assigned”가 되어야 합니다.\n",
    "\n",
    "## 해결방법\n",
    "\n",
    "## 1.\n",
    "### 람다로 해결하기\n",
    "#### df.loc[df['columns'].apply(lambda x : 조건), 'col명'] = '값'\n",
    "\n",
    "## 2.\n",
    "### 리스트로 해결하기\n",
    "#### 변수 = list(컬럼의 값 개수[(조건)].index)\n",
    "#### for new in 변수:\n",
    "####    df.loc[df['컬럼명'] == new, '추가할 컬럼명'] = '추가할 값'"
   ],
   "metadata": {
    "collapsed": false
   },
   "id": "7a2bba65797c9b99"
  },
  {
   "cell_type": "code",
   "outputs": [
    {
     "data": {
      "text/plain": "           id  year             course name       status\n0     2777729     1  information technology  not allowed\n1     2777730     2                 science      allowed\n2     2777765     1                    arts      allowed\n3     2777766     2                    arts      allowed\n4     2777785     1                     mba      allowed\n...       ...   ...                     ...          ...\n1995  2796805     3    computer application      allowed\n1996  2796812     1                 nursing      allowed\n1997  2796813     2                 nursing      allowed\n1998  2796814     3                 nursing      allowed\n1999  2796815     4                 nursing      allowed\n\n[2000 rows x 4 columns]",
      "text/html": "<div>\n<style scoped>\n    .dataframe tbody tr th:only-of-type {\n        vertical-align: middle;\n    }\n\n    .dataframe tbody tr th {\n        vertical-align: top;\n    }\n\n    .dataframe thead th {\n        text-align: right;\n    }\n</style>\n<table border=\"1\" class=\"dataframe\">\n  <thead>\n    <tr style=\"text-align: right;\">\n      <th></th>\n      <th>id</th>\n      <th>year</th>\n      <th>course name</th>\n      <th>status</th>\n    </tr>\n  </thead>\n  <tbody>\n    <tr>\n      <th>0</th>\n      <td>2777729</td>\n      <td>1</td>\n      <td>information technology</td>\n      <td>not allowed</td>\n    </tr>\n    <tr>\n      <th>1</th>\n      <td>2777730</td>\n      <td>2</td>\n      <td>science</td>\n      <td>allowed</td>\n    </tr>\n    <tr>\n      <th>2</th>\n      <td>2777765</td>\n      <td>1</td>\n      <td>arts</td>\n      <td>allowed</td>\n    </tr>\n    <tr>\n      <th>3</th>\n      <td>2777766</td>\n      <td>2</td>\n      <td>arts</td>\n      <td>allowed</td>\n    </tr>\n    <tr>\n      <th>4</th>\n      <td>2777785</td>\n      <td>1</td>\n      <td>mba</td>\n      <td>allowed</td>\n    </tr>\n    <tr>\n      <th>...</th>\n      <td>...</td>\n      <td>...</td>\n      <td>...</td>\n      <td>...</td>\n    </tr>\n    <tr>\n      <th>1995</th>\n      <td>2796805</td>\n      <td>3</td>\n      <td>computer application</td>\n      <td>allowed</td>\n    </tr>\n    <tr>\n      <th>1996</th>\n      <td>2796812</td>\n      <td>1</td>\n      <td>nursing</td>\n      <td>allowed</td>\n    </tr>\n    <tr>\n      <th>1997</th>\n      <td>2796813</td>\n      <td>2</td>\n      <td>nursing</td>\n      <td>allowed</td>\n    </tr>\n    <tr>\n      <th>1998</th>\n      <td>2796814</td>\n      <td>3</td>\n      <td>nursing</td>\n      <td>allowed</td>\n    </tr>\n    <tr>\n      <th>1999</th>\n      <td>2796815</td>\n      <td>4</td>\n      <td>nursing</td>\n      <td>allowed</td>\n    </tr>\n  </tbody>\n</table>\n<p>2000 rows × 4 columns</p>\n</div>"
     },
     "execution_count": 79,
     "metadata": {},
     "output_type": "execute_result"
    }
   ],
   "source": [
    "import pandas as pd\n",
    "\n",
    "df = pd.read_csv('../data/enrolment_2.csv')\n",
    "df"
   ],
   "metadata": {
    "collapsed": true,
    "ExecuteTime": {
     "end_time": "2024-04-23T08:26:15.486472Z",
     "start_time": "2024-04-23T08:26:15.463048Z"
    }
   },
   "id": "initial_id",
   "execution_count": 79
  },
  {
   "cell_type": "code",
   "outputs": [],
   "source": [
    "course_counts = df['course name'].value_counts()"
   ],
   "metadata": {
    "collapsed": false,
    "ExecuteTime": {
     "end_time": "2024-04-23T08:26:15.528804Z",
     "start_time": "2024-04-23T08:26:15.490178Z"
    }
   },
   "id": "9e825ea2389e509c",
   "execution_count": 80
  },
  {
   "cell_type": "code",
   "outputs": [
    {
     "data": {
      "text/plain": "           id  year             course name       status\n0     2777729     1  information technology  not allowed\n1     2777730     2                 science      allowed\n2     2777765     1                    arts      allowed\n3     2777766     2                    arts      allowed\n4     2777785     1                     mba      allowed\n...       ...   ...                     ...          ...\n1995  2796805     3    computer application      allowed\n1996  2796812     1                 nursing      allowed\n1997  2796813     2                 nursing      allowed\n1998  2796814     3                 nursing      allowed\n1999  2796815     4                 nursing      allowed\n\n[2000 rows x 4 columns]",
      "text/html": "<div>\n<style scoped>\n    .dataframe tbody tr th:only-of-type {\n        vertical-align: middle;\n    }\n\n    .dataframe tbody tr th {\n        vertical-align: top;\n    }\n\n    .dataframe thead th {\n        text-align: right;\n    }\n</style>\n<table border=\"1\" class=\"dataframe\">\n  <thead>\n    <tr style=\"text-align: right;\">\n      <th></th>\n      <th>id</th>\n      <th>year</th>\n      <th>course name</th>\n      <th>status</th>\n    </tr>\n  </thead>\n  <tbody>\n    <tr>\n      <th>0</th>\n      <td>2777729</td>\n      <td>1</td>\n      <td>information technology</td>\n      <td>not allowed</td>\n    </tr>\n    <tr>\n      <th>1</th>\n      <td>2777730</td>\n      <td>2</td>\n      <td>science</td>\n      <td>allowed</td>\n    </tr>\n    <tr>\n      <th>2</th>\n      <td>2777765</td>\n      <td>1</td>\n      <td>arts</td>\n      <td>allowed</td>\n    </tr>\n    <tr>\n      <th>3</th>\n      <td>2777766</td>\n      <td>2</td>\n      <td>arts</td>\n      <td>allowed</td>\n    </tr>\n    <tr>\n      <th>4</th>\n      <td>2777785</td>\n      <td>1</td>\n      <td>mba</td>\n      <td>allowed</td>\n    </tr>\n    <tr>\n      <th>...</th>\n      <td>...</td>\n      <td>...</td>\n      <td>...</td>\n      <td>...</td>\n    </tr>\n    <tr>\n      <th>1995</th>\n      <td>2796805</td>\n      <td>3</td>\n      <td>computer application</td>\n      <td>allowed</td>\n    </tr>\n    <tr>\n      <th>1996</th>\n      <td>2796812</td>\n      <td>1</td>\n      <td>nursing</td>\n      <td>allowed</td>\n    </tr>\n    <tr>\n      <th>1997</th>\n      <td>2796813</td>\n      <td>2</td>\n      <td>nursing</td>\n      <td>allowed</td>\n    </tr>\n    <tr>\n      <th>1998</th>\n      <td>2796814</td>\n      <td>3</td>\n      <td>nursing</td>\n      <td>allowed</td>\n    </tr>\n    <tr>\n      <th>1999</th>\n      <td>2796815</td>\n      <td>4</td>\n      <td>nursing</td>\n      <td>allowed</td>\n    </tr>\n  </tbody>\n</table>\n<p>2000 rows × 4 columns</p>\n</div>"
     },
     "execution_count": 81,
     "metadata": {},
     "output_type": "execute_result"
    }
   ],
   "source": [
    "df"
   ],
   "metadata": {
    "collapsed": false,
    "ExecuteTime": {
     "end_time": "2024-04-23T08:26:15.530083Z",
     "start_time": "2024-04-23T08:26:15.507438Z"
    }
   },
   "id": "61967701a0805b97",
   "execution_count": 81
  },
  {
   "cell_type": "markdown",
   "source": [
    "### 1. 80명 이상의 학생이 수강하는 과목은 “Auditorium”에서 진행됩니다."
   ],
   "metadata": {
    "collapsed": false
   },
   "id": "e7aacf27baa78d0a"
  },
  {
   "cell_type": "code",
   "outputs": [],
   "source": [
    "course_counts = df['course name'].value_counts()"
   ],
   "metadata": {
    "collapsed": false,
    "ExecuteTime": {
     "end_time": "2024-04-23T08:26:15.590049Z",
     "start_time": "2024-04-23T08:26:15.532946Z"
    }
   },
   "id": "3554dead7fd772b8",
   "execution_count": 82
  },
  {
   "cell_type": "code",
   "outputs": [],
   "source": [
    "Auditorium = list(course_counts[course_counts >= 80].index)\n",
    "\n",
    "for auditorium in Auditorium:\n",
    "    df.loc[df['course name'] == auditorium, 'room assignment'] = 'Auditorium'"
   ],
   "metadata": {
    "collapsed": false,
    "ExecuteTime": {
     "end_time": "2024-04-23T08:26:15.625518Z",
     "start_time": "2024-04-23T08:26:15.586283Z"
    }
   },
   "id": "d17bd77c79b09b8",
   "execution_count": 83
  },
  {
   "cell_type": "code",
   "outputs": [
    {
     "data": {
      "text/plain": "           id  year             course name       status room assignment\n0     2777729     1  information technology  not allowed             nan\n1     2777730     2                 science      allowed      Auditorium\n2     2777765     1                    arts      allowed      Auditorium\n3     2777766     2                    arts      allowed      Auditorium\n4     2777785     1                     mba      allowed             nan\n...       ...   ...                     ...          ...             ...\n1995  2796805     3    computer application      allowed             nan\n1996  2796812     1                 nursing      allowed             nan\n1997  2796813     2                 nursing      allowed             nan\n1998  2796814     3                 nursing      allowed             nan\n1999  2796815     4                 nursing      allowed             nan\n\n[2000 rows x 5 columns]",
      "text/html": "<div>\n<style scoped>\n    .dataframe tbody tr th:only-of-type {\n        vertical-align: middle;\n    }\n\n    .dataframe tbody tr th {\n        vertical-align: top;\n    }\n\n    .dataframe thead th {\n        text-align: right;\n    }\n</style>\n<table border=\"1\" class=\"dataframe\">\n  <thead>\n    <tr style=\"text-align: right;\">\n      <th></th>\n      <th>id</th>\n      <th>year</th>\n      <th>course name</th>\n      <th>status</th>\n      <th>room assignment</th>\n    </tr>\n  </thead>\n  <tbody>\n    <tr>\n      <th>0</th>\n      <td>2777729</td>\n      <td>1</td>\n      <td>information technology</td>\n      <td>not allowed</td>\n      <td>nan</td>\n    </tr>\n    <tr>\n      <th>1</th>\n      <td>2777730</td>\n      <td>2</td>\n      <td>science</td>\n      <td>allowed</td>\n      <td>Auditorium</td>\n    </tr>\n    <tr>\n      <th>2</th>\n      <td>2777765</td>\n      <td>1</td>\n      <td>arts</td>\n      <td>allowed</td>\n      <td>Auditorium</td>\n    </tr>\n    <tr>\n      <th>3</th>\n      <td>2777766</td>\n      <td>2</td>\n      <td>arts</td>\n      <td>allowed</td>\n      <td>Auditorium</td>\n    </tr>\n    <tr>\n      <th>4</th>\n      <td>2777785</td>\n      <td>1</td>\n      <td>mba</td>\n      <td>allowed</td>\n      <td>nan</td>\n    </tr>\n    <tr>\n      <th>...</th>\n      <td>...</td>\n      <td>...</td>\n      <td>...</td>\n      <td>...</td>\n      <td>...</td>\n    </tr>\n    <tr>\n      <th>1995</th>\n      <td>2796805</td>\n      <td>3</td>\n      <td>computer application</td>\n      <td>allowed</td>\n      <td>nan</td>\n    </tr>\n    <tr>\n      <th>1996</th>\n      <td>2796812</td>\n      <td>1</td>\n      <td>nursing</td>\n      <td>allowed</td>\n      <td>nan</td>\n    </tr>\n    <tr>\n      <th>1997</th>\n      <td>2796813</td>\n      <td>2</td>\n      <td>nursing</td>\n      <td>allowed</td>\n      <td>nan</td>\n    </tr>\n    <tr>\n      <th>1998</th>\n      <td>2796814</td>\n      <td>3</td>\n      <td>nursing</td>\n      <td>allowed</td>\n      <td>nan</td>\n    </tr>\n    <tr>\n      <th>1999</th>\n      <td>2796815</td>\n      <td>4</td>\n      <td>nursing</td>\n      <td>allowed</td>\n      <td>nan</td>\n    </tr>\n  </tbody>\n</table>\n<p>2000 rows × 5 columns</p>\n</div>"
     },
     "execution_count": 84,
     "metadata": {},
     "output_type": "execute_result"
    }
   ],
   "source": [
    "df"
   ],
   "metadata": {
    "collapsed": false,
    "ExecuteTime": {
     "end_time": "2024-04-23T08:26:15.640232Z",
     "start_time": "2024-04-23T08:26:15.597792Z"
    }
   },
   "id": "a9209ebb62f9d53c",
   "execution_count": 84
  },
  {
   "cell_type": "markdown",
   "source": [
    "### 2. 40명 이상, 80명 미만의 학생이 수강하는 과목은 “Large room”에서 진행됩니다."
   ],
   "metadata": {
    "collapsed": false
   },
   "id": "525e82bb835b1c09"
  },
  {
   "cell_type": "code",
   "outputs": [],
   "source": [
    "df.loc[df['course name'].apply(lambda x : 40 <= course_counts[x] < 80),'room assignment'] = 'Large room'"
   ],
   "metadata": {
    "collapsed": false,
    "ExecuteTime": {
     "end_time": "2024-04-23T08:26:15.660131Z",
     "start_time": "2024-04-23T08:26:15.645129Z"
    }
   },
   "id": "e013daf4b13d4386",
   "execution_count": 85
  },
  {
   "cell_type": "code",
   "outputs": [
    {
     "data": {
      "text/plain": "           id  year             course name       status room assignment\n0     2777729     1  information technology  not allowed             nan\n1     2777730     2                 science      allowed      Auditorium\n2     2777765     1                    arts      allowed      Auditorium\n3     2777766     2                    arts      allowed      Auditorium\n4     2777785     1                     mba      allowed             nan\n...       ...   ...                     ...          ...             ...\n1995  2796805     3    computer application      allowed             nan\n1996  2796812     1                 nursing      allowed             nan\n1997  2796813     2                 nursing      allowed             nan\n1998  2796814     3                 nursing      allowed             nan\n1999  2796815     4                 nursing      allowed             nan\n\n[2000 rows x 5 columns]",
      "text/html": "<div>\n<style scoped>\n    .dataframe tbody tr th:only-of-type {\n        vertical-align: middle;\n    }\n\n    .dataframe tbody tr th {\n        vertical-align: top;\n    }\n\n    .dataframe thead th {\n        text-align: right;\n    }\n</style>\n<table border=\"1\" class=\"dataframe\">\n  <thead>\n    <tr style=\"text-align: right;\">\n      <th></th>\n      <th>id</th>\n      <th>year</th>\n      <th>course name</th>\n      <th>status</th>\n      <th>room assignment</th>\n    </tr>\n  </thead>\n  <tbody>\n    <tr>\n      <th>0</th>\n      <td>2777729</td>\n      <td>1</td>\n      <td>information technology</td>\n      <td>not allowed</td>\n      <td>nan</td>\n    </tr>\n    <tr>\n      <th>1</th>\n      <td>2777730</td>\n      <td>2</td>\n      <td>science</td>\n      <td>allowed</td>\n      <td>Auditorium</td>\n    </tr>\n    <tr>\n      <th>2</th>\n      <td>2777765</td>\n      <td>1</td>\n      <td>arts</td>\n      <td>allowed</td>\n      <td>Auditorium</td>\n    </tr>\n    <tr>\n      <th>3</th>\n      <td>2777766</td>\n      <td>2</td>\n      <td>arts</td>\n      <td>allowed</td>\n      <td>Auditorium</td>\n    </tr>\n    <tr>\n      <th>4</th>\n      <td>2777785</td>\n      <td>1</td>\n      <td>mba</td>\n      <td>allowed</td>\n      <td>nan</td>\n    </tr>\n    <tr>\n      <th>...</th>\n      <td>...</td>\n      <td>...</td>\n      <td>...</td>\n      <td>...</td>\n      <td>...</td>\n    </tr>\n    <tr>\n      <th>1995</th>\n      <td>2796805</td>\n      <td>3</td>\n      <td>computer application</td>\n      <td>allowed</td>\n      <td>nan</td>\n    </tr>\n    <tr>\n      <th>1996</th>\n      <td>2796812</td>\n      <td>1</td>\n      <td>nursing</td>\n      <td>allowed</td>\n      <td>nan</td>\n    </tr>\n    <tr>\n      <th>1997</th>\n      <td>2796813</td>\n      <td>2</td>\n      <td>nursing</td>\n      <td>allowed</td>\n      <td>nan</td>\n    </tr>\n    <tr>\n      <th>1998</th>\n      <td>2796814</td>\n      <td>3</td>\n      <td>nursing</td>\n      <td>allowed</td>\n      <td>nan</td>\n    </tr>\n    <tr>\n      <th>1999</th>\n      <td>2796815</td>\n      <td>4</td>\n      <td>nursing</td>\n      <td>allowed</td>\n      <td>nan</td>\n    </tr>\n  </tbody>\n</table>\n<p>2000 rows × 5 columns</p>\n</div>"
     },
     "execution_count": 86,
     "metadata": {},
     "output_type": "execute_result"
    }
   ],
   "source": [
    "df"
   ],
   "metadata": {
    "collapsed": false,
    "ExecuteTime": {
     "end_time": "2024-04-23T08:26:15.684007Z",
     "start_time": "2024-04-23T08:26:15.654069Z"
    }
   },
   "id": "ba0e107674336ff9",
   "execution_count": 86
  },
  {
   "cell_type": "markdown",
   "source": [
    "### 3. 15명 이상, 40명 미만의 학생이 수강하는 과목은 “Medium room”에서 진행됩니다."
   ],
   "metadata": {
    "collapsed": false
   },
   "id": "d7b93027206614e"
  },
  {
   "cell_type": "code",
   "outputs": [],
   "source": [
    "Medium_room = list(course_counts[(course_counts >= 15) & (course_counts <40)].index)\n",
    "\n",
    "for medium_room in Medium_room:\n",
    "    df.loc[df['course name'] == medium_room, 'room assignment'] = 'Medium room'"
   ],
   "metadata": {
    "collapsed": false,
    "ExecuteTime": {
     "end_time": "2024-04-23T10:38:18.390626Z",
     "start_time": "2024-04-23T10:38:18.373282Z"
    }
   },
   "id": "64f2bb85d815575",
   "execution_count": 93
  },
  {
   "cell_type": "code",
   "outputs": [
    {
     "data": {
      "text/plain": "           id  year             course name       status room assignment\n0     2777729     1  information technology  not allowed     Medium room\n1     2777730     2                 science      allowed      Auditorium\n2     2777765     1                    arts      allowed      Auditorium\n3     2777766     2                    arts      allowed      Auditorium\n4     2777785     1                     mba      allowed      Small room\n...       ...   ...                     ...          ...             ...\n1995  2796805     3    computer application      allowed     Medium room\n1996  2796812     1                 nursing      allowed     Medium room\n1997  2796813     2                 nursing      allowed     Medium room\n1998  2796814     3                 nursing      allowed     Medium room\n1999  2796815     4                 nursing      allowed     Medium room\n\n[2000 rows x 5 columns]",
      "text/html": "<div>\n<style scoped>\n    .dataframe tbody tr th:only-of-type {\n        vertical-align: middle;\n    }\n\n    .dataframe tbody tr th {\n        vertical-align: top;\n    }\n\n    .dataframe thead th {\n        text-align: right;\n    }\n</style>\n<table border=\"1\" class=\"dataframe\">\n  <thead>\n    <tr style=\"text-align: right;\">\n      <th></th>\n      <th>id</th>\n      <th>year</th>\n      <th>course name</th>\n      <th>status</th>\n      <th>room assignment</th>\n    </tr>\n  </thead>\n  <tbody>\n    <tr>\n      <th>0</th>\n      <td>2777729</td>\n      <td>1</td>\n      <td>information technology</td>\n      <td>not allowed</td>\n      <td>Medium room</td>\n    </tr>\n    <tr>\n      <th>1</th>\n      <td>2777730</td>\n      <td>2</td>\n      <td>science</td>\n      <td>allowed</td>\n      <td>Auditorium</td>\n    </tr>\n    <tr>\n      <th>2</th>\n      <td>2777765</td>\n      <td>1</td>\n      <td>arts</td>\n      <td>allowed</td>\n      <td>Auditorium</td>\n    </tr>\n    <tr>\n      <th>3</th>\n      <td>2777766</td>\n      <td>2</td>\n      <td>arts</td>\n      <td>allowed</td>\n      <td>Auditorium</td>\n    </tr>\n    <tr>\n      <th>4</th>\n      <td>2777785</td>\n      <td>1</td>\n      <td>mba</td>\n      <td>allowed</td>\n      <td>Small room</td>\n    </tr>\n    <tr>\n      <th>...</th>\n      <td>...</td>\n      <td>...</td>\n      <td>...</td>\n      <td>...</td>\n      <td>...</td>\n    </tr>\n    <tr>\n      <th>1995</th>\n      <td>2796805</td>\n      <td>3</td>\n      <td>computer application</td>\n      <td>allowed</td>\n      <td>Medium room</td>\n    </tr>\n    <tr>\n      <th>1996</th>\n      <td>2796812</td>\n      <td>1</td>\n      <td>nursing</td>\n      <td>allowed</td>\n      <td>Medium room</td>\n    </tr>\n    <tr>\n      <th>1997</th>\n      <td>2796813</td>\n      <td>2</td>\n      <td>nursing</td>\n      <td>allowed</td>\n      <td>Medium room</td>\n    </tr>\n    <tr>\n      <th>1998</th>\n      <td>2796814</td>\n      <td>3</td>\n      <td>nursing</td>\n      <td>allowed</td>\n      <td>Medium room</td>\n    </tr>\n    <tr>\n      <th>1999</th>\n      <td>2796815</td>\n      <td>4</td>\n      <td>nursing</td>\n      <td>allowed</td>\n      <td>Medium room</td>\n    </tr>\n  </tbody>\n</table>\n<p>2000 rows × 5 columns</p>\n</div>"
     },
     "execution_count": 94,
     "metadata": {},
     "output_type": "execute_result"
    }
   ],
   "source": [
    "df"
   ],
   "metadata": {
    "collapsed": false,
    "ExecuteTime": {
     "end_time": "2024-04-23T10:38:19.617517Z",
     "start_time": "2024-04-23T10:38:19.597407Z"
    }
   },
   "id": "cc0d03dd06ff3365",
   "execution_count": 94
  },
  {
   "cell_type": "markdown",
   "source": [
    "### 5명 이상, 15명 미만의 학생이 수강하는 과목은 “Small room”에서 진행됩니다."
   ],
   "metadata": {
    "collapsed": false
   },
   "id": "912c16a6936ee321"
  },
  {
   "cell_type": "code",
   "outputs": [],
   "source": [
    "df.loc[df['course name'].apply(lambda x : 5 <= course_counts[x] < 15),'room assignment'] = 'Small room'"
   ],
   "metadata": {
    "collapsed": false,
    "ExecuteTime": {
     "end_time": "2024-04-23T08:26:15.748712Z",
     "start_time": "2024-04-23T08:26:15.714630Z"
    }
   },
   "id": "66e8a6778415667a",
   "execution_count": 89
  },
  {
   "cell_type": "code",
   "outputs": [
    {
     "data": {
      "text/plain": "           id  year             course name       status room assignment\n0     2777729     1  information technology  not allowed     Medium room\n1     2777730     2                 science      allowed      Auditorium\n2     2777765     1                    arts      allowed      Auditorium\n3     2777766     2                    arts      allowed      Auditorium\n4     2777785     1                     mba      allowed      Small room\n...       ...   ...                     ...          ...             ...\n1995  2796805     3    computer application      allowed     Medium room\n1996  2796812     1                 nursing      allowed     Medium room\n1997  2796813     2                 nursing      allowed     Medium room\n1998  2796814     3                 nursing      allowed     Medium room\n1999  2796815     4                 nursing      allowed     Medium room\n\n[2000 rows x 5 columns]",
      "text/html": "<div>\n<style scoped>\n    .dataframe tbody tr th:only-of-type {\n        vertical-align: middle;\n    }\n\n    .dataframe tbody tr th {\n        vertical-align: top;\n    }\n\n    .dataframe thead th {\n        text-align: right;\n    }\n</style>\n<table border=\"1\" class=\"dataframe\">\n  <thead>\n    <tr style=\"text-align: right;\">\n      <th></th>\n      <th>id</th>\n      <th>year</th>\n      <th>course name</th>\n      <th>status</th>\n      <th>room assignment</th>\n    </tr>\n  </thead>\n  <tbody>\n    <tr>\n      <th>0</th>\n      <td>2777729</td>\n      <td>1</td>\n      <td>information technology</td>\n      <td>not allowed</td>\n      <td>Medium room</td>\n    </tr>\n    <tr>\n      <th>1</th>\n      <td>2777730</td>\n      <td>2</td>\n      <td>science</td>\n      <td>allowed</td>\n      <td>Auditorium</td>\n    </tr>\n    <tr>\n      <th>2</th>\n      <td>2777765</td>\n      <td>1</td>\n      <td>arts</td>\n      <td>allowed</td>\n      <td>Auditorium</td>\n    </tr>\n    <tr>\n      <th>3</th>\n      <td>2777766</td>\n      <td>2</td>\n      <td>arts</td>\n      <td>allowed</td>\n      <td>Auditorium</td>\n    </tr>\n    <tr>\n      <th>4</th>\n      <td>2777785</td>\n      <td>1</td>\n      <td>mba</td>\n      <td>allowed</td>\n      <td>Small room</td>\n    </tr>\n    <tr>\n      <th>...</th>\n      <td>...</td>\n      <td>...</td>\n      <td>...</td>\n      <td>...</td>\n      <td>...</td>\n    </tr>\n    <tr>\n      <th>1995</th>\n      <td>2796805</td>\n      <td>3</td>\n      <td>computer application</td>\n      <td>allowed</td>\n      <td>Medium room</td>\n    </tr>\n    <tr>\n      <th>1996</th>\n      <td>2796812</td>\n      <td>1</td>\n      <td>nursing</td>\n      <td>allowed</td>\n      <td>Medium room</td>\n    </tr>\n    <tr>\n      <th>1997</th>\n      <td>2796813</td>\n      <td>2</td>\n      <td>nursing</td>\n      <td>allowed</td>\n      <td>Medium room</td>\n    </tr>\n    <tr>\n      <th>1998</th>\n      <td>2796814</td>\n      <td>3</td>\n      <td>nursing</td>\n      <td>allowed</td>\n      <td>Medium room</td>\n    </tr>\n    <tr>\n      <th>1999</th>\n      <td>2796815</td>\n      <td>4</td>\n      <td>nursing</td>\n      <td>allowed</td>\n      <td>Medium room</td>\n    </tr>\n  </tbody>\n</table>\n<p>2000 rows × 5 columns</p>\n</div>"
     },
     "execution_count": 90,
     "metadata": {},
     "output_type": "execute_result"
    }
   ],
   "source": [
    "df"
   ],
   "metadata": {
    "collapsed": false,
    "ExecuteTime": {
     "end_time": "2024-04-23T08:26:15.757745Z",
     "start_time": "2024-04-23T08:26:15.723282Z"
    }
   },
   "id": "113b5724f1f666f9",
   "execution_count": 90
  },
  {
   "cell_type": "markdown",
   "source": [
    "### 폐강 등의 이유로 status가 “not allowed”인 수강생은 room assignment 또한 “not assigned”가 되어야 합니다."
   ],
   "metadata": {
    "collapsed": false
   },
   "id": "22fe5997c073396"
  },
  {
   "cell_type": "code",
   "outputs": [],
   "source": [
    "not_assigned = df['status'] == 'not allowed'\n",
    "df.loc[not_assigned,'room assignment'] = 'not assigned'"
   ],
   "metadata": {
    "collapsed": false,
    "ExecuteTime": {
     "end_time": "2024-04-23T08:26:15.780814Z",
     "start_time": "2024-04-23T08:26:15.753011Z"
    }
   },
   "id": "69998e6614e160c6",
   "execution_count": 91
  },
  {
   "cell_type": "code",
   "outputs": [
    {
     "data": {
      "text/plain": "           id  year             course name       status room assignment\n0     2777729     1  information technology  not allowed    not assigned\n1     2777730     2                 science      allowed      Auditorium\n2     2777765     1                    arts      allowed      Auditorium\n3     2777766     2                    arts      allowed      Auditorium\n4     2777785     1                     mba      allowed      Small room\n...       ...   ...                     ...          ...             ...\n1995  2796805     3    computer application      allowed     Medium room\n1996  2796812     1                 nursing      allowed     Medium room\n1997  2796813     2                 nursing      allowed     Medium room\n1998  2796814     3                 nursing      allowed     Medium room\n1999  2796815     4                 nursing      allowed     Medium room\n\n[2000 rows x 5 columns]",
      "text/html": "<div>\n<style scoped>\n    .dataframe tbody tr th:only-of-type {\n        vertical-align: middle;\n    }\n\n    .dataframe tbody tr th {\n        vertical-align: top;\n    }\n\n    .dataframe thead th {\n        text-align: right;\n    }\n</style>\n<table border=\"1\" class=\"dataframe\">\n  <thead>\n    <tr style=\"text-align: right;\">\n      <th></th>\n      <th>id</th>\n      <th>year</th>\n      <th>course name</th>\n      <th>status</th>\n      <th>room assignment</th>\n    </tr>\n  </thead>\n  <tbody>\n    <tr>\n      <th>0</th>\n      <td>2777729</td>\n      <td>1</td>\n      <td>information technology</td>\n      <td>not allowed</td>\n      <td>not assigned</td>\n    </tr>\n    <tr>\n      <th>1</th>\n      <td>2777730</td>\n      <td>2</td>\n      <td>science</td>\n      <td>allowed</td>\n      <td>Auditorium</td>\n    </tr>\n    <tr>\n      <th>2</th>\n      <td>2777765</td>\n      <td>1</td>\n      <td>arts</td>\n      <td>allowed</td>\n      <td>Auditorium</td>\n    </tr>\n    <tr>\n      <th>3</th>\n      <td>2777766</td>\n      <td>2</td>\n      <td>arts</td>\n      <td>allowed</td>\n      <td>Auditorium</td>\n    </tr>\n    <tr>\n      <th>4</th>\n      <td>2777785</td>\n      <td>1</td>\n      <td>mba</td>\n      <td>allowed</td>\n      <td>Small room</td>\n    </tr>\n    <tr>\n      <th>...</th>\n      <td>...</td>\n      <td>...</td>\n      <td>...</td>\n      <td>...</td>\n      <td>...</td>\n    </tr>\n    <tr>\n      <th>1995</th>\n      <td>2796805</td>\n      <td>3</td>\n      <td>computer application</td>\n      <td>allowed</td>\n      <td>Medium room</td>\n    </tr>\n    <tr>\n      <th>1996</th>\n      <td>2796812</td>\n      <td>1</td>\n      <td>nursing</td>\n      <td>allowed</td>\n      <td>Medium room</td>\n    </tr>\n    <tr>\n      <th>1997</th>\n      <td>2796813</td>\n      <td>2</td>\n      <td>nursing</td>\n      <td>allowed</td>\n      <td>Medium room</td>\n    </tr>\n    <tr>\n      <th>1998</th>\n      <td>2796814</td>\n      <td>3</td>\n      <td>nursing</td>\n      <td>allowed</td>\n      <td>Medium room</td>\n    </tr>\n    <tr>\n      <th>1999</th>\n      <td>2796815</td>\n      <td>4</td>\n      <td>nursing</td>\n      <td>allowed</td>\n      <td>Medium room</td>\n    </tr>\n  </tbody>\n</table>\n<p>2000 rows × 5 columns</p>\n</div>"
     },
     "execution_count": 92,
     "metadata": {},
     "output_type": "execute_result"
    }
   ],
   "source": [
    "df"
   ],
   "metadata": {
    "collapsed": false,
    "ExecuteTime": {
     "end_time": "2024-04-23T08:26:15.794604Z",
     "start_time": "2024-04-23T08:26:15.760784Z"
    }
   },
   "id": "7762d534cd20298d",
   "execution_count": 92
  }
 ],
 "metadata": {
  "kernelspec": {
   "display_name": "Python 3",
   "language": "python",
   "name": "python3"
  },
  "language_info": {
   "codemirror_mode": {
    "name": "ipython",
    "version": 2
   },
   "file_extension": ".py",
   "mimetype": "text/x-python",
   "name": "python",
   "nbconvert_exporter": "python",
   "pygments_lexer": "ipython2",
   "version": "2.7.6"
  }
 },
 "nbformat": 4,
 "nbformat_minor": 5
}
