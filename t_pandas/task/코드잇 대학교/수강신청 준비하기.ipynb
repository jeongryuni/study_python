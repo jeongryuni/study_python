{
 "cells": [
  {
   "cell_type": "markdown",
   "source": [
    "### 실습 설명\n",
    "2,000명의 코드잇 대학교 학생들이 수강신청을 했습니다.\n",
    "\n",
    "수강신청에는 다음 3개의 조건이 있습니다.\n",
    "\n",
    "“information technology” 과목은 심화과목이라 1학년은 수강할 수 없습니다.\n",
    "“commerce” 과목은 기초과목이고 많은 학생들이 듣는 수업이라 4학년은 수강할 수 없습니다.\n",
    "수강생이 5명이 되지 않으면 강의는 폐강되어 수강할 수 없습니다.\n",
    "기존 DataFrame에 “status”라는 이름의 column을 추가하고, 학생이 수강 가능한 상태이면 “allowed”, 수강 불가능한 상태이면 “not allowed”를 넣어주세요."
   ],
   "metadata": {
    "collapsed": false
   },
   "id": "c40c7c590aa8fd04"
  },
  {
   "cell_type": "code",
   "outputs": [
    {
     "data": {
      "text/plain": "           id  year             course name\n0     2777729     1  information technology\n1     2777730     2                 science\n2     2777765     1                    arts\n3     2777766     2                    arts\n4     2777785     1                     mba\n...       ...   ...                     ...\n1995  2796805     3    computer application\n1996  2796812     1                 nursing\n1997  2796813     2                 nursing\n1998  2796814     3                 nursing\n1999  2796815     4                 nursing\n\n[2000 rows x 3 columns]",
      "text/html": "<div>\n<style scoped>\n    .dataframe tbody tr th:only-of-type {\n        vertical-align: middle;\n    }\n\n    .dataframe tbody tr th {\n        vertical-align: top;\n    }\n\n    .dataframe thead th {\n        text-align: right;\n    }\n</style>\n<table border=\"1\" class=\"dataframe\">\n  <thead>\n    <tr style=\"text-align: right;\">\n      <th></th>\n      <th>id</th>\n      <th>year</th>\n      <th>course name</th>\n    </tr>\n  </thead>\n  <tbody>\n    <tr>\n      <th>0</th>\n      <td>2777729</td>\n      <td>1</td>\n      <td>information technology</td>\n    </tr>\n    <tr>\n      <th>1</th>\n      <td>2777730</td>\n      <td>2</td>\n      <td>science</td>\n    </tr>\n    <tr>\n      <th>2</th>\n      <td>2777765</td>\n      <td>1</td>\n      <td>arts</td>\n    </tr>\n    <tr>\n      <th>3</th>\n      <td>2777766</td>\n      <td>2</td>\n      <td>arts</td>\n    </tr>\n    <tr>\n      <th>4</th>\n      <td>2777785</td>\n      <td>1</td>\n      <td>mba</td>\n    </tr>\n    <tr>\n      <th>...</th>\n      <td>...</td>\n      <td>...</td>\n      <td>...</td>\n    </tr>\n    <tr>\n      <th>1995</th>\n      <td>2796805</td>\n      <td>3</td>\n      <td>computer application</td>\n    </tr>\n    <tr>\n      <th>1996</th>\n      <td>2796812</td>\n      <td>1</td>\n      <td>nursing</td>\n    </tr>\n    <tr>\n      <th>1997</th>\n      <td>2796813</td>\n      <td>2</td>\n      <td>nursing</td>\n    </tr>\n    <tr>\n      <th>1998</th>\n      <td>2796814</td>\n      <td>3</td>\n      <td>nursing</td>\n    </tr>\n    <tr>\n      <th>1999</th>\n      <td>2796815</td>\n      <td>4</td>\n      <td>nursing</td>\n    </tr>\n  </tbody>\n</table>\n<p>2000 rows × 3 columns</p>\n</div>"
     },
     "execution_count": 1,
     "metadata": {},
     "output_type": "execute_result"
    }
   ],
   "source": [
    "import pandas as pd\n",
    "\n",
    "df = pd.read_csv('../data/enrolment_1.csv')\n",
    "df"
   ],
   "metadata": {
    "collapsed": false,
    "ExecuteTime": {
     "end_time": "2024-04-24T06:33:08.726870Z",
     "start_time": "2024-04-24T06:33:08.240421Z"
    }
   },
   "id": "3e517f6d656c9032",
   "execution_count": 1
  },
  {
   "cell_type": "code",
   "outputs": [],
   "source": [
    "df['status'] = 'allowed'"
   ],
   "metadata": {
    "collapsed": false,
    "ExecuteTime": {
     "end_time": "2024-04-24T06:33:08.728216Z",
     "start_time": "2024-04-24T06:33:08.725053Z"
    }
   },
   "id": "7b2c0ec6c728fa5c",
   "execution_count": 2
  },
  {
   "cell_type": "markdown",
   "source": [
    "# 조건 1: “information technology” 과목은 심화과목이라 1학년은 수강할 수 없습니다."
   ],
   "metadata": {
    "collapsed": false
   },
   "id": "715010b430909c20"
  },
  {
   "cell_type": "code",
   "outputs": [
    {
     "data": {
      "text/plain": "0        True\n1       False\n2       False\n3       False\n4       False\n        ...  \n1995    False\n1996    False\n1997    False\n1998    False\n1999    False\nLength: 2000, dtype: bool"
     },
     "execution_count": 3,
     "metadata": {},
     "output_type": "execute_result"
    }
   ],
   "source": [
    "# 1학년 테크놀로지 수강 x\n",
    "sub_information_technology = (df['course name'] == 'information technology') & (df['year'] == 1)\n",
    "sub_information_technology"
   ],
   "metadata": {
    "collapsed": false,
    "ExecuteTime": {
     "end_time": "2024-04-24T06:33:08.729549Z",
     "start_time": "2024-04-24T06:33:08.726808Z"
    }
   },
   "id": "5312df9a33c1a2cb",
   "execution_count": 3
  },
  {
   "cell_type": "markdown",
   "source": [
    "# 조건 2: “commerce” 과목은 기초과목이고 많은 학생들이 듣는 수업이라 4학년은 수강할 수 없습니다."
   ],
   "metadata": {
    "collapsed": false
   },
   "id": "915f47d58d0df652"
  },
  {
   "cell_type": "code",
   "outputs": [
    {
     "data": {
      "text/plain": "0       False\n1       False\n2       False\n3       False\n4       False\n        ...  \n1995    False\n1996    False\n1997    False\n1998    False\n1999    False\nLength: 2000, dtype: bool"
     },
     "execution_count": 4,
     "metadata": {},
     "output_type": "execute_result"
    }
   ],
   "source": [
    "# 4학년 commerce 수강 x\n",
    "sub_com = (df['course name'] == 'commerce') & (df['year'] == 4)\n",
    "sub_com"
   ],
   "metadata": {
    "collapsed": false,
    "ExecuteTime": {
     "end_time": "2024-04-24T06:33:08.736595Z",
     "start_time": "2024-04-24T06:33:08.732744Z"
    }
   },
   "id": "8dd899d94555ef7e",
   "execution_count": 4
  },
  {
   "cell_type": "code",
   "outputs": [],
   "source": [
    "df.loc[sub_information_technology, 'status'] = \"not allowed\"\n",
    "df.loc[sub_com, 'status'] = 'not allowed'"
   ],
   "metadata": {
    "collapsed": false,
    "ExecuteTime": {
     "end_time": "2024-04-24T06:33:08.741817Z",
     "start_time": "2024-04-24T06:33:08.736421Z"
    }
   },
   "id": "b4a9fd5e141f76ef",
   "execution_count": 5
  },
  {
   "cell_type": "markdown",
   "source": [
    "# 조건 3: 수강생이 5명이 되지 않으면 강의는 폐강되어 수강할 수 없습니다."
   ],
   "metadata": {
    "collapsed": false
   },
   "id": "a5189c29f3c2949f"
  },
  {
   "cell_type": "markdown",
   "source": [
    "### index(): 리스트에서 특정 요소의 인덱스를 찾는 함수입니다. 예를 들어, index() 함수를 사용하여 리스트에서 특정 값의 인덱스를 찾을 수 있습니다. 다음은 이 함수의 기본 구문입니다:\n",
    "\n",
    "#### index(element, start, end)\n",
    "\n",
    "- element: 찾고자 하는 요소입니다.\n",
    "- start (선택적): 검색을 시작할 인덱스입니다. 기본값은 리스트의 첫 번째 요소(인덱스 0)입니다.\n",
    "- end (선택적): 검색을 종료할 인덱스입니다. 기본값은 리스트의 마지막 요소입니다.\n",
    "\n",
    "\n",
    "## 람다로 사용하기\n",
    "df.loc[df['columns'].apply(lambda x : 조건), 'col명'] = '추가할 인덱스 값'"
   ],
   "metadata": {
    "collapsed": false
   },
   "id": "333f87aa545059c1"
  },
  {
   "cell_type": "code",
   "outputs": [],
   "source": [
    "#1\n",
    "course_counts = df['course name'].value_counts()\n",
    "df.loc[df['course name'].apply(lambda x: course_counts[x] < 5), 'status'] = 'not allowed'"
   ],
   "metadata": {
    "collapsed": false,
    "ExecuteTime": {
     "end_time": "2024-04-24T06:33:08.760674Z",
     "start_time": "2024-04-24T06:33:08.740122Z"
    }
   },
   "id": "89d675ddf5a4175d",
   "execution_count": 6
  },
  {
   "cell_type": "code",
   "outputs": [],
   "source": [
    "#2\n",
    "# status가 allowed인 데이터만 모음\n",
    "allowed = df['status'] == 'allowed'"
   ],
   "metadata": {
    "collapsed": false,
    "ExecuteTime": {
     "end_time": "2024-04-24T06:33:08.761063Z",
     "start_time": "2024-04-24T06:33:08.746864Z"
    }
   },
   "id": "12dbabfc95d71f2d",
   "execution_count": 7
  },
  {
   "cell_type": "code",
   "outputs": [
    {
     "data": {
      "text/plain": "course name\narts                                   158\nscience                                123\ncommerce                               101\nenglish                                 56\neducation                               41\n                                      ... \nmca                                      5\nnanotechnology                           5\nbuilding construction and mangement      5\ninterior design                          5\ndental                                   5\nName: count, Length: 82, dtype: int64"
     },
     "execution_count": 8,
     "metadata": {},
     "output_type": "execute_result"
    }
   ],
   "source": [
    "course_counts = df.loc[allowed, \"course name\"].value_counts()\n",
    "course_counts"
   ],
   "metadata": {
    "collapsed": false,
    "ExecuteTime": {
     "end_time": "2024-04-24T06:33:08.774287Z",
     "start_time": "2024-04-24T06:33:08.752206Z"
    }
   },
   "id": "200d8080f53d2885",
   "execution_count": 8
  },
  {
   "cell_type": "code",
   "outputs": [
    {
     "data": {
      "text/plain": "['arts',\n 'science',\n 'commerce',\n 'english',\n 'education',\n 'management',\n 'nursing',\n 'chemistry',\n 'computer',\n 'computer science',\n 'civil engineering',\n 'history',\n 'mechanical engineering',\n 'physics',\n 'civil',\n 'economics',\n 'mathematics',\n 'coumputer science',\n 'mechanical',\n 'engineering',\n 'botany',\n 'cse',\n 'mbbs',\n 'zoology',\n 'computer application',\n 'law',\n 'electrical',\n 'chemical engineering',\n 'general',\n 'sociology',\n 'sanskrit',\n 'computer applications',\n 'hindi',\n 'information technology',\n 'computer engineering',\n 'electronics & communication engg',\n 'ee',\n 'urdu',\n 'business administration',\n 'bzc',\n 'philosophy',\n 'yoga',\n 'bengali',\n 'marathi',\n 'political science',\n 'electrical engineering',\n 'maths',\n 'computer science & engineering',\n 'finance',\n 'technical',\n 'ece',\n 'me',\n 'electrical & electronics engineering',\n 'biotechnology',\n 'computer science and engineering',\n 'ug',\n 'physiotherapy',\n 'electronics',\n 'bio-chemistry',\n 'general medicine',\n 'electronics and communication engineering',\n 'anatomy',\n 'bio chemistry',\n 'mpcs',\n 'mecs',\n 'mpc',\n 'mba',\n 'ca',\n 'mechanical engg',\n 'pali',\n 'home science',\n 'cbz',\n 'engineering & technology',\n 'geography',\n 'maithili',\n 'psychology',\n 'music',\n 'mca',\n 'nanotechnology',\n 'building construction and mangement',\n 'interior design',\n 'dental']"
     },
     "execution_count": 9,
     "metadata": {},
     "output_type": "execute_result"
    }
   ],
   "source": [
    "drop_sub = list(course_counts[course_counts >= 5].index)\n",
    "drop_sub"
   ],
   "metadata": {
    "collapsed": false,
    "ExecuteTime": {
     "end_time": "2024-04-24T06:33:08.774887Z",
     "start_time": "2024-04-24T06:33:08.756291Z"
    }
   },
   "id": "d5e41499e09ba252",
   "execution_count": 9
  },
  {
   "cell_type": "code",
   "outputs": [],
   "source": [
    "for drop in drop_sub:\n",
    "    df.loc[df['course name'] == drop, 'status'] = 'not allowed'"
   ],
   "metadata": {
    "collapsed": false,
    "ExecuteTime": {
     "end_time": "2024-04-24T06:33:08.826679Z",
     "start_time": "2024-04-24T06:33:08.762058Z"
    }
   },
   "id": "bdf10bb7bd3caaf4",
   "execution_count": 10
  },
  {
   "cell_type": "code",
   "outputs": [
    {
     "data": {
      "text/plain": "           id  year             course name       status\n0     2777729     1  information technology  not allowed\n1     2777730     2                 science  not allowed\n2     2777765     1                    arts  not allowed\n3     2777766     2                    arts  not allowed\n4     2777785     1                     mba  not allowed\n...       ...   ...                     ...          ...\n1995  2796805     3    computer application  not allowed\n1996  2796812     1                 nursing  not allowed\n1997  2796813     2                 nursing  not allowed\n1998  2796814     3                 nursing  not allowed\n1999  2796815     4                 nursing  not allowed\n\n[2000 rows x 4 columns]",
      "text/html": "<div>\n<style scoped>\n    .dataframe tbody tr th:only-of-type {\n        vertical-align: middle;\n    }\n\n    .dataframe tbody tr th {\n        vertical-align: top;\n    }\n\n    .dataframe thead th {\n        text-align: right;\n    }\n</style>\n<table border=\"1\" class=\"dataframe\">\n  <thead>\n    <tr style=\"text-align: right;\">\n      <th></th>\n      <th>id</th>\n      <th>year</th>\n      <th>course name</th>\n      <th>status</th>\n    </tr>\n  </thead>\n  <tbody>\n    <tr>\n      <th>0</th>\n      <td>2777729</td>\n      <td>1</td>\n      <td>information technology</td>\n      <td>not allowed</td>\n    </tr>\n    <tr>\n      <th>1</th>\n      <td>2777730</td>\n      <td>2</td>\n      <td>science</td>\n      <td>not allowed</td>\n    </tr>\n    <tr>\n      <th>2</th>\n      <td>2777765</td>\n      <td>1</td>\n      <td>arts</td>\n      <td>not allowed</td>\n    </tr>\n    <tr>\n      <th>3</th>\n      <td>2777766</td>\n      <td>2</td>\n      <td>arts</td>\n      <td>not allowed</td>\n    </tr>\n    <tr>\n      <th>4</th>\n      <td>2777785</td>\n      <td>1</td>\n      <td>mba</td>\n      <td>not allowed</td>\n    </tr>\n    <tr>\n      <th>...</th>\n      <td>...</td>\n      <td>...</td>\n      <td>...</td>\n      <td>...</td>\n    </tr>\n    <tr>\n      <th>1995</th>\n      <td>2796805</td>\n      <td>3</td>\n      <td>computer application</td>\n      <td>not allowed</td>\n    </tr>\n    <tr>\n      <th>1996</th>\n      <td>2796812</td>\n      <td>1</td>\n      <td>nursing</td>\n      <td>not allowed</td>\n    </tr>\n    <tr>\n      <th>1997</th>\n      <td>2796813</td>\n      <td>2</td>\n      <td>nursing</td>\n      <td>not allowed</td>\n    </tr>\n    <tr>\n      <th>1998</th>\n      <td>2796814</td>\n      <td>3</td>\n      <td>nursing</td>\n      <td>not allowed</td>\n    </tr>\n    <tr>\n      <th>1999</th>\n      <td>2796815</td>\n      <td>4</td>\n      <td>nursing</td>\n      <td>not allowed</td>\n    </tr>\n  </tbody>\n</table>\n<p>2000 rows × 4 columns</p>\n</div>"
     },
     "execution_count": 11,
     "metadata": {},
     "output_type": "execute_result"
    }
   ],
   "source": [
    "df"
   ],
   "metadata": {
    "collapsed": false,
    "ExecuteTime": {
     "end_time": "2024-04-24T06:33:08.827923Z",
     "start_time": "2024-04-24T06:33:08.778865Z"
    }
   },
   "id": "a8cfe8d7bd1d0e8a",
   "execution_count": 11
  }
 ],
 "metadata": {
  "kernelspec": {
   "display_name": "Python 3",
   "language": "python",
   "name": "python3"
  },
  "language_info": {
   "codemirror_mode": {
    "name": "ipython",
    "version": 2
   },
   "file_extension": ".py",
   "mimetype": "text/x-python",
   "name": "python",
   "nbconvert_exporter": "python",
   "pygments_lexer": "ipython2",
   "version": "2.7.6"
  }
 },
 "nbformat": 4,
 "nbformat_minor": 5
}
