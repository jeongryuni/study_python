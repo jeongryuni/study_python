{
 "cells": [
  {
   "cell_type": "markdown",
   "source": [
    "## 실습 설명\n",
    "이전 과제에서 강의실 크기에 따라 room assignment column을 만들어 주었습니다.\n",
    "이제 이 room assignment에 따라 강의실 이름을 붙여주려고 합니다.\n",
    "아래 세 가지 조건을 만족하도록 코드를 작성하세요.\n",
    "\n",
    "\n",
    "#### 1. 같은 크기의 강의실이 필요한 과목에 대해 알파벳 순서대로 방 번호를 배정하세요.\n",
    "\n",
    "예를 들어 \"Auditorium\"이 필요한 과목으로 “arts”, “commerce”, “science” 세 과목이 있다면, “arts”는 “Auditorium-1”, “commerce”는 “Auditorium-2”, “science”는 “Auditorium-3” 순서로 방 배정이 되어야 합니다.\n",
    "\n",
    "방 번호에 room 은 포함되지 않습니다. 아래 스크린샷을 참고하여 작성해주세요.\n",
    "\n",
    "#### 2. status column이 “not allowed”인 수강생은 room assignment column을 그대로 “not assigned”로 남겨둡니다. \"not allowed\" 인 수강생의 room assignment 상태가 변경되지 않도록 유의해주세요.\n",
    "\n",
    "#### 3. room assignment column의 이름을 room number로 바꿔주세요."
   ],
   "metadata": {
    "collapsed": false
   },
   "id": "91cf3be69f8e16c2"
  },
  {
   "cell_type": "markdown",
   "source": [
    "## 1."
   ],
   "metadata": {
    "collapsed": false
   },
   "id": "8e33aff12609ff0b"
  },
  {
   "cell_type": "code",
   "outputs": [
    {
     "data": {
      "text/plain": "           id  year             course name       status room assignment\n0     2777729     1  information technology  not allowed    not assigned\n1     2777730     2                 science      allowed      Auditorium\n2     2777765     1                    arts      allowed      Auditorium\n3     2777766     2                    arts      allowed      Auditorium\n4     2777785     1                     mba      allowed      Small room\n...       ...   ...                     ...          ...             ...\n1995  2796805     3    computer application      allowed     Medium room\n1996  2796812     1                 nursing      allowed     Medium room\n1997  2796813     2                 nursing      allowed     Medium room\n1998  2796814     3                 nursing      allowed     Medium room\n1999  2796815     4                 nursing      allowed     Medium room\n\n[2000 rows x 5 columns]",
      "text/html": "<div>\n<style scoped>\n    .dataframe tbody tr th:only-of-type {\n        vertical-align: middle;\n    }\n\n    .dataframe tbody tr th {\n        vertical-align: top;\n    }\n\n    .dataframe thead th {\n        text-align: right;\n    }\n</style>\n<table border=\"1\" class=\"dataframe\">\n  <thead>\n    <tr style=\"text-align: right;\">\n      <th></th>\n      <th>id</th>\n      <th>year</th>\n      <th>course name</th>\n      <th>status</th>\n      <th>room assignment</th>\n    </tr>\n  </thead>\n  <tbody>\n    <tr>\n      <th>0</th>\n      <td>2777729</td>\n      <td>1</td>\n      <td>information technology</td>\n      <td>not allowed</td>\n      <td>not assigned</td>\n    </tr>\n    <tr>\n      <th>1</th>\n      <td>2777730</td>\n      <td>2</td>\n      <td>science</td>\n      <td>allowed</td>\n      <td>Auditorium</td>\n    </tr>\n    <tr>\n      <th>2</th>\n      <td>2777765</td>\n      <td>1</td>\n      <td>arts</td>\n      <td>allowed</td>\n      <td>Auditorium</td>\n    </tr>\n    <tr>\n      <th>3</th>\n      <td>2777766</td>\n      <td>2</td>\n      <td>arts</td>\n      <td>allowed</td>\n      <td>Auditorium</td>\n    </tr>\n    <tr>\n      <th>4</th>\n      <td>2777785</td>\n      <td>1</td>\n      <td>mba</td>\n      <td>allowed</td>\n      <td>Small room</td>\n    </tr>\n    <tr>\n      <th>...</th>\n      <td>...</td>\n      <td>...</td>\n      <td>...</td>\n      <td>...</td>\n      <td>...</td>\n    </tr>\n    <tr>\n      <th>1995</th>\n      <td>2796805</td>\n      <td>3</td>\n      <td>computer application</td>\n      <td>allowed</td>\n      <td>Medium room</td>\n    </tr>\n    <tr>\n      <th>1996</th>\n      <td>2796812</td>\n      <td>1</td>\n      <td>nursing</td>\n      <td>allowed</td>\n      <td>Medium room</td>\n    </tr>\n    <tr>\n      <th>1997</th>\n      <td>2796813</td>\n      <td>2</td>\n      <td>nursing</td>\n      <td>allowed</td>\n      <td>Medium room</td>\n    </tr>\n    <tr>\n      <th>1998</th>\n      <td>2796814</td>\n      <td>3</td>\n      <td>nursing</td>\n      <td>allowed</td>\n      <td>Medium room</td>\n    </tr>\n    <tr>\n      <th>1999</th>\n      <td>2796815</td>\n      <td>4</td>\n      <td>nursing</td>\n      <td>allowed</td>\n      <td>Medium room</td>\n    </tr>\n  </tbody>\n</table>\n<p>2000 rows × 5 columns</p>\n</div>"
     },
     "execution_count": 1,
     "metadata": {},
     "output_type": "execute_result"
    }
   ],
   "source": [
    "import pandas as pd\n",
    "\n",
    "df = pd.read_csv('../data/enrolment_3.csv')\n",
    "df"
   ],
   "metadata": {
    "collapsed": true,
    "ExecuteTime": {
     "end_time": "2024-04-23T11:23:20.407074Z",
     "start_time": "2024-04-23T11:23:19.907232Z"
    }
   },
   "id": "initial_id",
   "execution_count": 1
  },
  {
   "cell_type": "markdown",
   "source": [
    "### Auditorium 강의실 번호 붙이기"
   ],
   "metadata": {
    "collapsed": false
   },
   "id": "86393226f0c71318"
  },
  {
   "cell_type": "code",
   "outputs": [],
   "source": [
    "# Auditorium 강의실 번호 붙이기\n",
    "selected_courses_auditorium = df[(df['room assignment'] != 'not assigned') & (df['room assignment'] == 'Auditorium')]['course name'].sort_values().unique()\n",
    "count = 1\n",
    "for course in selected_courses_auditorium:\n",
    "    df.loc[df[\"course name\"] == course, \"room assignment\"] = f\"Auditorium-{count}\"\n",
    "    count += 1"
   ],
   "metadata": {
    "collapsed": false,
    "ExecuteTime": {
     "end_time": "2024-04-23T11:23:20.412875Z",
     "start_time": "2024-04-23T11:23:20.409950Z"
    }
   },
   "id": "76b86fb5755e34a7",
   "execution_count": 2
  },
  {
   "cell_type": "markdown",
   "source": [
    "### Large room 강의실 번호 붙이기"
   ],
   "metadata": {
    "collapsed": false
   },
   "id": "7810378fe28ad4d5"
  },
  {
   "cell_type": "code",
   "outputs": [],
   "source": [
    "selected_courses_large = df[(df['room assignment'] != 'not assigned') & (df['room assignment'] == 'Large room')]['course name'].sort_values().unique()\n",
    "count = 1\n",
    "for course in selected_courses_large:\n",
    "    df.loc[df[\"course name\"] == course, \"room assignment\"] = f\"Large-{count}\"\n",
    "    count += 1"
   ],
   "metadata": {
    "collapsed": false,
    "ExecuteTime": {
     "end_time": "2024-04-23T11:23:20.416320Z",
     "start_time": "2024-04-23T11:23:20.413239Z"
    }
   },
   "id": "9934ec8e2fa50824",
   "execution_count": 3
  },
  {
   "cell_type": "markdown",
   "source": [
    "### Medium room 강의실 번호 붙이기"
   ],
   "metadata": {
    "collapsed": false
   },
   "id": "a0d5ade6a26404f3"
  },
  {
   "cell_type": "code",
   "outputs": [],
   "source": [
    "# Medium room 강의실 번호 붙이기\n",
    "selected_courses_medium = df[(df['room assignment'] != 'not assigned') & (df['room assignment'] == 'Medium room')]['course name'].sort_values().unique()\n",
    "count = 1\n",
    "for course in selected_courses_medium:\n",
    "    df.loc[df[\"course name\"] == course, \"room assignment\"] = f\"Medium-{count}\"\n",
    "    count += 1"
   ],
   "metadata": {
    "collapsed": false,
    "ExecuteTime": {
     "end_time": "2024-04-23T11:23:20.422953Z",
     "start_time": "2024-04-23T11:23:20.417202Z"
    }
   },
   "id": "8495eb4b320a5a8c",
   "execution_count": 4
  },
  {
   "cell_type": "markdown",
   "source": [
    "### Small room 강의실 번호 붙이기"
   ],
   "metadata": {
    "collapsed": false
   },
   "id": "43b0e496ac17a3d9"
  },
  {
   "cell_type": "code",
   "outputs": [],
   "source": [
    "# Small room 강의실 번호 붙이기\n",
    "selected_courses_small = df[(df['room assignment'] != 'not assigned') & (df['room assignment'] == 'Small room')]['course name'].sort_values().unique()\n",
    "count = 1\n",
    "for course in selected_courses_small:\n",
    "    df.loc[df[\"course name\"] == course, \"room assignment\"] = f\"Small-{count}\"\n",
    "    count += 1"
   ],
   "metadata": {
    "collapsed": false,
    "ExecuteTime": {
     "end_time": "2024-04-23T11:23:20.584735Z",
     "start_time": "2024-04-23T11:23:20.424577Z"
    }
   },
   "id": "6d22743ea44d862c",
   "execution_count": 5
  },
  {
   "cell_type": "code",
   "outputs": [
    {
     "data": {
      "text/plain": "           id  year             course name       status room assignment\n0     2777729     1  information technology  not allowed        Small-29\n1     2777730     2                 science      allowed    Auditorium-3\n2     2777765     1                    arts      allowed    Auditorium-1\n3     2777766     2                    arts      allowed    Auditorium-1\n4     2777785     1                     mba      allowed        Small-34\n...       ...   ...                     ...          ...             ...\n1995  2796805     3    computer application      allowed        Medium-7\n1996  2796812     1                 nursing      allowed       Medium-22\n1997  2796813     2                 nursing      allowed       Medium-22\n1998  2796814     3                 nursing      allowed       Medium-22\n1999  2796815     4                 nursing      allowed       Medium-22\n\n[2000 rows x 5 columns]",
      "text/html": "<div>\n<style scoped>\n    .dataframe tbody tr th:only-of-type {\n        vertical-align: middle;\n    }\n\n    .dataframe tbody tr th {\n        vertical-align: top;\n    }\n\n    .dataframe thead th {\n        text-align: right;\n    }\n</style>\n<table border=\"1\" class=\"dataframe\">\n  <thead>\n    <tr style=\"text-align: right;\">\n      <th></th>\n      <th>id</th>\n      <th>year</th>\n      <th>course name</th>\n      <th>status</th>\n      <th>room assignment</th>\n    </tr>\n  </thead>\n  <tbody>\n    <tr>\n      <th>0</th>\n      <td>2777729</td>\n      <td>1</td>\n      <td>information technology</td>\n      <td>not allowed</td>\n      <td>Small-29</td>\n    </tr>\n    <tr>\n      <th>1</th>\n      <td>2777730</td>\n      <td>2</td>\n      <td>science</td>\n      <td>allowed</td>\n      <td>Auditorium-3</td>\n    </tr>\n    <tr>\n      <th>2</th>\n      <td>2777765</td>\n      <td>1</td>\n      <td>arts</td>\n      <td>allowed</td>\n      <td>Auditorium-1</td>\n    </tr>\n    <tr>\n      <th>3</th>\n      <td>2777766</td>\n      <td>2</td>\n      <td>arts</td>\n      <td>allowed</td>\n      <td>Auditorium-1</td>\n    </tr>\n    <tr>\n      <th>4</th>\n      <td>2777785</td>\n      <td>1</td>\n      <td>mba</td>\n      <td>allowed</td>\n      <td>Small-34</td>\n    </tr>\n    <tr>\n      <th>...</th>\n      <td>...</td>\n      <td>...</td>\n      <td>...</td>\n      <td>...</td>\n      <td>...</td>\n    </tr>\n    <tr>\n      <th>1995</th>\n      <td>2796805</td>\n      <td>3</td>\n      <td>computer application</td>\n      <td>allowed</td>\n      <td>Medium-7</td>\n    </tr>\n    <tr>\n      <th>1996</th>\n      <td>2796812</td>\n      <td>1</td>\n      <td>nursing</td>\n      <td>allowed</td>\n      <td>Medium-22</td>\n    </tr>\n    <tr>\n      <th>1997</th>\n      <td>2796813</td>\n      <td>2</td>\n      <td>nursing</td>\n      <td>allowed</td>\n      <td>Medium-22</td>\n    </tr>\n    <tr>\n      <th>1998</th>\n      <td>2796814</td>\n      <td>3</td>\n      <td>nursing</td>\n      <td>allowed</td>\n      <td>Medium-22</td>\n    </tr>\n    <tr>\n      <th>1999</th>\n      <td>2796815</td>\n      <td>4</td>\n      <td>nursing</td>\n      <td>allowed</td>\n      <td>Medium-22</td>\n    </tr>\n  </tbody>\n</table>\n<p>2000 rows × 5 columns</p>\n</div>"
     },
     "execution_count": 6,
     "metadata": {},
     "output_type": "execute_result"
    }
   ],
   "source": [
    "df"
   ],
   "metadata": {
    "collapsed": false,
    "ExecuteTime": {
     "end_time": "2024-04-23T11:23:20.585238Z",
     "start_time": "2024-04-23T11:23:20.567902Z"
    }
   },
   "id": "e6a22c3097697f9b",
   "execution_count": 6
  },
  {
   "cell_type": "code",
   "outputs": [],
   "source": [
    "# 2)\n",
    "df.loc[df['status'] == 'not allowed', 'room assignment'] = 'not assigned'"
   ],
   "metadata": {
    "collapsed": false,
    "ExecuteTime": {
     "end_time": "2024-04-23T11:23:20.585401Z",
     "start_time": "2024-04-23T11:23:20.568298Z"
    }
   },
   "id": "73892167883234f8",
   "execution_count": 7
  },
  {
   "cell_type": "code",
   "outputs": [],
   "source": [
    "# 3)\n",
    "df.rename(columns={'room assignment' : 'room number'}, inplace=True)"
   ],
   "metadata": {
    "collapsed": false,
    "ExecuteTime": {
     "end_time": "2024-04-23T11:23:20.585616Z",
     "start_time": "2024-04-23T11:23:20.568420Z"
    }
   },
   "id": "baa93bbffeb92c7b",
   "execution_count": 8
  },
  {
   "cell_type": "code",
   "outputs": [
    {
     "data": {
      "text/plain": "           id  year             course name       status   room number\n0     2777729     1  information technology  not allowed  not assigned\n1     2777730     2                 science      allowed  Auditorium-3\n2     2777765     1                    arts      allowed  Auditorium-1\n3     2777766     2                    arts      allowed  Auditorium-1\n4     2777785     1                     mba      allowed      Small-34\n...       ...   ...                     ...          ...           ...\n1995  2796805     3    computer application      allowed      Medium-7\n1996  2796812     1                 nursing      allowed     Medium-22\n1997  2796813     2                 nursing      allowed     Medium-22\n1998  2796814     3                 nursing      allowed     Medium-22\n1999  2796815     4                 nursing      allowed     Medium-22\n\n[2000 rows x 5 columns]",
      "text/html": "<div>\n<style scoped>\n    .dataframe tbody tr th:only-of-type {\n        vertical-align: middle;\n    }\n\n    .dataframe tbody tr th {\n        vertical-align: top;\n    }\n\n    .dataframe thead th {\n        text-align: right;\n    }\n</style>\n<table border=\"1\" class=\"dataframe\">\n  <thead>\n    <tr style=\"text-align: right;\">\n      <th></th>\n      <th>id</th>\n      <th>year</th>\n      <th>course name</th>\n      <th>status</th>\n      <th>room number</th>\n    </tr>\n  </thead>\n  <tbody>\n    <tr>\n      <th>0</th>\n      <td>2777729</td>\n      <td>1</td>\n      <td>information technology</td>\n      <td>not allowed</td>\n      <td>not assigned</td>\n    </tr>\n    <tr>\n      <th>1</th>\n      <td>2777730</td>\n      <td>2</td>\n      <td>science</td>\n      <td>allowed</td>\n      <td>Auditorium-3</td>\n    </tr>\n    <tr>\n      <th>2</th>\n      <td>2777765</td>\n      <td>1</td>\n      <td>arts</td>\n      <td>allowed</td>\n      <td>Auditorium-1</td>\n    </tr>\n    <tr>\n      <th>3</th>\n      <td>2777766</td>\n      <td>2</td>\n      <td>arts</td>\n      <td>allowed</td>\n      <td>Auditorium-1</td>\n    </tr>\n    <tr>\n      <th>4</th>\n      <td>2777785</td>\n      <td>1</td>\n      <td>mba</td>\n      <td>allowed</td>\n      <td>Small-34</td>\n    </tr>\n    <tr>\n      <th>...</th>\n      <td>...</td>\n      <td>...</td>\n      <td>...</td>\n      <td>...</td>\n      <td>...</td>\n    </tr>\n    <tr>\n      <th>1995</th>\n      <td>2796805</td>\n      <td>3</td>\n      <td>computer application</td>\n      <td>allowed</td>\n      <td>Medium-7</td>\n    </tr>\n    <tr>\n      <th>1996</th>\n      <td>2796812</td>\n      <td>1</td>\n      <td>nursing</td>\n      <td>allowed</td>\n      <td>Medium-22</td>\n    </tr>\n    <tr>\n      <th>1997</th>\n      <td>2796813</td>\n      <td>2</td>\n      <td>nursing</td>\n      <td>allowed</td>\n      <td>Medium-22</td>\n    </tr>\n    <tr>\n      <th>1998</th>\n      <td>2796814</td>\n      <td>3</td>\n      <td>nursing</td>\n      <td>allowed</td>\n      <td>Medium-22</td>\n    </tr>\n    <tr>\n      <th>1999</th>\n      <td>2796815</td>\n      <td>4</td>\n      <td>nursing</td>\n      <td>allowed</td>\n      <td>Medium-22</td>\n    </tr>\n  </tbody>\n</table>\n<p>2000 rows × 5 columns</p>\n</div>"
     },
     "execution_count": 9,
     "metadata": {},
     "output_type": "execute_result"
    }
   ],
   "source": [
    "df"
   ],
   "metadata": {
    "collapsed": false,
    "ExecuteTime": {
     "end_time": "2024-04-23T11:23:20.585763Z",
     "start_time": "2024-04-23T11:23:20.568481Z"
    }
   },
   "id": "29aa3fe0303a592d",
   "execution_count": 9
  },
  {
   "cell_type": "code",
   "outputs": [],
   "source": [],
   "metadata": {
    "collapsed": false,
    "ExecuteTime": {
     "end_time": "2024-04-23T11:23:20.585878Z",
     "start_time": "2024-04-23T11:23:20.568595Z"
    }
   },
   "id": "e6f4b7b4033319c5",
   "execution_count": 9
  }
 ],
 "metadata": {
  "kernelspec": {
   "display_name": "Python 3",
   "language": "python",
   "name": "python3"
  },
  "language_info": {
   "codemirror_mode": {
    "name": "ipython",
    "version": 2
   },
   "file_extension": ".py",
   "mimetype": "text/x-python",
   "name": "python",
   "nbconvert_exporter": "python",
   "pygments_lexer": "ipython2",
   "version": "2.7.6"
  }
 },
 "nbformat": 4,
 "nbformat_minor": 5
}
