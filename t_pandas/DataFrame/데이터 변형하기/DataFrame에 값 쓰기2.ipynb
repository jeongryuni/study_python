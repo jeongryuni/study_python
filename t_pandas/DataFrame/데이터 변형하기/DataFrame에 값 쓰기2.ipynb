{
 "cells": [
  {
   "cell_type": "code",
   "outputs": [],
   "source": [
    "import pandas as pd\n",
    "iphone_df = pd.read_csv('../data/iphone.csv', index_col=0)"
   ],
   "metadata": {
    "collapsed": false,
    "ExecuteTime": {
     "end_time": "2024-04-22T08:46:18.567053Z",
     "start_time": "2024-04-22T08:46:18.246221Z"
    }
   },
   "id": "6679d1b6e5eaf80a",
   "execution_count": 1
  },
  {
   "cell_type": "code",
   "outputs": [
    {
     "data": {
      "text/plain": "               디스플레이 Face ID\niPhone 7         4.7      No\niPhone 7 Plus    5.5      No\niPhone 8         4.7      No\niPhone 8 Plus    5.5      No\niPhone X         5.8     Yes\niPhone XS        5.8     Yes\niPhone XS Max    6.5     Yes",
      "text/html": "<div>\n<style scoped>\n    .dataframe tbody tr th:only-of-type {\n        vertical-align: middle;\n    }\n\n    .dataframe tbody tr th {\n        vertical-align: top;\n    }\n\n    .dataframe thead th {\n        text-align: right;\n    }\n</style>\n<table border=\"1\" class=\"dataframe\">\n  <thead>\n    <tr style=\"text-align: right;\">\n      <th></th>\n      <th>디스플레이</th>\n      <th>Face ID</th>\n    </tr>\n  </thead>\n  <tbody>\n    <tr>\n      <th>iPhone 7</th>\n      <td>4.7</td>\n      <td>No</td>\n    </tr>\n    <tr>\n      <th>iPhone 7 Plus</th>\n      <td>5.5</td>\n      <td>No</td>\n    </tr>\n    <tr>\n      <th>iPhone 8</th>\n      <td>4.7</td>\n      <td>No</td>\n    </tr>\n    <tr>\n      <th>iPhone 8 Plus</th>\n      <td>5.5</td>\n      <td>No</td>\n    </tr>\n    <tr>\n      <th>iPhone X</th>\n      <td>5.8</td>\n      <td>Yes</td>\n    </tr>\n    <tr>\n      <th>iPhone XS</th>\n      <td>5.8</td>\n      <td>Yes</td>\n    </tr>\n    <tr>\n      <th>iPhone XS Max</th>\n      <td>6.5</td>\n      <td>Yes</td>\n    </tr>\n  </tbody>\n</table>\n</div>"
     },
     "execution_count": 2,
     "metadata": {},
     "output_type": "execute_result"
    }
   ],
   "source": [
    "# 여러줄을 한번에 값을 변경하기\n",
    "iphone_df[['디스플레이', 'Face ID']] # 디스플레이와 Face ID만 출력하기"
   ],
   "metadata": {
    "collapsed": false,
    "ExecuteTime": {
     "end_time": "2024-04-22T08:46:18.580156Z",
     "start_time": "2024-04-22T08:46:18.568606Z"
    }
   },
   "id": "bb6e12e5238fb657",
   "execution_count": 2
  },
  {
   "cell_type": "code",
   "outputs": [
    {
     "data": {
      "text/plain": "                      출시일 디스플레이  메모리     출시 버전 Face ID\niPhone 7       2016-09-16     x  2GB  iOS 10.0       x\niPhone 7 Plus  2016-09-16     x  3GB  iOS 10.0       x\niPhone 8       2017-09-22     x  2GB  iOS 11.0       x\niPhone 8 Plus  2017-09-22     x  3GB  iOS 11.0       x\niPhone X       2017-11-03     x  3GB  iOS 11.1       x\niPhone XS      2018-09-21     x  4GB  iOS 12.0       x\niPhone XS Max  2018-09-21     x  4GB  iOS 12.0       x",
      "text/html": "<div>\n<style scoped>\n    .dataframe tbody tr th:only-of-type {\n        vertical-align: middle;\n    }\n\n    .dataframe tbody tr th {\n        vertical-align: top;\n    }\n\n    .dataframe thead th {\n        text-align: right;\n    }\n</style>\n<table border=\"1\" class=\"dataframe\">\n  <thead>\n    <tr style=\"text-align: right;\">\n      <th></th>\n      <th>출시일</th>\n      <th>디스플레이</th>\n      <th>메모리</th>\n      <th>출시 버전</th>\n      <th>Face ID</th>\n    </tr>\n  </thead>\n  <tbody>\n    <tr>\n      <th>iPhone 7</th>\n      <td>2016-09-16</td>\n      <td>x</td>\n      <td>2GB</td>\n      <td>iOS 10.0</td>\n      <td>x</td>\n    </tr>\n    <tr>\n      <th>iPhone 7 Plus</th>\n      <td>2016-09-16</td>\n      <td>x</td>\n      <td>3GB</td>\n      <td>iOS 10.0</td>\n      <td>x</td>\n    </tr>\n    <tr>\n      <th>iPhone 8</th>\n      <td>2017-09-22</td>\n      <td>x</td>\n      <td>2GB</td>\n      <td>iOS 11.0</td>\n      <td>x</td>\n    </tr>\n    <tr>\n      <th>iPhone 8 Plus</th>\n      <td>2017-09-22</td>\n      <td>x</td>\n      <td>3GB</td>\n      <td>iOS 11.0</td>\n      <td>x</td>\n    </tr>\n    <tr>\n      <th>iPhone X</th>\n      <td>2017-11-03</td>\n      <td>x</td>\n      <td>3GB</td>\n      <td>iOS 11.1</td>\n      <td>x</td>\n    </tr>\n    <tr>\n      <th>iPhone XS</th>\n      <td>2018-09-21</td>\n      <td>x</td>\n      <td>4GB</td>\n      <td>iOS 12.0</td>\n      <td>x</td>\n    </tr>\n    <tr>\n      <th>iPhone XS Max</th>\n      <td>2018-09-21</td>\n      <td>x</td>\n      <td>4GB</td>\n      <td>iOS 12.0</td>\n      <td>x</td>\n    </tr>\n  </tbody>\n</table>\n</div>"
     },
     "execution_count": 3,
     "metadata": {},
     "output_type": "execute_result"
    }
   ],
   "source": [
    "iphone_df[['디스플레이', 'Face ID']] = 'x'\n",
    "iphone_df"
   ],
   "metadata": {
    "collapsed": false,
    "ExecuteTime": {
     "end_time": "2024-04-22T08:46:18.584700Z",
     "start_time": "2024-04-22T08:46:18.580833Z"
    }
   },
   "id": "339685ed626e9ae6",
   "execution_count": 3
  },
  {
   "cell_type": "code",
   "outputs": [
    {
     "data": {
      "text/plain": "                      출시일 디스플레이  메모리     출시 버전 Face ID\niPhone 7                o     o    o         o       o\niPhone 7 Plus  2016-09-16     x  3GB  iOS 10.0       x\niPhone 8       2017-09-22     x  2GB  iOS 11.0       x\niPhone 8 Plus  2017-09-22     x  3GB  iOS 11.0       x\niPhone X                o     o    o         o       o\niPhone XS      2018-09-21     x  4GB  iOS 12.0       x\niPhone XS Max  2018-09-21     x  4GB  iOS 12.0       x",
      "text/html": "<div>\n<style scoped>\n    .dataframe tbody tr th:only-of-type {\n        vertical-align: middle;\n    }\n\n    .dataframe tbody tr th {\n        vertical-align: top;\n    }\n\n    .dataframe thead th {\n        text-align: right;\n    }\n</style>\n<table border=\"1\" class=\"dataframe\">\n  <thead>\n    <tr style=\"text-align: right;\">\n      <th></th>\n      <th>출시일</th>\n      <th>디스플레이</th>\n      <th>메모리</th>\n      <th>출시 버전</th>\n      <th>Face ID</th>\n    </tr>\n  </thead>\n  <tbody>\n    <tr>\n      <th>iPhone 7</th>\n      <td>o</td>\n      <td>o</td>\n      <td>o</td>\n      <td>o</td>\n      <td>o</td>\n    </tr>\n    <tr>\n      <th>iPhone 7 Plus</th>\n      <td>2016-09-16</td>\n      <td>x</td>\n      <td>3GB</td>\n      <td>iOS 10.0</td>\n      <td>x</td>\n    </tr>\n    <tr>\n      <th>iPhone 8</th>\n      <td>2017-09-22</td>\n      <td>x</td>\n      <td>2GB</td>\n      <td>iOS 11.0</td>\n      <td>x</td>\n    </tr>\n    <tr>\n      <th>iPhone 8 Plus</th>\n      <td>2017-09-22</td>\n      <td>x</td>\n      <td>3GB</td>\n      <td>iOS 11.0</td>\n      <td>x</td>\n    </tr>\n    <tr>\n      <th>iPhone X</th>\n      <td>o</td>\n      <td>o</td>\n      <td>o</td>\n      <td>o</td>\n      <td>o</td>\n    </tr>\n    <tr>\n      <th>iPhone XS</th>\n      <td>2018-09-21</td>\n      <td>x</td>\n      <td>4GB</td>\n      <td>iOS 12.0</td>\n      <td>x</td>\n    </tr>\n    <tr>\n      <th>iPhone XS Max</th>\n      <td>2018-09-21</td>\n      <td>x</td>\n      <td>4GB</td>\n      <td>iOS 12.0</td>\n      <td>x</td>\n    </tr>\n  </tbody>\n</table>\n</div>"
     },
     "execution_count": 4,
     "metadata": {},
     "output_type": "execute_result"
    }
   ],
   "source": [
    "# iPhone 7과 X만 o로 바꾸기\n",
    "iphone_df.loc[['iPhone 7', 'iPhone X']] = 'o'\n",
    "iphone_df"
   ],
   "metadata": {
    "collapsed": false,
    "ExecuteTime": {
     "end_time": "2024-04-22T08:46:18.598257Z",
     "start_time": "2024-04-22T08:46:18.587403Z"
    }
   },
   "id": "a689e393c8ec3922",
   "execution_count": 4
  },
  {
   "cell_type": "code",
   "outputs": [
    {
     "data": {
      "text/plain": "                      출시일 디스플레이  메모리     출시 버전 Face ID\niPhone 7                o     o    o         o       o\niPhone 7 Plus           o     o    o         o       o\niPhone 8                o     o    o         o       o\niPhone 8 Plus           o     o    o         o       o\niPhone X                o     o    o         o       o\niPhone XS      2018-09-21     x  4GB  iOS 12.0       x\niPhone XS Max  2018-09-21     x  4GB  iOS 12.0       x",
      "text/html": "<div>\n<style scoped>\n    .dataframe tbody tr th:only-of-type {\n        vertical-align: middle;\n    }\n\n    .dataframe tbody tr th {\n        vertical-align: top;\n    }\n\n    .dataframe thead th {\n        text-align: right;\n    }\n</style>\n<table border=\"1\" class=\"dataframe\">\n  <thead>\n    <tr style=\"text-align: right;\">\n      <th></th>\n      <th>출시일</th>\n      <th>디스플레이</th>\n      <th>메모리</th>\n      <th>출시 버전</th>\n      <th>Face ID</th>\n    </tr>\n  </thead>\n  <tbody>\n    <tr>\n      <th>iPhone 7</th>\n      <td>o</td>\n      <td>o</td>\n      <td>o</td>\n      <td>o</td>\n      <td>o</td>\n    </tr>\n    <tr>\n      <th>iPhone 7 Plus</th>\n      <td>o</td>\n      <td>o</td>\n      <td>o</td>\n      <td>o</td>\n      <td>o</td>\n    </tr>\n    <tr>\n      <th>iPhone 8</th>\n      <td>o</td>\n      <td>o</td>\n      <td>o</td>\n      <td>o</td>\n      <td>o</td>\n    </tr>\n    <tr>\n      <th>iPhone 8 Plus</th>\n      <td>o</td>\n      <td>o</td>\n      <td>o</td>\n      <td>o</td>\n      <td>o</td>\n    </tr>\n    <tr>\n      <th>iPhone X</th>\n      <td>o</td>\n      <td>o</td>\n      <td>o</td>\n      <td>o</td>\n      <td>o</td>\n    </tr>\n    <tr>\n      <th>iPhone XS</th>\n      <td>2018-09-21</td>\n      <td>x</td>\n      <td>4GB</td>\n      <td>iOS 12.0</td>\n      <td>x</td>\n    </tr>\n    <tr>\n      <th>iPhone XS Max</th>\n      <td>2018-09-21</td>\n      <td>x</td>\n      <td>4GB</td>\n      <td>iOS 12.0</td>\n      <td>x</td>\n    </tr>\n  </tbody>\n</table>\n</div>"
     },
     "execution_count": 5,
     "metadata": {},
     "output_type": "execute_result"
    }
   ],
   "source": [
    "# iPhone 7부터 X까지 o로 바꾸기\n",
    "iphone_df.loc['iPhone 7' : 'iPhone X'] = 'o'\n",
    "iphone_df"
   ],
   "metadata": {
    "collapsed": false,
    "ExecuteTime": {
     "end_time": "2024-04-22T08:46:18.635970Z",
     "start_time": "2024-04-22T08:46:18.595824Z"
    }
   },
   "id": "a77ab3e6276d83e3",
   "execution_count": 5
  },
  {
   "cell_type": "code",
   "outputs": [],
   "source": [
    "# 기본 값 가져오기\n",
    "import pandas as pd\n",
    "iphone_df = pd.read_csv('../data/iphone.csv', index_col=0)"
   ],
   "metadata": {
    "collapsed": false,
    "ExecuteTime": {
     "end_time": "2024-04-22T08:46:18.640011Z",
     "start_time": "2024-04-22T08:46:18.599217Z"
    }
   },
   "id": "7f01a2563b011669",
   "execution_count": 6
  },
  {
   "cell_type": "code",
   "outputs": [
    {
     "data": {
      "text/plain": "iPhone 7         False\niPhone 7 Plus     True\niPhone 8         False\niPhone 8 Plus     True\niPhone X          True\niPhone XS         True\niPhone XS Max     True\nName: 디스플레이, dtype: bool"
     },
     "execution_count": 7,
     "metadata": {},
     "output_type": "execute_result"
    }
   ],
   "source": [
    "# 조건으로 row 선택\n",
    "# 디스플레이가 5보다 큰 애들\n",
    "iphone_df['디스플레이']>5"
   ],
   "metadata": {
    "collapsed": false,
    "ExecuteTime": {
     "end_time": "2024-04-22T08:46:18.675221Z",
     "start_time": "2024-04-22T08:46:18.604081Z"
    }
   },
   "id": "8be93579a837863d",
   "execution_count": 7
  },
  {
   "cell_type": "code",
   "outputs": [
    {
     "data": {
      "text/plain": "                      출시일  디스플레이  메모리     출시 버전 Face ID\niPhone 7 Plus  2016-09-16    5.5  3GB  iOS 10.0      No\niPhone 8 Plus  2017-09-22    5.5  3GB  iOS 11.0      No\niPhone X       2017-11-03    5.8  3GB  iOS 11.1     Yes\niPhone XS      2018-09-21    5.8  4GB  iOS 12.0     Yes\niPhone XS Max  2018-09-21    6.5  4GB  iOS 12.0     Yes",
      "text/html": "<div>\n<style scoped>\n    .dataframe tbody tr th:only-of-type {\n        vertical-align: middle;\n    }\n\n    .dataframe tbody tr th {\n        vertical-align: top;\n    }\n\n    .dataframe thead th {\n        text-align: right;\n    }\n</style>\n<table border=\"1\" class=\"dataframe\">\n  <thead>\n    <tr style=\"text-align: right;\">\n      <th></th>\n      <th>출시일</th>\n      <th>디스플레이</th>\n      <th>메모리</th>\n      <th>출시 버전</th>\n      <th>Face ID</th>\n    </tr>\n  </thead>\n  <tbody>\n    <tr>\n      <th>iPhone 7 Plus</th>\n      <td>2016-09-16</td>\n      <td>5.5</td>\n      <td>3GB</td>\n      <td>iOS 10.0</td>\n      <td>No</td>\n    </tr>\n    <tr>\n      <th>iPhone 8 Plus</th>\n      <td>2017-09-22</td>\n      <td>5.5</td>\n      <td>3GB</td>\n      <td>iOS 11.0</td>\n      <td>No</td>\n    </tr>\n    <tr>\n      <th>iPhone X</th>\n      <td>2017-11-03</td>\n      <td>5.8</td>\n      <td>3GB</td>\n      <td>iOS 11.1</td>\n      <td>Yes</td>\n    </tr>\n    <tr>\n      <th>iPhone XS</th>\n      <td>2018-09-21</td>\n      <td>5.8</td>\n      <td>4GB</td>\n      <td>iOS 12.0</td>\n      <td>Yes</td>\n    </tr>\n    <tr>\n      <th>iPhone XS Max</th>\n      <td>2018-09-21</td>\n      <td>6.5</td>\n      <td>4GB</td>\n      <td>iOS 12.0</td>\n      <td>Yes</td>\n    </tr>\n  </tbody>\n</table>\n</div>"
     },
     "execution_count": 8,
     "metadata": {},
     "output_type": "execute_result"
    }
   ],
   "source": [
    "iphone_df.loc[iphone_df['디스플레이']>5]"
   ],
   "metadata": {
    "collapsed": false,
    "ExecuteTime": {
     "end_time": "2024-04-22T08:46:18.681666Z",
     "start_time": "2024-04-22T08:46:18.608490Z"
    }
   },
   "id": "f52460a41696b75a",
   "execution_count": 8
  },
  {
   "cell_type": "code",
   "outputs": [
    {
     "name": "stderr",
     "output_type": "stream",
     "text": [
      "/var/folders/vh/dzvlggfx64b5xndshnbz77540000gn/T/ipykernel_71916/760488095.py:2: FutureWarning: Setting an item of incompatible dtype is deprecated and will raise in a future error of pandas. Value 'p' has dtype incompatible with float64, please explicitly cast to a compatible dtype first.\n",
      "  iphone_df.loc[iphone_df['디스플레이'] > 5] = 'p'\n"
     ]
    }
   ],
   "source": [
    "# 디스플레이가 5 이상인 값들을 전부 'P'로 바꿈\n",
    "iphone_df.loc[iphone_df['디스플레이'] > 5] = 'p'"
   ],
   "metadata": {
    "collapsed": false,
    "ExecuteTime": {
     "end_time": "2024-04-22T08:46:18.684723Z",
     "start_time": "2024-04-22T08:46:18.612141Z"
    }
   },
   "id": "de734794b59a5cf",
   "execution_count": 9
  },
  {
   "cell_type": "code",
   "outputs": [
    {
     "data": {
      "text/plain": "              디스플레이 Face ID\niPhone 7 Plus     p       p\niPhone 8 Plus     p       p",
      "text/html": "<div>\n<style scoped>\n    .dataframe tbody tr th:only-of-type {\n        vertical-align: middle;\n    }\n\n    .dataframe tbody tr th {\n        vertical-align: top;\n    }\n\n    .dataframe thead th {\n        text-align: right;\n    }\n</style>\n<table border=\"1\" class=\"dataframe\">\n  <thead>\n    <tr style=\"text-align: right;\">\n      <th></th>\n      <th>디스플레이</th>\n      <th>Face ID</th>\n    </tr>\n  </thead>\n  <tbody>\n    <tr>\n      <th>iPhone 7 Plus</th>\n      <td>p</td>\n      <td>p</td>\n    </tr>\n    <tr>\n      <th>iPhone 8 Plus</th>\n      <td>p</td>\n      <td>p</td>\n    </tr>\n  </tbody>\n</table>\n</div>"
     },
     "execution_count": 10,
     "metadata": {},
     "output_type": "execute_result"
    }
   ],
   "source": [
    "iphone_df.iloc[[1,3], [1,4]]"
   ],
   "metadata": {
    "collapsed": false,
    "ExecuteTime": {
     "end_time": "2024-04-22T08:46:18.685076Z",
     "start_time": "2024-04-22T08:46:18.616094Z"
    }
   },
   "id": "6ce8c40c09b7b9a",
   "execution_count": 10
  },
  {
   "cell_type": "code",
   "outputs": [
    {
     "data": {
      "text/plain": "                      출시일 디스플레이  메모리     출시 버전 Face ID\niPhone 7       2016-09-16   4.7  2GB  iOS 10.0      No\niPhone 7 Plus           p     v    p         p       v\niPhone 8       2017-09-22   4.7  2GB  iOS 11.0      No\niPhone 8 Plus           p     v    p         p       v\niPhone X                p     p    p         p       p\niPhone XS               p     p    p         p       p\niPhone XS Max           p     p    p         p       p",
      "text/html": "<div>\n<style scoped>\n    .dataframe tbody tr th:only-of-type {\n        vertical-align: middle;\n    }\n\n    .dataframe tbody tr th {\n        vertical-align: top;\n    }\n\n    .dataframe thead th {\n        text-align: right;\n    }\n</style>\n<table border=\"1\" class=\"dataframe\">\n  <thead>\n    <tr style=\"text-align: right;\">\n      <th></th>\n      <th>출시일</th>\n      <th>디스플레이</th>\n      <th>메모리</th>\n      <th>출시 버전</th>\n      <th>Face ID</th>\n    </tr>\n  </thead>\n  <tbody>\n    <tr>\n      <th>iPhone 7</th>\n      <td>2016-09-16</td>\n      <td>4.7</td>\n      <td>2GB</td>\n      <td>iOS 10.0</td>\n      <td>No</td>\n    </tr>\n    <tr>\n      <th>iPhone 7 Plus</th>\n      <td>p</td>\n      <td>v</td>\n      <td>p</td>\n      <td>p</td>\n      <td>v</td>\n    </tr>\n    <tr>\n      <th>iPhone 8</th>\n      <td>2017-09-22</td>\n      <td>4.7</td>\n      <td>2GB</td>\n      <td>iOS 11.0</td>\n      <td>No</td>\n    </tr>\n    <tr>\n      <th>iPhone 8 Plus</th>\n      <td>p</td>\n      <td>v</td>\n      <td>p</td>\n      <td>p</td>\n      <td>v</td>\n    </tr>\n    <tr>\n      <th>iPhone X</th>\n      <td>p</td>\n      <td>p</td>\n      <td>p</td>\n      <td>p</td>\n      <td>p</td>\n    </tr>\n    <tr>\n      <th>iPhone XS</th>\n      <td>p</td>\n      <td>p</td>\n      <td>p</td>\n      <td>p</td>\n      <td>p</td>\n    </tr>\n    <tr>\n      <th>iPhone XS Max</th>\n      <td>p</td>\n      <td>p</td>\n      <td>p</td>\n      <td>p</td>\n      <td>p</td>\n    </tr>\n  </tbody>\n</table>\n</div>"
     },
     "execution_count": 11,
     "metadata": {},
     "output_type": "execute_result"
    }
   ],
   "source": [
    "iphone_df.iloc[[1,3], [1,4]] = 'v'\n",
    "iphone_df"
   ],
   "metadata": {
    "collapsed": false,
    "ExecuteTime": {
     "end_time": "2024-04-22T08:46:18.716663Z",
     "start_time": "2024-04-22T08:46:18.621679Z"
    }
   },
   "id": "81f4adcf034baf3c",
   "execution_count": 11
  },
  {
   "cell_type": "code",
   "outputs": [],
   "source": [],
   "metadata": {
    "collapsed": false,
    "ExecuteTime": {
     "end_time": "2024-04-22T08:46:18.717181Z",
     "start_time": "2024-04-22T08:46:18.623392Z"
    }
   },
   "id": "1e56ac16aa8b31fa",
   "execution_count": 11
  }
 ],
 "metadata": {
  "kernelspec": {
   "display_name": "Python 3",
   "language": "python",
   "name": "python3"
  },
  "language_info": {
   "codemirror_mode": {
    "name": "ipython",
    "version": 2
   },
   "file_extension": ".py",
   "mimetype": "text/x-python",
   "name": "python",
   "nbconvert_exporter": "python",
   "pygments_lexer": "ipython2",
   "version": "2.7.6"
  }
 },
 "nbformat": 4,
 "nbformat_minor": 5
}
