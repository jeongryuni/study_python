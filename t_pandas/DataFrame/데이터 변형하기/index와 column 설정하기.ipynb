{
 "cells": [
  {
   "cell_type": "code",
   "execution_count": 53,
   "id": "initial_id",
   "metadata": {
    "collapsed": true,
    "ExecuteTime": {
     "end_time": "2024-04-22T08:20:24.296245Z",
     "start_time": "2024-04-22T08:20:24.283179Z"
    }
   },
   "outputs": [
    {
     "data": {
      "text/plain": "                position  born  number nationality\nRoberto Firmino       FW  1991   no. 9      Brazil\nSadio Mane            FW  1992  no. 10     Senegal\nMohamed Salah         FW  1992  no. 11       Egypt\nJoe Gomez             DF  1997  no. 12     England\nAlisson Becker        GK  1992  no. 13      Brazil",
      "text/html": "<div>\n<style scoped>\n    .dataframe tbody tr th:only-of-type {\n        vertical-align: middle;\n    }\n\n    .dataframe tbody tr th {\n        vertical-align: top;\n    }\n\n    .dataframe thead th {\n        text-align: right;\n    }\n</style>\n<table border=\"1\" class=\"dataframe\">\n  <thead>\n    <tr style=\"text-align: right;\">\n      <th></th>\n      <th>position</th>\n      <th>born</th>\n      <th>number</th>\n      <th>nationality</th>\n    </tr>\n  </thead>\n  <tbody>\n    <tr>\n      <th>Roberto Firmino</th>\n      <td>FW</td>\n      <td>1991</td>\n      <td>no. 9</td>\n      <td>Brazil</td>\n    </tr>\n    <tr>\n      <th>Sadio Mane</th>\n      <td>FW</td>\n      <td>1992</td>\n      <td>no. 10</td>\n      <td>Senegal</td>\n    </tr>\n    <tr>\n      <th>Mohamed Salah</th>\n      <td>FW</td>\n      <td>1992</td>\n      <td>no. 11</td>\n      <td>Egypt</td>\n    </tr>\n    <tr>\n      <th>Joe Gomez</th>\n      <td>DF</td>\n      <td>1997</td>\n      <td>no. 12</td>\n      <td>England</td>\n    </tr>\n    <tr>\n      <th>Alisson Becker</th>\n      <td>GK</td>\n      <td>1992</td>\n      <td>no. 13</td>\n      <td>Brazil</td>\n    </tr>\n  </tbody>\n</table>\n</div>"
     },
     "execution_count": 53,
     "metadata": {},
     "output_type": "execute_result"
    }
   ],
   "source": [
    "import pandas as pd\n",
    "\n",
    "liverpool_df = pd.read_csv('../data/liverpool.csv', index_col=0)\n",
    "liverpool_df"
   ]
  },
  {
   "cell_type": "code",
   "outputs": [
    {
     "data": {
      "text/plain": "                Position  born  number nationality\nRoberto Firmino       FW  1991   no. 9      Brazil\nSadio Mane            FW  1992  no. 10     Senegal\nMohamed Salah         FW  1992  no. 11       Egypt\nJoe Gomez             DF  1997  no. 12     England\nAlisson Becker        GK  1992  no. 13      Brazil",
      "text/html": "<div>\n<style scoped>\n    .dataframe tbody tr th:only-of-type {\n        vertical-align: middle;\n    }\n\n    .dataframe tbody tr th {\n        vertical-align: top;\n    }\n\n    .dataframe thead th {\n        text-align: right;\n    }\n</style>\n<table border=\"1\" class=\"dataframe\">\n  <thead>\n    <tr style=\"text-align: right;\">\n      <th></th>\n      <th>Position</th>\n      <th>born</th>\n      <th>number</th>\n      <th>nationality</th>\n    </tr>\n  </thead>\n  <tbody>\n    <tr>\n      <th>Roberto Firmino</th>\n      <td>FW</td>\n      <td>1991</td>\n      <td>no. 9</td>\n      <td>Brazil</td>\n    </tr>\n    <tr>\n      <th>Sadio Mane</th>\n      <td>FW</td>\n      <td>1992</td>\n      <td>no. 10</td>\n      <td>Senegal</td>\n    </tr>\n    <tr>\n      <th>Mohamed Salah</th>\n      <td>FW</td>\n      <td>1992</td>\n      <td>no. 11</td>\n      <td>Egypt</td>\n    </tr>\n    <tr>\n      <th>Joe Gomez</th>\n      <td>DF</td>\n      <td>1997</td>\n      <td>no. 12</td>\n      <td>England</td>\n    </tr>\n    <tr>\n      <th>Alisson Becker</th>\n      <td>GK</td>\n      <td>1992</td>\n      <td>no. 13</td>\n      <td>Brazil</td>\n    </tr>\n  </tbody>\n</table>\n</div>"
     },
     "execution_count": 54,
     "metadata": {},
     "output_type": "execute_result"
    }
   ],
   "source": [
    "# 앞글자만 대문자로 바꾸기\n",
    "# inplace = True를 사용해야 기존데이터 값에 변경가능\n",
    "\n",
    "#liverpool_df.rename(columns={'position':'Position'})\n",
    "liverpool_df.rename(columns={'position':'Position'}, inplace=True)\n",
    "liverpool_df"
   ],
   "metadata": {
    "collapsed": false,
    "ExecuteTime": {
     "end_time": "2024-04-22T08:20:24.296898Z",
     "start_time": "2024-04-22T08:20:24.285931Z"
    }
   },
   "id": "ca79633bbe6eab3a",
   "execution_count": 54
  },
  {
   "cell_type": "code",
   "outputs": [
    {
     "data": {
      "text/plain": "                Position  Born  Number Nationality\nRoberto Firmino       FW  1991   no. 9      Brazil\nSadio Mane            FW  1992  no. 10     Senegal\nMohamed Salah         FW  1992  no. 11       Egypt\nJoe Gomez             DF  1997  no. 12     England\nAlisson Becker        GK  1992  no. 13      Brazil",
      "text/html": "<div>\n<style scoped>\n    .dataframe tbody tr th:only-of-type {\n        vertical-align: middle;\n    }\n\n    .dataframe tbody tr th {\n        vertical-align: top;\n    }\n\n    .dataframe thead th {\n        text-align: right;\n    }\n</style>\n<table border=\"1\" class=\"dataframe\">\n  <thead>\n    <tr style=\"text-align: right;\">\n      <th></th>\n      <th>Position</th>\n      <th>Born</th>\n      <th>Number</th>\n      <th>Nationality</th>\n    </tr>\n  </thead>\n  <tbody>\n    <tr>\n      <th>Roberto Firmino</th>\n      <td>FW</td>\n      <td>1991</td>\n      <td>no. 9</td>\n      <td>Brazil</td>\n    </tr>\n    <tr>\n      <th>Sadio Mane</th>\n      <td>FW</td>\n      <td>1992</td>\n      <td>no. 10</td>\n      <td>Senegal</td>\n    </tr>\n    <tr>\n      <th>Mohamed Salah</th>\n      <td>FW</td>\n      <td>1992</td>\n      <td>no. 11</td>\n      <td>Egypt</td>\n    </tr>\n    <tr>\n      <th>Joe Gomez</th>\n      <td>DF</td>\n      <td>1997</td>\n      <td>no. 12</td>\n      <td>England</td>\n    </tr>\n    <tr>\n      <th>Alisson Becker</th>\n      <td>GK</td>\n      <td>1992</td>\n      <td>no. 13</td>\n      <td>Brazil</td>\n    </tr>\n  </tbody>\n</table>\n</div>"
     },
     "execution_count": 55,
     "metadata": {},
     "output_type": "execute_result"
    }
   ],
   "source": [
    "liverpool_df.rename(columns={'position':'Position', 'born':'Born', 'number':'Number', 'nationality':'Nationality'}, inplace=True)\n",
    "liverpool_df"
   ],
   "metadata": {
    "collapsed": false,
    "ExecuteTime": {
     "end_time": "2024-04-22T08:20:24.297199Z",
     "start_time": "2024-04-22T08:20:24.291164Z"
    }
   },
   "id": "2b4da588eb025e56",
   "execution_count": 55
  },
  {
   "cell_type": "code",
   "outputs": [
    {
     "data": {
      "text/plain": "                Position  Born  Number Nationality\nPlayer Name                                       \nRoberto Firmino       FW  1991   no. 9      Brazil\nSadio Mane            FW  1992  no. 10     Senegal\nMohamed Salah         FW  1992  no. 11       Egypt\nJoe Gomez             DF  1997  no. 12     England\nAlisson Becker        GK  1992  no. 13      Brazil",
      "text/html": "<div>\n<style scoped>\n    .dataframe tbody tr th:only-of-type {\n        vertical-align: middle;\n    }\n\n    .dataframe tbody tr th {\n        vertical-align: top;\n    }\n\n    .dataframe thead th {\n        text-align: right;\n    }\n</style>\n<table border=\"1\" class=\"dataframe\">\n  <thead>\n    <tr style=\"text-align: right;\">\n      <th></th>\n      <th>Position</th>\n      <th>Born</th>\n      <th>Number</th>\n      <th>Nationality</th>\n    </tr>\n    <tr>\n      <th>Player Name</th>\n      <th></th>\n      <th></th>\n      <th></th>\n      <th></th>\n    </tr>\n  </thead>\n  <tbody>\n    <tr>\n      <th>Roberto Firmino</th>\n      <td>FW</td>\n      <td>1991</td>\n      <td>no. 9</td>\n      <td>Brazil</td>\n    </tr>\n    <tr>\n      <th>Sadio Mane</th>\n      <td>FW</td>\n      <td>1992</td>\n      <td>no. 10</td>\n      <td>Senegal</td>\n    </tr>\n    <tr>\n      <th>Mohamed Salah</th>\n      <td>FW</td>\n      <td>1992</td>\n      <td>no. 11</td>\n      <td>Egypt</td>\n    </tr>\n    <tr>\n      <th>Joe Gomez</th>\n      <td>DF</td>\n      <td>1997</td>\n      <td>no. 12</td>\n      <td>England</td>\n    </tr>\n    <tr>\n      <th>Alisson Becker</th>\n      <td>GK</td>\n      <td>1992</td>\n      <td>no. 13</td>\n      <td>Brazil</td>\n    </tr>\n  </tbody>\n</table>\n</div>"
     },
     "execution_count": 56,
     "metadata": {},
     "output_type": "execute_result"
    }
   ],
   "source": [
    "# low(인덱스)에 이름 붙이기\n",
    "liverpool_df.index.name = 'Player Name'\n",
    "liverpool_df"
   ],
   "metadata": {
    "collapsed": false,
    "ExecuteTime": {
     "end_time": "2024-04-22T08:20:24.297985Z",
     "start_time": "2024-04-22T08:20:24.295697Z"
    }
   },
   "id": "5adcdc4fdacb637c",
   "execution_count": 56
  },
  {
   "cell_type": "code",
   "outputs": [
    {
     "data": {
      "text/plain": "       Position  Born Nationality\nNumber                           \nno. 9        FW  1991      Brazil\nno. 10       FW  1992     Senegal\nno. 11       FW  1992       Egypt\nno. 12       DF  1997     England\nno. 13       GK  1992      Brazil",
      "text/html": "<div>\n<style scoped>\n    .dataframe tbody tr th:only-of-type {\n        vertical-align: middle;\n    }\n\n    .dataframe tbody tr th {\n        vertical-align: top;\n    }\n\n    .dataframe thead th {\n        text-align: right;\n    }\n</style>\n<table border=\"1\" class=\"dataframe\">\n  <thead>\n    <tr style=\"text-align: right;\">\n      <th></th>\n      <th>Position</th>\n      <th>Born</th>\n      <th>Nationality</th>\n    </tr>\n    <tr>\n      <th>Number</th>\n      <th></th>\n      <th></th>\n      <th></th>\n    </tr>\n  </thead>\n  <tbody>\n    <tr>\n      <th>no. 9</th>\n      <td>FW</td>\n      <td>1991</td>\n      <td>Brazil</td>\n    </tr>\n    <tr>\n      <th>no. 10</th>\n      <td>FW</td>\n      <td>1992</td>\n      <td>Senegal</td>\n    </tr>\n    <tr>\n      <th>no. 11</th>\n      <td>FW</td>\n      <td>1992</td>\n      <td>Egypt</td>\n    </tr>\n    <tr>\n      <th>no. 12</th>\n      <td>DF</td>\n      <td>1997</td>\n      <td>England</td>\n    </tr>\n    <tr>\n      <th>no. 13</th>\n      <td>GK</td>\n      <td>1992</td>\n      <td>Brazil</td>\n    </tr>\n  </tbody>\n</table>\n</div>"
     },
     "execution_count": 57,
     "metadata": {},
     "output_type": "execute_result"
    }
   ],
   "source": [
    "# 인덱스 자체를 변경하기\n",
    "# 선수의 이름이 아닌 등번호로 인덱스로 사용하기\n",
    "liverpool_df.set_index('Number')"
   ],
   "metadata": {
    "collapsed": false,
    "ExecuteTime": {
     "end_time": "2024-04-22T08:20:24.304700Z",
     "start_time": "2024-04-22T08:20:24.300134Z"
    }
   },
   "id": "c1c1e53d5d883714",
   "execution_count": 57
  },
  {
   "cell_type": "code",
   "outputs": [
    {
     "data": {
      "text/plain": "Index(['Roberto Firmino', 'Sadio Mane', 'Mohamed Salah', 'Joe Gomez',\n       'Alisson Becker'],\n      dtype='object', name='Player Name')"
     },
     "execution_count": 58,
     "metadata": {},
     "output_type": "execute_result"
    }
   ],
   "source": [
    "# 기존 인덱스가 날아가기 때문에\n",
    "# 기존 인덱스는 새로운 컬럼으로 지정해줘야 한다.\n",
    "liverpool_df.index"
   ],
   "metadata": {
    "collapsed": false,
    "ExecuteTime": {
     "end_time": "2024-04-22T08:20:24.314468Z",
     "start_time": "2024-04-22T08:20:24.303164Z"
    }
   },
   "id": "8f59516e72bfe312",
   "execution_count": 58
  },
  {
   "cell_type": "code",
   "outputs": [],
   "source": [
    "liverpool_df['Player Name'] = liverpool_df.index"
   ],
   "metadata": {
    "collapsed": false,
    "ExecuteTime": {
     "end_time": "2024-04-22T08:20:24.325196Z",
     "start_time": "2024-04-22T08:20:24.306019Z"
    }
   },
   "id": "1c32155a1b87cc41",
   "execution_count": 59
  },
  {
   "cell_type": "code",
   "outputs": [
    {
     "data": {
      "text/plain": "                Position  Born  Number Nationality      Player Name\nPlayer Name                                                        \nRoberto Firmino       FW  1991   no. 9      Brazil  Roberto Firmino\nSadio Mane            FW  1992  no. 10     Senegal       Sadio Mane\nMohamed Salah         FW  1992  no. 11       Egypt    Mohamed Salah\nJoe Gomez             DF  1997  no. 12     England        Joe Gomez\nAlisson Becker        GK  1992  no. 13      Brazil   Alisson Becker",
      "text/html": "<div>\n<style scoped>\n    .dataframe tbody tr th:only-of-type {\n        vertical-align: middle;\n    }\n\n    .dataframe tbody tr th {\n        vertical-align: top;\n    }\n\n    .dataframe thead th {\n        text-align: right;\n    }\n</style>\n<table border=\"1\" class=\"dataframe\">\n  <thead>\n    <tr style=\"text-align: right;\">\n      <th></th>\n      <th>Position</th>\n      <th>Born</th>\n      <th>Number</th>\n      <th>Nationality</th>\n      <th>Player Name</th>\n    </tr>\n    <tr>\n      <th>Player Name</th>\n      <th></th>\n      <th></th>\n      <th></th>\n      <th></th>\n      <th></th>\n    </tr>\n  </thead>\n  <tbody>\n    <tr>\n      <th>Roberto Firmino</th>\n      <td>FW</td>\n      <td>1991</td>\n      <td>no. 9</td>\n      <td>Brazil</td>\n      <td>Roberto Firmino</td>\n    </tr>\n    <tr>\n      <th>Sadio Mane</th>\n      <td>FW</td>\n      <td>1992</td>\n      <td>no. 10</td>\n      <td>Senegal</td>\n      <td>Sadio Mane</td>\n    </tr>\n    <tr>\n      <th>Mohamed Salah</th>\n      <td>FW</td>\n      <td>1992</td>\n      <td>no. 11</td>\n      <td>Egypt</td>\n      <td>Mohamed Salah</td>\n    </tr>\n    <tr>\n      <th>Joe Gomez</th>\n      <td>DF</td>\n      <td>1997</td>\n      <td>no. 12</td>\n      <td>England</td>\n      <td>Joe Gomez</td>\n    </tr>\n    <tr>\n      <th>Alisson Becker</th>\n      <td>GK</td>\n      <td>1992</td>\n      <td>no. 13</td>\n      <td>Brazil</td>\n      <td>Alisson Becker</td>\n    </tr>\n  </tbody>\n</table>\n</div>"
     },
     "execution_count": 60,
     "metadata": {},
     "output_type": "execute_result"
    }
   ],
   "source": [
    "liverpool_df"
   ],
   "metadata": {
    "collapsed": false,
    "ExecuteTime": {
     "end_time": "2024-04-22T08:20:24.363402Z",
     "start_time": "2024-04-22T08:20:24.310182Z"
    }
   },
   "id": "f658254c033a2369",
   "execution_count": 60
  },
  {
   "cell_type": "code",
   "outputs": [
    {
     "data": {
      "text/plain": "       Position  Born Nationality      Player Name\nNumber                                            \nno. 9        FW  1991      Brazil  Roberto Firmino\nno. 10       FW  1992     Senegal       Sadio Mane\nno. 11       FW  1992       Egypt    Mohamed Salah\nno. 12       DF  1997     England        Joe Gomez\nno. 13       GK  1992      Brazil   Alisson Becker",
      "text/html": "<div>\n<style scoped>\n    .dataframe tbody tr th:only-of-type {\n        vertical-align: middle;\n    }\n\n    .dataframe tbody tr th {\n        vertical-align: top;\n    }\n\n    .dataframe thead th {\n        text-align: right;\n    }\n</style>\n<table border=\"1\" class=\"dataframe\">\n  <thead>\n    <tr style=\"text-align: right;\">\n      <th></th>\n      <th>Position</th>\n      <th>Born</th>\n      <th>Nationality</th>\n      <th>Player Name</th>\n    </tr>\n    <tr>\n      <th>Number</th>\n      <th></th>\n      <th></th>\n      <th></th>\n      <th></th>\n    </tr>\n  </thead>\n  <tbody>\n    <tr>\n      <th>no. 9</th>\n      <td>FW</td>\n      <td>1991</td>\n      <td>Brazil</td>\n      <td>Roberto Firmino</td>\n    </tr>\n    <tr>\n      <th>no. 10</th>\n      <td>FW</td>\n      <td>1992</td>\n      <td>Senegal</td>\n      <td>Sadio Mane</td>\n    </tr>\n    <tr>\n      <th>no. 11</th>\n      <td>FW</td>\n      <td>1992</td>\n      <td>Egypt</td>\n      <td>Mohamed Salah</td>\n    </tr>\n    <tr>\n      <th>no. 12</th>\n      <td>DF</td>\n      <td>1997</td>\n      <td>England</td>\n      <td>Joe Gomez</td>\n    </tr>\n    <tr>\n      <th>no. 13</th>\n      <td>GK</td>\n      <td>1992</td>\n      <td>Brazil</td>\n      <td>Alisson Becker</td>\n    </tr>\n  </tbody>\n</table>\n</div>"
     },
     "execution_count": 61,
     "metadata": {},
     "output_type": "execute_result"
    }
   ],
   "source": [
    "liverpool_df.set_index('Number')"
   ],
   "metadata": {
    "collapsed": false,
    "ExecuteTime": {
     "end_time": "2024-04-22T08:20:24.363990Z",
     "start_time": "2024-04-22T08:20:24.314483Z"
    }
   },
   "id": "2a7330b9f911ed29",
   "execution_count": 61
  },
  {
   "cell_type": "code",
   "outputs": [
    {
     "data": {
      "text/plain": "                Position  Born  Number Nationality      Player Name\nPlayer Name                                                        \nRoberto Firmino       FW  1991   no. 9      Brazil  Roberto Firmino\nSadio Mane            FW  1992  no. 10     Senegal       Sadio Mane\nMohamed Salah         FW  1992  no. 11       Egypt    Mohamed Salah\nJoe Gomez             DF  1997  no. 12     England        Joe Gomez\nAlisson Becker        GK  1992  no. 13      Brazil   Alisson Becker",
      "text/html": "<div>\n<style scoped>\n    .dataframe tbody tr th:only-of-type {\n        vertical-align: middle;\n    }\n\n    .dataframe tbody tr th {\n        vertical-align: top;\n    }\n\n    .dataframe thead th {\n        text-align: right;\n    }\n</style>\n<table border=\"1\" class=\"dataframe\">\n  <thead>\n    <tr style=\"text-align: right;\">\n      <th></th>\n      <th>Position</th>\n      <th>Born</th>\n      <th>Number</th>\n      <th>Nationality</th>\n      <th>Player Name</th>\n    </tr>\n    <tr>\n      <th>Player Name</th>\n      <th></th>\n      <th></th>\n      <th></th>\n      <th></th>\n      <th></th>\n    </tr>\n  </thead>\n  <tbody>\n    <tr>\n      <th>Roberto Firmino</th>\n      <td>FW</td>\n      <td>1991</td>\n      <td>no. 9</td>\n      <td>Brazil</td>\n      <td>Roberto Firmino</td>\n    </tr>\n    <tr>\n      <th>Sadio Mane</th>\n      <td>FW</td>\n      <td>1992</td>\n      <td>no. 10</td>\n      <td>Senegal</td>\n      <td>Sadio Mane</td>\n    </tr>\n    <tr>\n      <th>Mohamed Salah</th>\n      <td>FW</td>\n      <td>1992</td>\n      <td>no. 11</td>\n      <td>Egypt</td>\n      <td>Mohamed Salah</td>\n    </tr>\n    <tr>\n      <th>Joe Gomez</th>\n      <td>DF</td>\n      <td>1997</td>\n      <td>no. 12</td>\n      <td>England</td>\n      <td>Joe Gomez</td>\n    </tr>\n    <tr>\n      <th>Alisson Becker</th>\n      <td>GK</td>\n      <td>1992</td>\n      <td>no. 13</td>\n      <td>Brazil</td>\n      <td>Alisson Becker</td>\n    </tr>\n  </tbody>\n</table>\n</div>"
     },
     "execution_count": 62,
     "metadata": {},
     "output_type": "execute_result"
    }
   ],
   "source": [
    "liverpool_df"
   ],
   "metadata": {
    "collapsed": false,
    "ExecuteTime": {
     "end_time": "2024-04-22T08:20:24.378974Z",
     "start_time": "2024-04-22T08:20:24.318277Z"
    }
   },
   "id": "3e16e6b45b753a9a",
   "execution_count": 62
  },
  {
   "cell_type": "code",
   "outputs": [
    {
     "data": {
      "text/plain": "       Position  Born Nationality      Player Name\nNumber                                            \nno. 9        FW  1991      Brazil  Roberto Firmino\nno. 10       FW  1992     Senegal       Sadio Mane\nno. 11       FW  1992       Egypt    Mohamed Salah\nno. 12       DF  1997     England        Joe Gomez\nno. 13       GK  1992      Brazil   Alisson Becker",
      "text/html": "<div>\n<style scoped>\n    .dataframe tbody tr th:only-of-type {\n        vertical-align: middle;\n    }\n\n    .dataframe tbody tr th {\n        vertical-align: top;\n    }\n\n    .dataframe thead th {\n        text-align: right;\n    }\n</style>\n<table border=\"1\" class=\"dataframe\">\n  <thead>\n    <tr style=\"text-align: right;\">\n      <th></th>\n      <th>Position</th>\n      <th>Born</th>\n      <th>Nationality</th>\n      <th>Player Name</th>\n    </tr>\n    <tr>\n      <th>Number</th>\n      <th></th>\n      <th></th>\n      <th></th>\n      <th></th>\n    </tr>\n  </thead>\n  <tbody>\n    <tr>\n      <th>no. 9</th>\n      <td>FW</td>\n      <td>1991</td>\n      <td>Brazil</td>\n      <td>Roberto Firmino</td>\n    </tr>\n    <tr>\n      <th>no. 10</th>\n      <td>FW</td>\n      <td>1992</td>\n      <td>Senegal</td>\n      <td>Sadio Mane</td>\n    </tr>\n    <tr>\n      <th>no. 11</th>\n      <td>FW</td>\n      <td>1992</td>\n      <td>Egypt</td>\n      <td>Mohamed Salah</td>\n    </tr>\n    <tr>\n      <th>no. 12</th>\n      <td>DF</td>\n      <td>1997</td>\n      <td>England</td>\n      <td>Joe Gomez</td>\n    </tr>\n    <tr>\n      <th>no. 13</th>\n      <td>GK</td>\n      <td>1992</td>\n      <td>Brazil</td>\n      <td>Alisson Becker</td>\n    </tr>\n  </tbody>\n</table>\n</div>"
     },
     "execution_count": 63,
     "metadata": {},
     "output_type": "execute_result"
    }
   ],
   "source": [
    "# set_index도 inplace를 사용해줘야 기존값을 변경\n",
    "liverpool_df.set_index('Number', inplace=True)\n",
    "liverpool_df"
   ],
   "metadata": {
    "collapsed": false,
    "ExecuteTime": {
     "end_time": "2024-04-22T08:20:24.379659Z",
     "start_time": "2024-04-22T08:20:24.322480Z"
    }
   },
   "id": "b58447c1dcd48e78",
   "execution_count": 63
  },
  {
   "cell_type": "code",
   "outputs": [],
   "source": [],
   "metadata": {
    "collapsed": false,
    "ExecuteTime": {
     "end_time": "2024-04-22T08:20:24.383784Z",
     "start_time": "2024-04-22T08:20:24.324412Z"
    }
   },
   "id": "514d3b9cfdefe960",
   "execution_count": 63
  }
 ],
 "metadata": {
  "kernelspec": {
   "display_name": "Python 3",
   "language": "python",
   "name": "python3"
  },
  "language_info": {
   "codemirror_mode": {
    "name": "ipython",
    "version": 2
   },
   "file_extension": ".py",
   "mimetype": "text/x-python",
   "name": "python",
   "nbconvert_exporter": "python",
   "pygments_lexer": "ipython2",
   "version": "2.7.6"
  }
 },
 "nbformat": 4,
 "nbformat_minor": 5
}
